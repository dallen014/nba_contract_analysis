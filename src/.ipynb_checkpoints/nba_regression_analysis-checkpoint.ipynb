{
 "cells": [
  {
   "cell_type": "markdown",
   "metadata": {},
   "source": [
    "## Factors impacting an NBA players 2023-2024 guaranteed contract value analysis notebook.\n",
    "**What data are we exploring?**<br>\n",
    "I am interested in sports analytics, and my favorite sport is basketball, so I used player performance stats from the last 5 NBA seasons. I wrote custom functions that leverage player names and IDs to pull stats from the NBA_API. After executing the functions and merging the returned dataframes, we have a dataset that contains 476 rows and 21 columns. The columns represent standard NBA performance metrics such as:\n",
    "- total points\n",
    "- total steals\n",
    "- total assists\n",
    "- etc.<br>\n",
    "\n",
    "This notebook aims to inform players and their management firms if or how player performance impacts contract value and focus on visualization and analysis. ***The data collection and pre-processing was completed in a separate notebook to maintain clarity as you follow along.***\n"
   ]
  },
  {
   "cell_type": "markdown",
   "metadata": {},
   "source": [
    "### 1. Import libraries required for the analysis"
   ]
  },
  {
   "cell_type": "markdown",
   "metadata": {},
   "source": [
    "Below is a list of libraries used to analyze and visualize the data."
   ]
  },
  {
   "cell_type": "code",
   "execution_count": 1,
   "metadata": {},
   "outputs": [
    {
     "name": "stderr",
     "output_type": "stream",
     "text": [
      "C:\\Users\\toobr\\AppData\\Local\\Temp\\ipykernel_20972\\163124241.py:3: DeprecationWarning: \n",
      "Pyarrow will become a required dependency of pandas in the next major release of pandas (pandas 3.0),\n",
      "(to allow more performant data types, such as the Arrow string type, and better interoperability with other libraries)\n",
      "but was not found to be installed on your system.\n",
      "If this would cause problems for you,\n",
      "please provide us feedback at https://github.com/pandas-dev/pandas/issues/54466\n",
      "        \n",
      "  import pandas as pd\n"
     ]
    }
   ],
   "source": [
    "import math\n",
    "import numpy as np\n",
    "import pandas as pd\n",
    "import plotly\n",
    "import plotly.express as px\n",
    "from sklearn.preprocessing import StandardScaler\n",
    "import statsmodels.api as sm\n",
    "import sys\n",
    "import warnings\n",
    "\n",
    "pd.set_option('display.max_columns', None)\n",
    "pd.set_option('display.max_rows', None)\n",
    "warnings.simplefilter(action='ignore', category=FutureWarning)"
   ]
  },
  {
   "cell_type": "markdown",
   "metadata": {},
   "source": [
    "### 1. Load Data For Exploratory Analysis"
   ]
  },
  {
   "cell_type": "code",
   "execution_count": 2,
   "metadata": {},
   "outputs": [
    {
     "data": {
      "text/html": [
       "<div>\n",
       "<style scoped>\n",
       "    .dataframe tbody tr th:only-of-type {\n",
       "        vertical-align: middle;\n",
       "    }\n",
       "\n",
       "    .dataframe tbody tr th {\n",
       "        vertical-align: top;\n",
       "    }\n",
       "\n",
       "    .dataframe thead th {\n",
       "        text-align: right;\n",
       "    }\n",
       "</style>\n",
       "<table border=\"1\" class=\"dataframe\">\n",
       "  <thead>\n",
       "    <tr style=\"text-align: right;\">\n",
       "      <th></th>\n",
       "      <th>Current_Contract</th>\n",
       "      <th>First_Name</th>\n",
       "      <th>Last_Name</th>\n",
       "      <th>PLAYER_ID</th>\n",
       "      <th>GP</th>\n",
       "      <th>GS</th>\n",
       "      <th>MIN</th>\n",
       "      <th>FGM</th>\n",
       "      <th>FGA</th>\n",
       "      <th>FG3M</th>\n",
       "      <th>FG3A</th>\n",
       "      <th>FTM</th>\n",
       "      <th>FTA</th>\n",
       "      <th>OREB</th>\n",
       "      <th>DREB</th>\n",
       "      <th>AST</th>\n",
       "      <th>STL</th>\n",
       "      <th>BLK</th>\n",
       "      <th>TOV</th>\n",
       "      <th>PF</th>\n",
       "      <th>PTS</th>\n",
       "    </tr>\n",
       "  </thead>\n",
       "  <tbody>\n",
       "    <tr>\n",
       "      <th>0</th>\n",
       "      <td>51915615.0</td>\n",
       "      <td>stephen</td>\n",
       "      <td>curry</td>\n",
       "      <td>201939</td>\n",
       "      <td>257</td>\n",
       "      <td>257</td>\n",
       "      <td>8774.0</td>\n",
       "      <td>2417</td>\n",
       "      <td>5144</td>\n",
       "      <td>1261</td>\n",
       "      <td>3049</td>\n",
       "      <td>1183</td>\n",
       "      <td>1287</td>\n",
       "      <td>151</td>\n",
       "      <td>1265</td>\n",
       "      <td>1513</td>\n",
       "      <td>311</td>\n",
       "      <td>78</td>\n",
       "      <td>806</td>\n",
       "      <td>543</td>\n",
       "      <td>7278</td>\n",
       "    </tr>\n",
       "    <tr>\n",
       "      <th>1</th>\n",
       "      <td>47649433.0</td>\n",
       "      <td>kevin</td>\n",
       "      <td>durant</td>\n",
       "      <td>201142</td>\n",
       "      <td>184</td>\n",
       "      <td>181</td>\n",
       "      <td>6548.0</td>\n",
       "      <td>1868</td>\n",
       "      <td>3442</td>\n",
       "      <td>386</td>\n",
       "      <td>949</td>\n",
       "      <td>1196</td>\n",
       "      <td>1315</td>\n",
       "      <td>76</td>\n",
       "      <td>1204</td>\n",
       "      <td>1016</td>\n",
       "      <td>141</td>\n",
       "      <td>231</td>\n",
       "      <td>623</td>\n",
       "      <td>381</td>\n",
       "      <td>5318</td>\n",
       "    </tr>\n",
       "    <tr>\n",
       "      <th>2</th>\n",
       "      <td>47607350.0</td>\n",
       "      <td>nikola</td>\n",
       "      <td>jokic</td>\n",
       "      <td>203999</td>\n",
       "      <td>368</td>\n",
       "      <td>368</td>\n",
       "      <td>12126.0</td>\n",
       "      <td>3323</td>\n",
       "      <td>5903</td>\n",
       "      <td>409</td>\n",
       "      <td>1199</td>\n",
       "      <td>1597</td>\n",
       "      <td>1930</td>\n",
       "      <td>972</td>\n",
       "      <td>3220</td>\n",
       "      <td>2953</td>\n",
       "      <td>484</td>\n",
       "      <td>257</td>\n",
       "      <td>1224</td>\n",
       "      <td>1007</td>\n",
       "      <td>8652</td>\n",
       "    </tr>\n",
       "    <tr>\n",
       "      <th>3</th>\n",
       "      <td>47607350.0</td>\n",
       "      <td>joel</td>\n",
       "      <td>embiid</td>\n",
       "      <td>203954</td>\n",
       "      <td>300</td>\n",
       "      <td>300</td>\n",
       "      <td>9825.0</td>\n",
       "      <td>2817</td>\n",
       "      <td>5561</td>\n",
       "      <td>353</td>\n",
       "      <td>1040</td>\n",
       "      <td>2659</td>\n",
       "      <td>3206</td>\n",
       "      <td>673</td>\n",
       "      <td>2796</td>\n",
       "      <td>1089</td>\n",
       "      <td>284</td>\n",
       "      <td>467</td>\n",
       "      <td>984</td>\n",
       "      <td>894</td>\n",
       "      <td>8646</td>\n",
       "    </tr>\n",
       "    <tr>\n",
       "      <th>4</th>\n",
       "      <td>47607350.0</td>\n",
       "      <td>lebron</td>\n",
       "      <td>james</td>\n",
       "      <td>2544</td>\n",
       "      <td>278</td>\n",
       "      <td>277</td>\n",
       "      <td>9795.0</td>\n",
       "      <td>2872</td>\n",
       "      <td>5661</td>\n",
       "      <td>645</td>\n",
       "      <td>1862</td>\n",
       "      <td>1225</td>\n",
       "      <td>1717</td>\n",
       "      <td>280</td>\n",
       "      <td>1972</td>\n",
       "      <td>2212</td>\n",
       "      <td>321</td>\n",
       "      <td>185</td>\n",
       "      <td>1000</td>\n",
       "      <td>491</td>\n",
       "      <td>7614</td>\n",
       "    </tr>\n",
       "  </tbody>\n",
       "</table>\n",
       "</div>"
      ],
      "text/plain": [
       "   Current_Contract First_Name Last_Name  PLAYER_ID   GP   GS      MIN   FGM  \\\n",
       "0        51915615.0    stephen     curry     201939  257  257   8774.0  2417   \n",
       "1        47649433.0      kevin    durant     201142  184  181   6548.0  1868   \n",
       "2        47607350.0     nikola     jokic     203999  368  368  12126.0  3323   \n",
       "3        47607350.0       joel    embiid     203954  300  300   9825.0  2817   \n",
       "4        47607350.0     lebron     james       2544  278  277   9795.0  2872   \n",
       "\n",
       "    FGA  FG3M  FG3A   FTM   FTA  OREB  DREB   AST  STL  BLK   TOV    PF   PTS  \n",
       "0  5144  1261  3049  1183  1287   151  1265  1513  311   78   806   543  7278  \n",
       "1  3442   386   949  1196  1315    76  1204  1016  141  231   623   381  5318  \n",
       "2  5903   409  1199  1597  1930   972  3220  2953  484  257  1224  1007  8652  \n",
       "3  5561   353  1040  2659  3206   673  2796  1089  284  467   984   894  8646  \n",
       "4  5661   645  1862  1225  1717   280  1972  2212  321  185  1000   491  7614  "
      ]
     },
     "execution_count": 2,
     "metadata": {},
     "output_type": "execute_result"
    }
   ],
   "source": [
    "#read in pre-processed file and view sample\n",
    "preprocessed_data = pd.read_csv('../data/nba_regression_analysis_df.csv')\n",
    "preprocessed_data.head()"
   ]
  },
  {
   "cell_type": "markdown",
   "metadata": {},
   "source": [
    "The purpose of exploratory analysis is to understand the properties of the data, discover patterns, and determine is there are additional data quality issues that need to be addressed.\n"
   ]
  },
  {
   "cell_type": "code",
   "execution_count": 3,
   "metadata": {},
   "outputs": [
    {
     "name": "stdout",
     "output_type": "stream",
     "text": [
      "<class 'pandas.core.frame.DataFrame'>\n",
      "RangeIndex: 419 entries, 0 to 418\n",
      "Data columns (total 21 columns):\n",
      " #   Column            Non-Null Count  Dtype  \n",
      "---  ------            --------------  -----  \n",
      " 0   Current_Contract  419 non-null    float64\n",
      " 1   First_Name        419 non-null    object \n",
      " 2   Last_Name         419 non-null    object \n",
      " 3   PLAYER_ID         419 non-null    int64  \n",
      " 4   GP                419 non-null    int64  \n",
      " 5   GS                419 non-null    int64  \n",
      " 6   MIN               419 non-null    float64\n",
      " 7   FGM               419 non-null    int64  \n",
      " 8   FGA               419 non-null    int64  \n",
      " 9   FG3M              419 non-null    int64  \n",
      " 10  FG3A              419 non-null    int64  \n",
      " 11  FTM               419 non-null    int64  \n",
      " 12  FTA               419 non-null    int64  \n",
      " 13  OREB              419 non-null    int64  \n",
      " 14  DREB              419 non-null    int64  \n",
      " 15  AST               419 non-null    int64  \n",
      " 16  STL               419 non-null    int64  \n",
      " 17  BLK               419 non-null    int64  \n",
      " 18  TOV               419 non-null    int64  \n",
      " 19  PF                419 non-null    int64  \n",
      " 20  PTS               419 non-null    int64  \n",
      "dtypes: float64(2), int64(17), object(2)\n",
      "memory usage: 68.9+ KB\n"
     ]
    }
   ],
   "source": [
    "#confirm datatypes\n",
    "preprocessed_data.info()"
   ]
  },
  {
   "cell_type": "code",
   "execution_count": 4,
   "metadata": {},
   "outputs": [],
   "source": [
    "#convert Player ID to string \n",
    "preprocessed_data['PLAYER_ID'] = preprocessed_data['PLAYER_ID'].astype(str)"
   ]
  },
  {
   "cell_type": "code",
   "execution_count": 5,
   "metadata": {},
   "outputs": [
    {
     "data": {
      "text/html": [
       "<div>\n",
       "<style scoped>\n",
       "    .dataframe tbody tr th:only-of-type {\n",
       "        vertical-align: middle;\n",
       "    }\n",
       "\n",
       "    .dataframe tbody tr th {\n",
       "        vertical-align: top;\n",
       "    }\n",
       "\n",
       "    .dataframe thead th {\n",
       "        text-align: right;\n",
       "    }\n",
       "</style>\n",
       "<table border=\"1\" class=\"dataframe\">\n",
       "  <thead>\n",
       "    <tr style=\"text-align: right;\">\n",
       "      <th></th>\n",
       "      <th>Current_Contract</th>\n",
       "      <th>GP</th>\n",
       "      <th>GS</th>\n",
       "      <th>MIN</th>\n",
       "      <th>FGM</th>\n",
       "      <th>FGA</th>\n",
       "      <th>FG3M</th>\n",
       "      <th>FG3A</th>\n",
       "      <th>FTM</th>\n",
       "      <th>FTA</th>\n",
       "      <th>OREB</th>\n",
       "      <th>DREB</th>\n",
       "      <th>AST</th>\n",
       "      <th>STL</th>\n",
       "      <th>BLK</th>\n",
       "      <th>TOV</th>\n",
       "      <th>PF</th>\n",
       "      <th>PTS</th>\n",
       "    </tr>\n",
       "  </thead>\n",
       "  <tbody>\n",
       "    <tr>\n",
       "      <th>count</th>\n",
       "      <td>419.0</td>\n",
       "      <td>419.0</td>\n",
       "      <td>419.0</td>\n",
       "      <td>419.0</td>\n",
       "      <td>419.0</td>\n",
       "      <td>419.0</td>\n",
       "      <td>419.0</td>\n",
       "      <td>419.0</td>\n",
       "      <td>419.0</td>\n",
       "      <td>419.0</td>\n",
       "      <td>419.0</td>\n",
       "      <td>419.0</td>\n",
       "      <td>419.0</td>\n",
       "      <td>419.0</td>\n",
       "      <td>419.0</td>\n",
       "      <td>419.0</td>\n",
       "      <td>419.0</td>\n",
       "      <td>419.0</td>\n",
       "    </tr>\n",
       "    <tr>\n",
       "      <th>mean</th>\n",
       "      <td>11052897.0</td>\n",
       "      <td>198.0</td>\n",
       "      <td>112.0</td>\n",
       "      <td>4929.0</td>\n",
       "      <td>876.0</td>\n",
       "      <td>1859.0</td>\n",
       "      <td>254.0</td>\n",
       "      <td>700.0</td>\n",
       "      <td>383.0</td>\n",
       "      <td>490.0</td>\n",
       "      <td>209.0</td>\n",
       "      <td>701.0</td>\n",
       "      <td>536.0</td>\n",
       "      <td>155.0</td>\n",
       "      <td>100.0</td>\n",
       "      <td>283.0</td>\n",
       "      <td>396.0</td>\n",
       "      <td>2390.0</td>\n",
       "    </tr>\n",
       "    <tr>\n",
       "      <th>std</th>\n",
       "      <td>11670322.0</td>\n",
       "      <td>94.0</td>\n",
       "      <td>105.0</td>\n",
       "      <td>3235.0</td>\n",
       "      <td>735.0</td>\n",
       "      <td>1539.0</td>\n",
       "      <td>253.0</td>\n",
       "      <td>664.0</td>\n",
       "      <td>428.0</td>\n",
       "      <td>530.0</td>\n",
       "      <td>209.0</td>\n",
       "      <td>588.0</td>\n",
       "      <td>572.0</td>\n",
       "      <td>118.0</td>\n",
       "      <td>108.0</td>\n",
       "      <td>255.0</td>\n",
       "      <td>249.0</td>\n",
       "      <td>2048.0</td>\n",
       "    </tr>\n",
       "    <tr>\n",
       "      <th>min</th>\n",
       "      <td>92857.0</td>\n",
       "      <td>10.0</td>\n",
       "      <td>0.0</td>\n",
       "      <td>62.0</td>\n",
       "      <td>7.0</td>\n",
       "      <td>19.0</td>\n",
       "      <td>0.0</td>\n",
       "      <td>0.0</td>\n",
       "      <td>0.0</td>\n",
       "      <td>0.0</td>\n",
       "      <td>1.0</td>\n",
       "      <td>9.0</td>\n",
       "      <td>4.0</td>\n",
       "      <td>0.0</td>\n",
       "      <td>0.0</td>\n",
       "      <td>2.0</td>\n",
       "      <td>8.0</td>\n",
       "      <td>21.0</td>\n",
       "    </tr>\n",
       "    <tr>\n",
       "      <th>25%</th>\n",
       "      <td>2368860.0</td>\n",
       "      <td>123.0</td>\n",
       "      <td>20.0</td>\n",
       "      <td>2127.0</td>\n",
       "      <td>319.0</td>\n",
       "      <td>683.0</td>\n",
       "      <td>46.0</td>\n",
       "      <td>150.0</td>\n",
       "      <td>98.0</td>\n",
       "      <td>136.0</td>\n",
       "      <td>72.0</td>\n",
       "      <td>262.0</td>\n",
       "      <td>135.0</td>\n",
       "      <td>56.0</td>\n",
       "      <td>32.0</td>\n",
       "      <td>98.0</td>\n",
       "      <td>184.0</td>\n",
       "      <td>830.0</td>\n",
       "    </tr>\n",
       "    <tr>\n",
       "      <th>50%</th>\n",
       "      <td>6175000.0</td>\n",
       "      <td>206.0</td>\n",
       "      <td>72.0</td>\n",
       "      <td>4634.0</td>\n",
       "      <td>684.0</td>\n",
       "      <td>1428.0</td>\n",
       "      <td>163.0</td>\n",
       "      <td>486.0</td>\n",
       "      <td>246.0</td>\n",
       "      <td>322.0</td>\n",
       "      <td>145.0</td>\n",
       "      <td>571.0</td>\n",
       "      <td>341.0</td>\n",
       "      <td>136.0</td>\n",
       "      <td>63.0</td>\n",
       "      <td>213.0</td>\n",
       "      <td>375.0</td>\n",
       "      <td>1808.0</td>\n",
       "    </tr>\n",
       "    <tr>\n",
       "      <th>75%</th>\n",
       "      <td>15552322.0</td>\n",
       "      <td>273.0</td>\n",
       "      <td>199.0</td>\n",
       "      <td>7444.0</td>\n",
       "      <td>1236.0</td>\n",
       "      <td>2788.0</td>\n",
       "      <td>426.0</td>\n",
       "      <td>1154.0</td>\n",
       "      <td>524.0</td>\n",
       "      <td>646.0</td>\n",
       "      <td>266.0</td>\n",
       "      <td>958.0</td>\n",
       "      <td>726.0</td>\n",
       "      <td>220.0</td>\n",
       "      <td>135.0</td>\n",
       "      <td>390.0</td>\n",
       "      <td>572.0</td>\n",
       "      <td>3424.0</td>\n",
       "    </tr>\n",
       "    <tr>\n",
       "      <th>max</th>\n",
       "      <td>51915615.0</td>\n",
       "      <td>377.0</td>\n",
       "      <td>368.0</td>\n",
       "      <td>12485.0</td>\n",
       "      <td>3428.0</td>\n",
       "      <td>6741.0</td>\n",
       "      <td>1261.0</td>\n",
       "      <td>3049.0</td>\n",
       "      <td>2659.0</td>\n",
       "      <td>3434.0</td>\n",
       "      <td>1374.0</td>\n",
       "      <td>3448.0</td>\n",
       "      <td>3285.0</td>\n",
       "      <td>559.0</td>\n",
       "      <td>748.0</td>\n",
       "      <td>1461.0</td>\n",
       "      <td>1087.0</td>\n",
       "      <td>9529.0</td>\n",
       "    </tr>\n",
       "  </tbody>\n",
       "</table>\n",
       "</div>"
      ],
      "text/plain": [
       "       Current_Contract     GP     GS      MIN     FGM     FGA    FG3M  \\\n",
       "count             419.0  419.0  419.0    419.0   419.0   419.0   419.0   \n",
       "mean         11052897.0  198.0  112.0   4929.0   876.0  1859.0   254.0   \n",
       "std          11670322.0   94.0  105.0   3235.0   735.0  1539.0   253.0   \n",
       "min             92857.0   10.0    0.0     62.0     7.0    19.0     0.0   \n",
       "25%           2368860.0  123.0   20.0   2127.0   319.0   683.0    46.0   \n",
       "50%           6175000.0  206.0   72.0   4634.0   684.0  1428.0   163.0   \n",
       "75%          15552322.0  273.0  199.0   7444.0  1236.0  2788.0   426.0   \n",
       "max          51915615.0  377.0  368.0  12485.0  3428.0  6741.0  1261.0   \n",
       "\n",
       "         FG3A     FTM     FTA    OREB    DREB     AST    STL    BLK     TOV  \\\n",
       "count   419.0   419.0   419.0   419.0   419.0   419.0  419.0  419.0   419.0   \n",
       "mean    700.0   383.0   490.0   209.0   701.0   536.0  155.0  100.0   283.0   \n",
       "std     664.0   428.0   530.0   209.0   588.0   572.0  118.0  108.0   255.0   \n",
       "min       0.0     0.0     0.0     1.0     9.0     4.0    0.0    0.0     2.0   \n",
       "25%     150.0    98.0   136.0    72.0   262.0   135.0   56.0   32.0    98.0   \n",
       "50%     486.0   246.0   322.0   145.0   571.0   341.0  136.0   63.0   213.0   \n",
       "75%    1154.0   524.0   646.0   266.0   958.0   726.0  220.0  135.0   390.0   \n",
       "max    3049.0  2659.0  3434.0  1374.0  3448.0  3285.0  559.0  748.0  1461.0   \n",
       "\n",
       "           PF     PTS  \n",
       "count   419.0   419.0  \n",
       "mean    396.0  2390.0  \n",
       "std     249.0  2048.0  \n",
       "min       8.0    21.0  \n",
       "25%     184.0   830.0  \n",
       "50%     375.0  1808.0  \n",
       "75%     572.0  3424.0  \n",
       "max    1087.0  9529.0  "
      ]
     },
     "execution_count": 5,
     "metadata": {},
     "output_type": "execute_result"
    }
   ],
   "source": [
    "#review the summary statisitcs\n",
    "preprocessed_data.describe().round()"
   ]
  },
  {
   "cell_type": "markdown",
   "metadata": {},
   "source": [
    "I'm curious about the following and will use visualizations to dig deeper:\n",
    "- How many games have the top earners played?\n",
    "- How does the number of games played relate to contract values?\n",
    "- How does the number of games started relate to contract values?"
   ]
  },
  {
   "cell_type": "code",
   "execution_count": 6,
   "metadata": {},
   "outputs": [
    {
     "data": {
      "application/vnd.plotly.v1+json": {
       "config": {
        "plotlyServerURL": "https://plot.ly"
       },
       "data": [
        {
         "alignmentgroup": "True",
         "hovertemplate": "Number of Games Played Over 5 Seasons=%{x}<br>Player Name=%{y}<extra></extra>",
         "legendgroup": "",
         "marker": {
          "color": "#636efa",
          "pattern": {
           "shape": ""
          }
         },
         "name": "",
         "offsetgroup": "",
         "orientation": "h",
         "showlegend": false,
         "textposition": "auto",
         "type": "bar",
         "x": [
          257,
          184,
          368,
          300,
          278,
          289,
          326,
          300,
          230,
          266
         ],
         "xaxis": "x",
         "y": [
          "stephen",
          "kevin",
          "nikola",
          "joel",
          "lebron",
          "bradley",
          "giannis",
          "damian",
          "kawhi",
          "paul"
         ],
         "yaxis": "y"
        }
       ],
       "layout": {
        "barmode": "relative",
        "height": 400,
        "legend": {
         "tracegroupgap": 0
        },
        "template": {
         "data": {
          "bar": [
           {
            "error_x": {
             "color": "#2a3f5f"
            },
            "error_y": {
             "color": "#2a3f5f"
            },
            "marker": {
             "line": {
              "color": "#E5ECF6",
              "width": 0.5
             },
             "pattern": {
              "fillmode": "overlay",
              "size": 10,
              "solidity": 0.2
             }
            },
            "type": "bar"
           }
          ],
          "barpolar": [
           {
            "marker": {
             "line": {
              "color": "#E5ECF6",
              "width": 0.5
             },
             "pattern": {
              "fillmode": "overlay",
              "size": 10,
              "solidity": 0.2
             }
            },
            "type": "barpolar"
           }
          ],
          "carpet": [
           {
            "aaxis": {
             "endlinecolor": "#2a3f5f",
             "gridcolor": "white",
             "linecolor": "white",
             "minorgridcolor": "white",
             "startlinecolor": "#2a3f5f"
            },
            "baxis": {
             "endlinecolor": "#2a3f5f",
             "gridcolor": "white",
             "linecolor": "white",
             "minorgridcolor": "white",
             "startlinecolor": "#2a3f5f"
            },
            "type": "carpet"
           }
          ],
          "choropleth": [
           {
            "colorbar": {
             "outlinewidth": 0,
             "ticks": ""
            },
            "type": "choropleth"
           }
          ],
          "contour": [
           {
            "colorbar": {
             "outlinewidth": 0,
             "ticks": ""
            },
            "colorscale": [
             [
              0,
              "#0d0887"
             ],
             [
              0.1111111111111111,
              "#46039f"
             ],
             [
              0.2222222222222222,
              "#7201a8"
             ],
             [
              0.3333333333333333,
              "#9c179e"
             ],
             [
              0.4444444444444444,
              "#bd3786"
             ],
             [
              0.5555555555555556,
              "#d8576b"
             ],
             [
              0.6666666666666666,
              "#ed7953"
             ],
             [
              0.7777777777777778,
              "#fb9f3a"
             ],
             [
              0.8888888888888888,
              "#fdca26"
             ],
             [
              1,
              "#f0f921"
             ]
            ],
            "type": "contour"
           }
          ],
          "contourcarpet": [
           {
            "colorbar": {
             "outlinewidth": 0,
             "ticks": ""
            },
            "type": "contourcarpet"
           }
          ],
          "heatmap": [
           {
            "colorbar": {
             "outlinewidth": 0,
             "ticks": ""
            },
            "colorscale": [
             [
              0,
              "#0d0887"
             ],
             [
              0.1111111111111111,
              "#46039f"
             ],
             [
              0.2222222222222222,
              "#7201a8"
             ],
             [
              0.3333333333333333,
              "#9c179e"
             ],
             [
              0.4444444444444444,
              "#bd3786"
             ],
             [
              0.5555555555555556,
              "#d8576b"
             ],
             [
              0.6666666666666666,
              "#ed7953"
             ],
             [
              0.7777777777777778,
              "#fb9f3a"
             ],
             [
              0.8888888888888888,
              "#fdca26"
             ],
             [
              1,
              "#f0f921"
             ]
            ],
            "type": "heatmap"
           }
          ],
          "heatmapgl": [
           {
            "colorbar": {
             "outlinewidth": 0,
             "ticks": ""
            },
            "colorscale": [
             [
              0,
              "#0d0887"
             ],
             [
              0.1111111111111111,
              "#46039f"
             ],
             [
              0.2222222222222222,
              "#7201a8"
             ],
             [
              0.3333333333333333,
              "#9c179e"
             ],
             [
              0.4444444444444444,
              "#bd3786"
             ],
             [
              0.5555555555555556,
              "#d8576b"
             ],
             [
              0.6666666666666666,
              "#ed7953"
             ],
             [
              0.7777777777777778,
              "#fb9f3a"
             ],
             [
              0.8888888888888888,
              "#fdca26"
             ],
             [
              1,
              "#f0f921"
             ]
            ],
            "type": "heatmapgl"
           }
          ],
          "histogram": [
           {
            "marker": {
             "pattern": {
              "fillmode": "overlay",
              "size": 10,
              "solidity": 0.2
             }
            },
            "type": "histogram"
           }
          ],
          "histogram2d": [
           {
            "colorbar": {
             "outlinewidth": 0,
             "ticks": ""
            },
            "colorscale": [
             [
              0,
              "#0d0887"
             ],
             [
              0.1111111111111111,
              "#46039f"
             ],
             [
              0.2222222222222222,
              "#7201a8"
             ],
             [
              0.3333333333333333,
              "#9c179e"
             ],
             [
              0.4444444444444444,
              "#bd3786"
             ],
             [
              0.5555555555555556,
              "#d8576b"
             ],
             [
              0.6666666666666666,
              "#ed7953"
             ],
             [
              0.7777777777777778,
              "#fb9f3a"
             ],
             [
              0.8888888888888888,
              "#fdca26"
             ],
             [
              1,
              "#f0f921"
             ]
            ],
            "type": "histogram2d"
           }
          ],
          "histogram2dcontour": [
           {
            "colorbar": {
             "outlinewidth": 0,
             "ticks": ""
            },
            "colorscale": [
             [
              0,
              "#0d0887"
             ],
             [
              0.1111111111111111,
              "#46039f"
             ],
             [
              0.2222222222222222,
              "#7201a8"
             ],
             [
              0.3333333333333333,
              "#9c179e"
             ],
             [
              0.4444444444444444,
              "#bd3786"
             ],
             [
              0.5555555555555556,
              "#d8576b"
             ],
             [
              0.6666666666666666,
              "#ed7953"
             ],
             [
              0.7777777777777778,
              "#fb9f3a"
             ],
             [
              0.8888888888888888,
              "#fdca26"
             ],
             [
              1,
              "#f0f921"
             ]
            ],
            "type": "histogram2dcontour"
           }
          ],
          "mesh3d": [
           {
            "colorbar": {
             "outlinewidth": 0,
             "ticks": ""
            },
            "type": "mesh3d"
           }
          ],
          "parcoords": [
           {
            "line": {
             "colorbar": {
              "outlinewidth": 0,
              "ticks": ""
             }
            },
            "type": "parcoords"
           }
          ],
          "pie": [
           {
            "automargin": true,
            "type": "pie"
           }
          ],
          "scatter": [
           {
            "fillpattern": {
             "fillmode": "overlay",
             "size": 10,
             "solidity": 0.2
            },
            "type": "scatter"
           }
          ],
          "scatter3d": [
           {
            "line": {
             "colorbar": {
              "outlinewidth": 0,
              "ticks": ""
             }
            },
            "marker": {
             "colorbar": {
              "outlinewidth": 0,
              "ticks": ""
             }
            },
            "type": "scatter3d"
           }
          ],
          "scattercarpet": [
           {
            "marker": {
             "colorbar": {
              "outlinewidth": 0,
              "ticks": ""
             }
            },
            "type": "scattercarpet"
           }
          ],
          "scattergeo": [
           {
            "marker": {
             "colorbar": {
              "outlinewidth": 0,
              "ticks": ""
             }
            },
            "type": "scattergeo"
           }
          ],
          "scattergl": [
           {
            "marker": {
             "colorbar": {
              "outlinewidth": 0,
              "ticks": ""
             }
            },
            "type": "scattergl"
           }
          ],
          "scattermapbox": [
           {
            "marker": {
             "colorbar": {
              "outlinewidth": 0,
              "ticks": ""
             }
            },
            "type": "scattermapbox"
           }
          ],
          "scatterpolar": [
           {
            "marker": {
             "colorbar": {
              "outlinewidth": 0,
              "ticks": ""
             }
            },
            "type": "scatterpolar"
           }
          ],
          "scatterpolargl": [
           {
            "marker": {
             "colorbar": {
              "outlinewidth": 0,
              "ticks": ""
             }
            },
            "type": "scatterpolargl"
           }
          ],
          "scatterternary": [
           {
            "marker": {
             "colorbar": {
              "outlinewidth": 0,
              "ticks": ""
             }
            },
            "type": "scatterternary"
           }
          ],
          "surface": [
           {
            "colorbar": {
             "outlinewidth": 0,
             "ticks": ""
            },
            "colorscale": [
             [
              0,
              "#0d0887"
             ],
             [
              0.1111111111111111,
              "#46039f"
             ],
             [
              0.2222222222222222,
              "#7201a8"
             ],
             [
              0.3333333333333333,
              "#9c179e"
             ],
             [
              0.4444444444444444,
              "#bd3786"
             ],
             [
              0.5555555555555556,
              "#d8576b"
             ],
             [
              0.6666666666666666,
              "#ed7953"
             ],
             [
              0.7777777777777778,
              "#fb9f3a"
             ],
             [
              0.8888888888888888,
              "#fdca26"
             ],
             [
              1,
              "#f0f921"
             ]
            ],
            "type": "surface"
           }
          ],
          "table": [
           {
            "cells": {
             "fill": {
              "color": "#EBF0F8"
             },
             "line": {
              "color": "white"
             }
            },
            "header": {
             "fill": {
              "color": "#C8D4E3"
             },
             "line": {
              "color": "white"
             }
            },
            "type": "table"
           }
          ]
         },
         "layout": {
          "annotationdefaults": {
           "arrowcolor": "#2a3f5f",
           "arrowhead": 0,
           "arrowwidth": 1
          },
          "autotypenumbers": "strict",
          "coloraxis": {
           "colorbar": {
            "outlinewidth": 0,
            "ticks": ""
           }
          },
          "colorscale": {
           "diverging": [
            [
             0,
             "#8e0152"
            ],
            [
             0.1,
             "#c51b7d"
            ],
            [
             0.2,
             "#de77ae"
            ],
            [
             0.3,
             "#f1b6da"
            ],
            [
             0.4,
             "#fde0ef"
            ],
            [
             0.5,
             "#f7f7f7"
            ],
            [
             0.6,
             "#e6f5d0"
            ],
            [
             0.7,
             "#b8e186"
            ],
            [
             0.8,
             "#7fbc41"
            ],
            [
             0.9,
             "#4d9221"
            ],
            [
             1,
             "#276419"
            ]
           ],
           "sequential": [
            [
             0,
             "#0d0887"
            ],
            [
             0.1111111111111111,
             "#46039f"
            ],
            [
             0.2222222222222222,
             "#7201a8"
            ],
            [
             0.3333333333333333,
             "#9c179e"
            ],
            [
             0.4444444444444444,
             "#bd3786"
            ],
            [
             0.5555555555555556,
             "#d8576b"
            ],
            [
             0.6666666666666666,
             "#ed7953"
            ],
            [
             0.7777777777777778,
             "#fb9f3a"
            ],
            [
             0.8888888888888888,
             "#fdca26"
            ],
            [
             1,
             "#f0f921"
            ]
           ],
           "sequentialminus": [
            [
             0,
             "#0d0887"
            ],
            [
             0.1111111111111111,
             "#46039f"
            ],
            [
             0.2222222222222222,
             "#7201a8"
            ],
            [
             0.3333333333333333,
             "#9c179e"
            ],
            [
             0.4444444444444444,
             "#bd3786"
            ],
            [
             0.5555555555555556,
             "#d8576b"
            ],
            [
             0.6666666666666666,
             "#ed7953"
            ],
            [
             0.7777777777777778,
             "#fb9f3a"
            ],
            [
             0.8888888888888888,
             "#fdca26"
            ],
            [
             1,
             "#f0f921"
            ]
           ]
          },
          "colorway": [
           "#636efa",
           "#EF553B",
           "#00cc96",
           "#ab63fa",
           "#FFA15A",
           "#19d3f3",
           "#FF6692",
           "#B6E880",
           "#FF97FF",
           "#FECB52"
          ],
          "font": {
           "color": "#2a3f5f"
          },
          "geo": {
           "bgcolor": "white",
           "lakecolor": "white",
           "landcolor": "#E5ECF6",
           "showlakes": true,
           "showland": true,
           "subunitcolor": "white"
          },
          "hoverlabel": {
           "align": "left"
          },
          "hovermode": "closest",
          "mapbox": {
           "style": "light"
          },
          "paper_bgcolor": "white",
          "plot_bgcolor": "#E5ECF6",
          "polar": {
           "angularaxis": {
            "gridcolor": "white",
            "linecolor": "white",
            "ticks": ""
           },
           "bgcolor": "#E5ECF6",
           "radialaxis": {
            "gridcolor": "white",
            "linecolor": "white",
            "ticks": ""
           }
          },
          "scene": {
           "xaxis": {
            "backgroundcolor": "#E5ECF6",
            "gridcolor": "white",
            "gridwidth": 2,
            "linecolor": "white",
            "showbackground": true,
            "ticks": "",
            "zerolinecolor": "white"
           },
           "yaxis": {
            "backgroundcolor": "#E5ECF6",
            "gridcolor": "white",
            "gridwidth": 2,
            "linecolor": "white",
            "showbackground": true,
            "ticks": "",
            "zerolinecolor": "white"
           },
           "zaxis": {
            "backgroundcolor": "#E5ECF6",
            "gridcolor": "white",
            "gridwidth": 2,
            "linecolor": "white",
            "showbackground": true,
            "ticks": "",
            "zerolinecolor": "white"
           }
          },
          "shapedefaults": {
           "line": {
            "color": "#2a3f5f"
           }
          },
          "ternary": {
           "aaxis": {
            "gridcolor": "white",
            "linecolor": "white",
            "ticks": ""
           },
           "baxis": {
            "gridcolor": "white",
            "linecolor": "white",
            "ticks": ""
           },
           "bgcolor": "#E5ECF6",
           "caxis": {
            "gridcolor": "white",
            "linecolor": "white",
            "ticks": ""
           }
          },
          "title": {
           "x": 0.05
          },
          "xaxis": {
           "automargin": true,
           "gridcolor": "white",
           "linecolor": "white",
           "ticks": "",
           "title": {
            "standoff": 15
           },
           "zerolinecolor": "white",
           "zerolinewidth": 2
          },
          "yaxis": {
           "automargin": true,
           "gridcolor": "white",
           "linecolor": "white",
           "ticks": "",
           "title": {
            "standoff": 15
           },
           "zerolinecolor": "white",
           "zerolinewidth": 2
          }
         }
        },
        "title": {
         "text": "How Many Games Have the Highest Earners Played?"
        },
        "width": 800,
        "xaxis": {
         "anchor": "y",
         "domain": [
          0,
          1
         ],
         "title": {
          "text": "Number of Games Played Over 5 Seasons"
         }
        },
        "yaxis": {
         "anchor": "x",
         "domain": [
          0,
          1
         ],
         "title": {
          "text": "Player Name"
         }
        }
       }
      }
     },
     "metadata": {},
     "output_type": "display_data"
    }
   ],
   "source": [
    "#create a dataframe of top 5 highest earners\n",
    "top_earners = preprocessed_data.nlargest(10, 'Current_Contract').sort_values('Current_Contract', ascending= False)\n",
    "\n",
    "# Create a horizontal bar chart\n",
    "fig = px.bar(top_earners, x='GP', y='First_Name', orientation='h',\n",
    "             title='How Many Games Have the Highest Earners Played?', \n",
    "             labels={'GP': 'Number of Games Played Over 5 Seasons', \n",
    "                     'First_Name': 'Player Name'})\n",
    "\n",
    "# Update layout\n",
    "fig.update_layout(width=800, height=400, \n",
    "                  xaxis_title='Number of Games Played Over 5 Seasons', \n",
    "                  yaxis_title='Player Name')\n",
    "\n",
    "# Show the plot\n",
    "fig.show()"
   ]
  },
  {
   "cell_type": "markdown",
   "metadata": {},
   "source": [
    "With the exception of Kevin Durant and Kawhi Leonard the top earners have all played at least 3 seasons over the last five years. Next I will explore the relationship between the number of games played and contract values."
   ]
  },
  {
   "cell_type": "code",
   "execution_count": 7,
   "metadata": {},
   "outputs": [
    {
     "name": "stdout",
     "output_type": "stream",
     "text": [
      "                        GP  Current_Contract\n",
      "GP                1.000000          0.566553\n",
      "Current_Contract  0.566553          1.000000\n"
     ]
    },
    {
     "data": {
      "application/vnd.plotly.v1+json": {
       "config": {
        "plotlyServerURL": "https://plot.ly"
       },
       "data": [
        {
         "hovertemplate": "Games Played=%{x}<br>Current Contract=%{y}<extra></extra>",
         "legendgroup": "",
         "marker": {
          "color": "#636efa",
          "symbol": "circle"
         },
         "mode": "markers",
         "name": "",
         "orientation": "v",
         "showlegend": false,
         "type": "scatter",
         "x": [
          257,
          184,
          368,
          300,
          278,
          289,
          326,
          300,
          230,
          266,
          241,
          330,
          356,
          304,
          250,
          353,
          330,
          325,
          336,
          317,
          335,
          203,
          321,
          322,
          265,
          210,
          246,
          196,
          114,
          248,
          250,
          275,
          328,
          311,
          187,
          334,
          322,
          349,
          359,
          303,
          322,
          267,
          322,
          265,
          287,
          306,
          356,
          357,
          315,
          266,
          267,
          242,
          345,
          210,
          329,
          290,
          310,
          257,
          235,
          273,
          271,
          279,
          347,
          263,
          277,
          291,
          243,
          349,
          320,
          287,
          308,
          252,
          225,
          206,
          224,
          250,
          344,
          302,
          281,
          313,
          191,
          320,
          292,
          294,
          252,
          295,
          268,
          356,
          281,
          192,
          300,
          147,
          266,
          249,
          280,
          238,
          338,
          214,
          177,
          225,
          260,
          196,
          225,
          289,
          349,
          315,
          202,
          213,
          251,
          371,
          189,
          356,
          272,
          327,
          223,
          227,
          187,
          206,
          245,
          319,
          237,
          181,
          288,
          256,
          258,
          248,
          129,
          277,
          262,
          144,
          125,
          306,
          296,
          301,
          260,
          72,
          209,
          269,
          76,
          196,
          250,
          284,
          291,
          312,
          329,
          162,
          222,
          270,
          195,
          273,
          247,
          192,
          277,
          295,
          323,
          174,
          143,
          170,
          339,
          170,
          247,
          377,
          255,
          83,
          323,
          79,
          242,
          317,
          264,
          210,
          148,
          351,
          125,
          318,
          80,
          253,
          178,
          151,
          123,
          247,
          226,
          312,
          165,
          291,
          133,
          245,
          74,
          178,
          325,
          168,
          101,
          209,
          108,
          78,
          201,
          202,
          225,
          268,
          337,
          343,
          130,
          272,
          179,
          157,
          80,
          127,
          212,
          192,
          273,
          253,
          137,
          171,
          268,
          59,
          103,
          170,
          171,
          172,
          159,
          279,
          56,
          189,
          142,
          155,
          283,
          28,
          197,
          140,
          133,
          254,
          270,
          287,
          278,
          99,
          39,
          166,
          294,
          183,
          65,
          75,
          306,
          262,
          205,
          189,
          196,
          108,
          67,
          140,
          136,
          223,
          101,
          59,
          185,
          246,
          333,
          210,
          115,
          43,
          212,
          144,
          202,
          289,
          223,
          151,
          72,
          268,
          181,
          147,
          82,
          204,
          238,
          288,
          141,
          38,
          35,
          153,
          222,
          127,
          66,
          67,
          52,
          216,
          34,
          118,
          76,
          92,
          195,
          172,
          74,
          316,
          114,
          65,
          159,
          70,
          251,
          99,
          52,
          58,
          99,
          152,
          137,
          108,
          155,
          253,
          275,
          37,
          138,
          157,
          29,
          99,
          206,
          117,
          15,
          265,
          274,
          200,
          179,
          31,
          31,
          186,
          181,
          23,
          124,
          130,
          18,
          80,
          109,
          241,
          129,
          172,
          75,
          171,
          43,
          278,
          251,
          127,
          193,
          123,
          209,
          268,
          264,
          229,
          215,
          84,
          94,
          197,
          164,
          210,
          278,
          284,
          230,
          253,
          192,
          166,
          148,
          217,
          142,
          264,
          137,
          290,
          270,
          112,
          167,
          255,
          168,
          238,
          95,
          110,
          156,
          95,
          51,
          49,
          237,
          41,
          129,
          169,
          206,
          164,
          173,
          106,
          120,
          105,
          93,
          64,
          78,
          35,
          92,
          156,
          71,
          104,
          18,
          73,
          120,
          115,
          102,
          31,
          30,
          67,
          36,
          12,
          48,
          10,
          58,
          56,
          15,
          24,
          41,
          46,
          267,
          78,
          84,
          17,
          54,
          33,
          123,
          21,
          20,
          153,
          41
         ],
         "xaxis": "x",
         "y": [
          51915615,
          47649433,
          47607350,
          47607350,
          47607350,
          46741590,
          45640084,
          45640084,
          45640084,
          45640084,
          45183960,
          43219440,
          41000000,
          40806300,
          40600080,
          40064220,
          40064220,
          40064220,
          39270150,
          37893408,
          37893408,
          37037037,
          36861707,
          36016200,
          36016200,
          36016200,
          35802469,
          35640000,
          34005250,
          34005250,
          34005250,
          33833400,
          33833400,
          33386850,
          33386850,
          33162030,
          32600060,
          32600060,
          32600060,
          32459438,
          31830357,
          31500000,
          30800000,
          30600000,
          29682540,
          29320988,
          28600000,
          28226880,
          27586207,
          27455357,
          27102202,
          27000000,
          26346666,
          25679348,
          25568182,
          25340000,
          25000000,
          24360000,
          24330357,
          24107143,
          23883929,
          23487629,
          23205221,
          22627671,
          22500000,
          22321429,
          22266182,
          22000000,
          21700000,
          20975000,
          20616000,
          20465117,
          20357143,
          20089286,
          20000000,
          20000000,
          20000000,
          19928571,
          19500000,
          19279841,
          18857143,
          18833713,
          18700000,
          18642857,
          18560000,
          18518519,
          18357143,
          18214000,
          18154000,
          18000000,
          17897728,
          17400000,
          17325000,
          17307693,
          17259999,
          17116279,
          17000000,
          17000000,
          17000000,
          16875000,
          16847826,
          15860000,
          15740741,
          15681818,
          15669643,
          15435000,
          15384616,
          15277778,
          14763636,
          14704938,
          14487684,
          14000000,
          13932008,
          13750000,
          13534817,
          13050000,
          13000000,
          12960000,
          12950400,
          12600000,
          12500000,
          12500000,
          12405000,
          12405000,
          12402000,
          12195122,
          12119440,
          12100000,
          12046020,
          12015150,
          12015150,
          11750000,
          11710818,
          11710818,
          11692308,
          11608080,
          11571429,
          11111111,
          11055360,
          11020000,
          11014500,
          13033786,
          11000000,
          11000000,
          10933333,
          10900635,
          10900000,
          10576923,
          10500000,
          10500000,
          10489600,
          10375000,
          10250000,
          10000000,
          9945830,
          9895833,
          9891480,
          9835881,
          9800926,
          9625000,
          9600000,
          9500000,
          9460000,
          9450000,
          9423869,
          9326520,
          9245121,
          9219512,
          8925000,
          8920795,
          8882640,
          8800000,
          8715000,
          8700000,
          8409000,
          8195122,
          8109063,
          8008680,
          8000000,
          8000000,
          8000000,
          8000000,
          8000000,
          7921300,
          7723000,
          7700000,
          7614480,
          7560000,
          7500000,
          7413955,
          7252080,
          6985000,
          8670002,
          6916080,
          6803012,
          6802950,
          6802950,
          6802950,
          6802950,
          6718842,
          6587040,
          8519706,
          6500000,
          6481482,
          6313800,
          6300000,
          6263188,
          6250000,
          6190476,
          6175000,
          6012840,
          5887899,
          5808435,
          5784120,
          5722116,
          5709877,
          5634257,
          5539771,
          5508720,
          5370370,
          5316960,
          5266713,
          5266713,
          5063640,
          5050800,
          5050800,
          5043773,
          5009633,
          5000000,
          5000000,
          5000000,
          5000000,
          5000000,
          4810200,
          4798440,
          4765339,
          4698000,
          4687500,
          4570080,
          4558680,
          4556983,
          4516000,
          4516000,
          4379527,
          4343920,
          6105941,
          4330680,
          4310250,
          4306281,
          4171548,
          4124400,
          4114200,
          4037277,
          4000000,
          4000000,
          4000000,
          3918480,
          3908160,
          3901399,
          3873025,
          3845083,
          3835738,
          3835738,
          3722040,
          3712920,
          3695311,
          3666667,
          3536280,
          3527160,
          3500000,
          3360000,
          5379706,
          3359280,
          3350760,
          3199920,
          3196448,
          3196448,
          3191400,
          3071880,
          3047880,
          3044872,
          3000000,
          3000000,
          3000000,
          2949120,
          2925360,
          2891467,
          2844430,
          2831160,
          2815937,
          2808720,
          2800000,
          2748674,
          2718240,
          2709849,
          2696280,
          2609400,
          2600000,
          2588400,
          2586665,
          2586665,
          2581522,
          2528233,
          2528233,
          2528233,
          2504640,
          2485200,
          2439025,
          2421720,
          2413304,
          2400000,
          2385720,
          2352000,
          4368030,
          2346614,
          2346614,
          2346614,
          2337720,
          2320440,
          2320000,
          2306400,
          2303520,
          2240160,
          2234359,
          2226240,
          2210040,
          2194200,
          2165000,
          2165000,
          2165000,
          2131905,
          2066585,
          2066585,
          2019706,
          2019706,
          2019706,
          2019706,
          2019706,
          2019706,
          2019706,
          2019706,
          2019706,
          2019706,
          2019706,
          2019706,
          2019706,
          2019706,
          2019706,
          2019706,
          2019706,
          2019706,
          2019706,
          2019706,
          2019706,
          2019706,
          2019706,
          2019706,
          2019706,
          2019706,
          2419706,
          2019706,
          2019706,
          2019706,
          2019706,
          2019706,
          2019706,
          2019706,
          2019706,
          2019706,
          2019706,
          2000000,
          2000000,
          2000000,
          1997238,
          1997238,
          1997238,
          1930681,
          1930681,
          1930681,
          1927896,
          1927896,
          1927896,
          1927896,
          1927896,
          1902137,
          1901769,
          1900000,
          1845593,
          1836096,
          1836096,
          1836096,
          1836096,
          1836096,
          1836096,
          1836096,
          1801769,
          1801769,
          1799163,
          1719864,
          1719864,
          1719864,
          1719864,
          1719864,
          1719864,
          1719864,
          1719864,
          1719864,
          1719864,
          1300000,
          831385,
          702311,
          600000,
          576230,
          555217,
          300000,
          268032,
          250000,
          200000,
          92857
         ],
         "yaxis": "y"
        }
       ],
       "layout": {
        "height": 600,
        "legend": {
         "tracegroupgap": 0
        },
        "template": {
         "data": {
          "bar": [
           {
            "error_x": {
             "color": "#2a3f5f"
            },
            "error_y": {
             "color": "#2a3f5f"
            },
            "marker": {
             "line": {
              "color": "#E5ECF6",
              "width": 0.5
             },
             "pattern": {
              "fillmode": "overlay",
              "size": 10,
              "solidity": 0.2
             }
            },
            "type": "bar"
           }
          ],
          "barpolar": [
           {
            "marker": {
             "line": {
              "color": "#E5ECF6",
              "width": 0.5
             },
             "pattern": {
              "fillmode": "overlay",
              "size": 10,
              "solidity": 0.2
             }
            },
            "type": "barpolar"
           }
          ],
          "carpet": [
           {
            "aaxis": {
             "endlinecolor": "#2a3f5f",
             "gridcolor": "white",
             "linecolor": "white",
             "minorgridcolor": "white",
             "startlinecolor": "#2a3f5f"
            },
            "baxis": {
             "endlinecolor": "#2a3f5f",
             "gridcolor": "white",
             "linecolor": "white",
             "minorgridcolor": "white",
             "startlinecolor": "#2a3f5f"
            },
            "type": "carpet"
           }
          ],
          "choropleth": [
           {
            "colorbar": {
             "outlinewidth": 0,
             "ticks": ""
            },
            "type": "choropleth"
           }
          ],
          "contour": [
           {
            "colorbar": {
             "outlinewidth": 0,
             "ticks": ""
            },
            "colorscale": [
             [
              0,
              "#0d0887"
             ],
             [
              0.1111111111111111,
              "#46039f"
             ],
             [
              0.2222222222222222,
              "#7201a8"
             ],
             [
              0.3333333333333333,
              "#9c179e"
             ],
             [
              0.4444444444444444,
              "#bd3786"
             ],
             [
              0.5555555555555556,
              "#d8576b"
             ],
             [
              0.6666666666666666,
              "#ed7953"
             ],
             [
              0.7777777777777778,
              "#fb9f3a"
             ],
             [
              0.8888888888888888,
              "#fdca26"
             ],
             [
              1,
              "#f0f921"
             ]
            ],
            "type": "contour"
           }
          ],
          "contourcarpet": [
           {
            "colorbar": {
             "outlinewidth": 0,
             "ticks": ""
            },
            "type": "contourcarpet"
           }
          ],
          "heatmap": [
           {
            "colorbar": {
             "outlinewidth": 0,
             "ticks": ""
            },
            "colorscale": [
             [
              0,
              "#0d0887"
             ],
             [
              0.1111111111111111,
              "#46039f"
             ],
             [
              0.2222222222222222,
              "#7201a8"
             ],
             [
              0.3333333333333333,
              "#9c179e"
             ],
             [
              0.4444444444444444,
              "#bd3786"
             ],
             [
              0.5555555555555556,
              "#d8576b"
             ],
             [
              0.6666666666666666,
              "#ed7953"
             ],
             [
              0.7777777777777778,
              "#fb9f3a"
             ],
             [
              0.8888888888888888,
              "#fdca26"
             ],
             [
              1,
              "#f0f921"
             ]
            ],
            "type": "heatmap"
           }
          ],
          "heatmapgl": [
           {
            "colorbar": {
             "outlinewidth": 0,
             "ticks": ""
            },
            "colorscale": [
             [
              0,
              "#0d0887"
             ],
             [
              0.1111111111111111,
              "#46039f"
             ],
             [
              0.2222222222222222,
              "#7201a8"
             ],
             [
              0.3333333333333333,
              "#9c179e"
             ],
             [
              0.4444444444444444,
              "#bd3786"
             ],
             [
              0.5555555555555556,
              "#d8576b"
             ],
             [
              0.6666666666666666,
              "#ed7953"
             ],
             [
              0.7777777777777778,
              "#fb9f3a"
             ],
             [
              0.8888888888888888,
              "#fdca26"
             ],
             [
              1,
              "#f0f921"
             ]
            ],
            "type": "heatmapgl"
           }
          ],
          "histogram": [
           {
            "marker": {
             "pattern": {
              "fillmode": "overlay",
              "size": 10,
              "solidity": 0.2
             }
            },
            "type": "histogram"
           }
          ],
          "histogram2d": [
           {
            "colorbar": {
             "outlinewidth": 0,
             "ticks": ""
            },
            "colorscale": [
             [
              0,
              "#0d0887"
             ],
             [
              0.1111111111111111,
              "#46039f"
             ],
             [
              0.2222222222222222,
              "#7201a8"
             ],
             [
              0.3333333333333333,
              "#9c179e"
             ],
             [
              0.4444444444444444,
              "#bd3786"
             ],
             [
              0.5555555555555556,
              "#d8576b"
             ],
             [
              0.6666666666666666,
              "#ed7953"
             ],
             [
              0.7777777777777778,
              "#fb9f3a"
             ],
             [
              0.8888888888888888,
              "#fdca26"
             ],
             [
              1,
              "#f0f921"
             ]
            ],
            "type": "histogram2d"
           }
          ],
          "histogram2dcontour": [
           {
            "colorbar": {
             "outlinewidth": 0,
             "ticks": ""
            },
            "colorscale": [
             [
              0,
              "#0d0887"
             ],
             [
              0.1111111111111111,
              "#46039f"
             ],
             [
              0.2222222222222222,
              "#7201a8"
             ],
             [
              0.3333333333333333,
              "#9c179e"
             ],
             [
              0.4444444444444444,
              "#bd3786"
             ],
             [
              0.5555555555555556,
              "#d8576b"
             ],
             [
              0.6666666666666666,
              "#ed7953"
             ],
             [
              0.7777777777777778,
              "#fb9f3a"
             ],
             [
              0.8888888888888888,
              "#fdca26"
             ],
             [
              1,
              "#f0f921"
             ]
            ],
            "type": "histogram2dcontour"
           }
          ],
          "mesh3d": [
           {
            "colorbar": {
             "outlinewidth": 0,
             "ticks": ""
            },
            "type": "mesh3d"
           }
          ],
          "parcoords": [
           {
            "line": {
             "colorbar": {
              "outlinewidth": 0,
              "ticks": ""
             }
            },
            "type": "parcoords"
           }
          ],
          "pie": [
           {
            "automargin": true,
            "type": "pie"
           }
          ],
          "scatter": [
           {
            "fillpattern": {
             "fillmode": "overlay",
             "size": 10,
             "solidity": 0.2
            },
            "type": "scatter"
           }
          ],
          "scatter3d": [
           {
            "line": {
             "colorbar": {
              "outlinewidth": 0,
              "ticks": ""
             }
            },
            "marker": {
             "colorbar": {
              "outlinewidth": 0,
              "ticks": ""
             }
            },
            "type": "scatter3d"
           }
          ],
          "scattercarpet": [
           {
            "marker": {
             "colorbar": {
              "outlinewidth": 0,
              "ticks": ""
             }
            },
            "type": "scattercarpet"
           }
          ],
          "scattergeo": [
           {
            "marker": {
             "colorbar": {
              "outlinewidth": 0,
              "ticks": ""
             }
            },
            "type": "scattergeo"
           }
          ],
          "scattergl": [
           {
            "marker": {
             "colorbar": {
              "outlinewidth": 0,
              "ticks": ""
             }
            },
            "type": "scattergl"
           }
          ],
          "scattermapbox": [
           {
            "marker": {
             "colorbar": {
              "outlinewidth": 0,
              "ticks": ""
             }
            },
            "type": "scattermapbox"
           }
          ],
          "scatterpolar": [
           {
            "marker": {
             "colorbar": {
              "outlinewidth": 0,
              "ticks": ""
             }
            },
            "type": "scatterpolar"
           }
          ],
          "scatterpolargl": [
           {
            "marker": {
             "colorbar": {
              "outlinewidth": 0,
              "ticks": ""
             }
            },
            "type": "scatterpolargl"
           }
          ],
          "scatterternary": [
           {
            "marker": {
             "colorbar": {
              "outlinewidth": 0,
              "ticks": ""
             }
            },
            "type": "scatterternary"
           }
          ],
          "surface": [
           {
            "colorbar": {
             "outlinewidth": 0,
             "ticks": ""
            },
            "colorscale": [
             [
              0,
              "#0d0887"
             ],
             [
              0.1111111111111111,
              "#46039f"
             ],
             [
              0.2222222222222222,
              "#7201a8"
             ],
             [
              0.3333333333333333,
              "#9c179e"
             ],
             [
              0.4444444444444444,
              "#bd3786"
             ],
             [
              0.5555555555555556,
              "#d8576b"
             ],
             [
              0.6666666666666666,
              "#ed7953"
             ],
             [
              0.7777777777777778,
              "#fb9f3a"
             ],
             [
              0.8888888888888888,
              "#fdca26"
             ],
             [
              1,
              "#f0f921"
             ]
            ],
            "type": "surface"
           }
          ],
          "table": [
           {
            "cells": {
             "fill": {
              "color": "#EBF0F8"
             },
             "line": {
              "color": "white"
             }
            },
            "header": {
             "fill": {
              "color": "#C8D4E3"
             },
             "line": {
              "color": "white"
             }
            },
            "type": "table"
           }
          ]
         },
         "layout": {
          "annotationdefaults": {
           "arrowcolor": "#2a3f5f",
           "arrowhead": 0,
           "arrowwidth": 1
          },
          "autotypenumbers": "strict",
          "coloraxis": {
           "colorbar": {
            "outlinewidth": 0,
            "ticks": ""
           }
          },
          "colorscale": {
           "diverging": [
            [
             0,
             "#8e0152"
            ],
            [
             0.1,
             "#c51b7d"
            ],
            [
             0.2,
             "#de77ae"
            ],
            [
             0.3,
             "#f1b6da"
            ],
            [
             0.4,
             "#fde0ef"
            ],
            [
             0.5,
             "#f7f7f7"
            ],
            [
             0.6,
             "#e6f5d0"
            ],
            [
             0.7,
             "#b8e186"
            ],
            [
             0.8,
             "#7fbc41"
            ],
            [
             0.9,
             "#4d9221"
            ],
            [
             1,
             "#276419"
            ]
           ],
           "sequential": [
            [
             0,
             "#0d0887"
            ],
            [
             0.1111111111111111,
             "#46039f"
            ],
            [
             0.2222222222222222,
             "#7201a8"
            ],
            [
             0.3333333333333333,
             "#9c179e"
            ],
            [
             0.4444444444444444,
             "#bd3786"
            ],
            [
             0.5555555555555556,
             "#d8576b"
            ],
            [
             0.6666666666666666,
             "#ed7953"
            ],
            [
             0.7777777777777778,
             "#fb9f3a"
            ],
            [
             0.8888888888888888,
             "#fdca26"
            ],
            [
             1,
             "#f0f921"
            ]
           ],
           "sequentialminus": [
            [
             0,
             "#0d0887"
            ],
            [
             0.1111111111111111,
             "#46039f"
            ],
            [
             0.2222222222222222,
             "#7201a8"
            ],
            [
             0.3333333333333333,
             "#9c179e"
            ],
            [
             0.4444444444444444,
             "#bd3786"
            ],
            [
             0.5555555555555556,
             "#d8576b"
            ],
            [
             0.6666666666666666,
             "#ed7953"
            ],
            [
             0.7777777777777778,
             "#fb9f3a"
            ],
            [
             0.8888888888888888,
             "#fdca26"
            ],
            [
             1,
             "#f0f921"
            ]
           ]
          },
          "colorway": [
           "#636efa",
           "#EF553B",
           "#00cc96",
           "#ab63fa",
           "#FFA15A",
           "#19d3f3",
           "#FF6692",
           "#B6E880",
           "#FF97FF",
           "#FECB52"
          ],
          "font": {
           "color": "#2a3f5f"
          },
          "geo": {
           "bgcolor": "white",
           "lakecolor": "white",
           "landcolor": "#E5ECF6",
           "showlakes": true,
           "showland": true,
           "subunitcolor": "white"
          },
          "hoverlabel": {
           "align": "left"
          },
          "hovermode": "closest",
          "mapbox": {
           "style": "light"
          },
          "paper_bgcolor": "white",
          "plot_bgcolor": "#E5ECF6",
          "polar": {
           "angularaxis": {
            "gridcolor": "white",
            "linecolor": "white",
            "ticks": ""
           },
           "bgcolor": "#E5ECF6",
           "radialaxis": {
            "gridcolor": "white",
            "linecolor": "white",
            "ticks": ""
           }
          },
          "scene": {
           "xaxis": {
            "backgroundcolor": "#E5ECF6",
            "gridcolor": "white",
            "gridwidth": 2,
            "linecolor": "white",
            "showbackground": true,
            "ticks": "",
            "zerolinecolor": "white"
           },
           "yaxis": {
            "backgroundcolor": "#E5ECF6",
            "gridcolor": "white",
            "gridwidth": 2,
            "linecolor": "white",
            "showbackground": true,
            "ticks": "",
            "zerolinecolor": "white"
           },
           "zaxis": {
            "backgroundcolor": "#E5ECF6",
            "gridcolor": "white",
            "gridwidth": 2,
            "linecolor": "white",
            "showbackground": true,
            "ticks": "",
            "zerolinecolor": "white"
           }
          },
          "shapedefaults": {
           "line": {
            "color": "#2a3f5f"
           }
          },
          "ternary": {
           "aaxis": {
            "gridcolor": "white",
            "linecolor": "white",
            "ticks": ""
           },
           "baxis": {
            "gridcolor": "white",
            "linecolor": "white",
            "ticks": ""
           },
           "bgcolor": "#E5ECF6",
           "caxis": {
            "gridcolor": "white",
            "linecolor": "white",
            "ticks": ""
           }
          },
          "title": {
           "x": 0.05
          },
          "xaxis": {
           "automargin": true,
           "gridcolor": "white",
           "linecolor": "white",
           "ticks": "",
           "title": {
            "standoff": 15
           },
           "zerolinecolor": "white",
           "zerolinewidth": 2
          },
          "yaxis": {
           "automargin": true,
           "gridcolor": "white",
           "linecolor": "white",
           "ticks": "",
           "title": {
            "standoff": 15
           },
           "zerolinecolor": "white",
           "zerolinewidth": 2
          }
         }
        },
        "title": {
         "text": "Relationship between Current Contract and Games Played"
        },
        "width": 800,
        "xaxis": {
         "anchor": "y",
         "domain": [
          0,
          1
         ],
         "title": {
          "text": "Games Played"
         }
        },
        "yaxis": {
         "anchor": "x",
         "domain": [
          0,
          1
         ],
         "title": {
          "text": "Current Contract"
         }
        }
       }
      }
     },
     "metadata": {},
     "output_type": "display_data"
    }
   ],
   "source": [
    "#print the correlation metric\n",
    "print(preprocessed_data[['GP','Current_Contract']].corr())\n",
    "\n",
    "# Create scatter plot\n",
    "fig = px.scatter(preprocessed_data, x='GP', y='Current_Contract',\n",
    "                 title='Relationship between Current Contract and Games Played',\n",
    "                 labels={'GP': 'Games Played', 'Current_Contract': 'Current Contract'})\n",
    "\n",
    "# Update layout\n",
    "fig.update_layout(width=800, height=600)\n",
    "\n",
    "# Show the plot\n",
    "fig.show()"
   ]
  },
  {
   "cell_type": "markdown",
   "metadata": {},
   "source": [
    "The scatterplot and correlation value tells me that there isn't strong relationship between games played and contract values. In fact the scatter plot shows the a majority of players making less than $10 million this year. This makes sense in the context of the data because NBA teams usually have 12-man rosters but will only play 7-8 guys. Let's see if Games started has a strong relationship to contract values."
   ]
  },
  {
   "cell_type": "code",
   "execution_count": 8,
   "metadata": {},
   "outputs": [
    {
     "name": "stdout",
     "output_type": "stream",
     "text": [
      "                        GS  Current_Contract\n",
      "GS                1.000000          0.781069\n",
      "Current_Contract  0.781069          1.000000\n"
     ]
    },
    {
     "data": {
      "application/vnd.plotly.v1+json": {
       "config": {
        "plotlyServerURL": "https://plot.ly"
       },
       "data": [
        {
         "hovertemplate": "Games Started=%{x}<br>Current Contract=%{y}<extra></extra>",
         "legendgroup": "",
         "marker": {
          "color": "#636efa",
          "symbol": "circle"
         },
         "mode": "markers",
         "name": "",
         "orientation": "v",
         "showlegend": false,
         "type": "scatter",
         "x": [
          257,
          181,
          368,
          300,
          277,
          289,
          326,
          300,
          228,
          266,
          241,
          330,
          355,
          268,
          248,
          353,
          330,
          324,
          336,
          308,
          334,
          203,
          313,
          322,
          265,
          210,
          246,
          196,
          114,
          246,
          246,
          275,
          326,
          302,
          133,
          334,
          320,
          295,
          359,
          296,
          273,
          212,
          322,
          263,
          276,
          289,
          356,
          333,
          265,
          115,
          258,
          100,
          195,
          109,
          239,
          287,
          307,
          255,
          235,
          97,
          270,
          65,
          282,
          244,
          210,
          289,
          243,
          212,
          320,
          287,
          305,
          239,
          209,
          200,
          205,
          214,
          344,
          257,
          260,
          208,
          159,
          277,
          108,
          232,
          189,
          295,
          206,
          315,
          210,
          121,
          200,
          106,
          223,
          233,
          254,
          210,
          338,
          8,
          146,
          225,
          219,
          146,
          88,
          175,
          291,
          294,
          132,
          204,
          58,
          269,
          49,
          83,
          272,
          81,
          206,
          203,
          148,
          157,
          43,
          318,
          29,
          117,
          58,
          169,
          122,
          193,
          71,
          123,
          141,
          135,
          41,
          23,
          99,
          186,
          154,
          72,
          97,
          74,
          76,
          44,
          211,
          219,
          105,
          172,
          267,
          142,
          104,
          85,
          68,
          114,
          76,
          50,
          69,
          289,
          38,
          77,
          143,
          145,
          166,
          96,
          109,
          279,
          66,
          36,
          62,
          79,
          12,
          194,
          171,
          174,
          148,
          19,
          18,
          23,
          78,
          100,
          28,
          150,
          5,
          55,
          34,
          113,
          45,
          188,
          4,
          42,
          73,
          24,
          212,
          114,
          64,
          72,
          56,
          17,
          15,
          65,
          194,
          173,
          53,
          171,
          130,
          55,
          142,
          91,
          15,
          29,
          80,
          34,
          46,
          70,
          28,
          71,
          230,
          11,
          0,
          60,
          64,
          103,
          159,
          49,
          53,
          132,
          47,
          28,
          116,
          5,
          48,
          65,
          14,
          45,
          114,
          249,
          198,
          35,
          1,
          29,
          227,
          27,
          0,
          62,
          209,
          68,
          32,
          44,
          123,
          32,
          31,
          19,
          7,
          27,
          51,
          22,
          9,
          192,
          213,
          52,
          14,
          17,
          137,
          21,
          151,
          191,
          69,
          81,
          12,
          193,
          41,
          85,
          5,
          18,
          97,
          59,
          66,
          0,
          0,
          10,
          175,
          31,
          32,
          0,
          6,
          43,
          6,
          6,
          6,
          6,
          27,
          3,
          40,
          149,
          24,
          12,
          17,
          4,
          137,
          27,
          11,
          2,
          3,
          17,
          82,
          8,
          71,
          92,
          47,
          1,
          4,
          7,
          2,
          0,
          30,
          72,
          8,
          49,
          93,
          56,
          9,
          0,
          2,
          7,
          6,
          2,
          6,
          11,
          2,
          11,
          20,
          47,
          47,
          43,
          63,
          21,
          9,
          122,
          125,
          17,
          96,
          35,
          26,
          14,
          165,
          222,
          88,
          0,
          8,
          109,
          11,
          165,
          108,
          61,
          79,
          67,
          91,
          69,
          32,
          3,
          17,
          88,
          37,
          76,
          135,
          8,
          17,
          44,
          55,
          56,
          11,
          22,
          26,
          3,
          4,
          36,
          57,
          2,
          12,
          12,
          59,
          35,
          43,
          8,
          31,
          2,
          21,
          7,
          12,
          1,
          56,
          10,
          27,
          4,
          1,
          1,
          49,
          11,
          8,
          1,
          2,
          11,
          0,
          0,
          5,
          1,
          19,
          0,
          0,
          1,
          3,
          7,
          241,
          10,
          0,
          0,
          0,
          0,
          60,
          2,
          0,
          97,
          0
         ],
         "xaxis": "x",
         "y": [
          51915615,
          47649433,
          47607350,
          47607350,
          47607350,
          46741590,
          45640084,
          45640084,
          45640084,
          45640084,
          45183960,
          43219440,
          41000000,
          40806300,
          40600080,
          40064220,
          40064220,
          40064220,
          39270150,
          37893408,
          37893408,
          37037037,
          36861707,
          36016200,
          36016200,
          36016200,
          35802469,
          35640000,
          34005250,
          34005250,
          34005250,
          33833400,
          33833400,
          33386850,
          33386850,
          33162030,
          32600060,
          32600060,
          32600060,
          32459438,
          31830357,
          31500000,
          30800000,
          30600000,
          29682540,
          29320988,
          28600000,
          28226880,
          27586207,
          27455357,
          27102202,
          27000000,
          26346666,
          25679348,
          25568182,
          25340000,
          25000000,
          24360000,
          24330357,
          24107143,
          23883929,
          23487629,
          23205221,
          22627671,
          22500000,
          22321429,
          22266182,
          22000000,
          21700000,
          20975000,
          20616000,
          20465117,
          20357143,
          20089286,
          20000000,
          20000000,
          20000000,
          19928571,
          19500000,
          19279841,
          18857143,
          18833713,
          18700000,
          18642857,
          18560000,
          18518519,
          18357143,
          18214000,
          18154000,
          18000000,
          17897728,
          17400000,
          17325000,
          17307693,
          17259999,
          17116279,
          17000000,
          17000000,
          17000000,
          16875000,
          16847826,
          15860000,
          15740741,
          15681818,
          15669643,
          15435000,
          15384616,
          15277778,
          14763636,
          14704938,
          14487684,
          14000000,
          13932008,
          13750000,
          13534817,
          13050000,
          13000000,
          12960000,
          12950400,
          12600000,
          12500000,
          12500000,
          12405000,
          12405000,
          12402000,
          12195122,
          12119440,
          12100000,
          12046020,
          12015150,
          12015150,
          11750000,
          11710818,
          11710818,
          11692308,
          11608080,
          11571429,
          11111111,
          11055360,
          11020000,
          11014500,
          13033786,
          11000000,
          11000000,
          10933333,
          10900635,
          10900000,
          10576923,
          10500000,
          10500000,
          10489600,
          10375000,
          10250000,
          10000000,
          9945830,
          9895833,
          9891480,
          9835881,
          9800926,
          9625000,
          9600000,
          9500000,
          9460000,
          9450000,
          9423869,
          9326520,
          9245121,
          9219512,
          8925000,
          8920795,
          8882640,
          8800000,
          8715000,
          8700000,
          8409000,
          8195122,
          8109063,
          8008680,
          8000000,
          8000000,
          8000000,
          8000000,
          8000000,
          7921300,
          7723000,
          7700000,
          7614480,
          7560000,
          7500000,
          7413955,
          7252080,
          6985000,
          8670002,
          6916080,
          6803012,
          6802950,
          6802950,
          6802950,
          6802950,
          6718842,
          6587040,
          8519706,
          6500000,
          6481482,
          6313800,
          6300000,
          6263188,
          6250000,
          6190476,
          6175000,
          6012840,
          5887899,
          5808435,
          5784120,
          5722116,
          5709877,
          5634257,
          5539771,
          5508720,
          5370370,
          5316960,
          5266713,
          5266713,
          5063640,
          5050800,
          5050800,
          5043773,
          5009633,
          5000000,
          5000000,
          5000000,
          5000000,
          5000000,
          4810200,
          4798440,
          4765339,
          4698000,
          4687500,
          4570080,
          4558680,
          4556983,
          4516000,
          4516000,
          4379527,
          4343920,
          6105941,
          4330680,
          4310250,
          4306281,
          4171548,
          4124400,
          4114200,
          4037277,
          4000000,
          4000000,
          4000000,
          3918480,
          3908160,
          3901399,
          3873025,
          3845083,
          3835738,
          3835738,
          3722040,
          3712920,
          3695311,
          3666667,
          3536280,
          3527160,
          3500000,
          3360000,
          5379706,
          3359280,
          3350760,
          3199920,
          3196448,
          3196448,
          3191400,
          3071880,
          3047880,
          3044872,
          3000000,
          3000000,
          3000000,
          2949120,
          2925360,
          2891467,
          2844430,
          2831160,
          2815937,
          2808720,
          2800000,
          2748674,
          2718240,
          2709849,
          2696280,
          2609400,
          2600000,
          2588400,
          2586665,
          2586665,
          2581522,
          2528233,
          2528233,
          2528233,
          2504640,
          2485200,
          2439025,
          2421720,
          2413304,
          2400000,
          2385720,
          2352000,
          4368030,
          2346614,
          2346614,
          2346614,
          2337720,
          2320440,
          2320000,
          2306400,
          2303520,
          2240160,
          2234359,
          2226240,
          2210040,
          2194200,
          2165000,
          2165000,
          2165000,
          2131905,
          2066585,
          2066585,
          2019706,
          2019706,
          2019706,
          2019706,
          2019706,
          2019706,
          2019706,
          2019706,
          2019706,
          2019706,
          2019706,
          2019706,
          2019706,
          2019706,
          2019706,
          2019706,
          2019706,
          2019706,
          2019706,
          2019706,
          2019706,
          2019706,
          2019706,
          2019706,
          2019706,
          2019706,
          2419706,
          2019706,
          2019706,
          2019706,
          2019706,
          2019706,
          2019706,
          2019706,
          2019706,
          2019706,
          2019706,
          2000000,
          2000000,
          2000000,
          1997238,
          1997238,
          1997238,
          1930681,
          1930681,
          1930681,
          1927896,
          1927896,
          1927896,
          1927896,
          1927896,
          1902137,
          1901769,
          1900000,
          1845593,
          1836096,
          1836096,
          1836096,
          1836096,
          1836096,
          1836096,
          1836096,
          1801769,
          1801769,
          1799163,
          1719864,
          1719864,
          1719864,
          1719864,
          1719864,
          1719864,
          1719864,
          1719864,
          1719864,
          1719864,
          1300000,
          831385,
          702311,
          600000,
          576230,
          555217,
          300000,
          268032,
          250000,
          200000,
          92857
         ],
         "yaxis": "y"
        }
       ],
       "layout": {
        "height": 600,
        "legend": {
         "tracegroupgap": 0
        },
        "template": {
         "data": {
          "bar": [
           {
            "error_x": {
             "color": "#2a3f5f"
            },
            "error_y": {
             "color": "#2a3f5f"
            },
            "marker": {
             "line": {
              "color": "#E5ECF6",
              "width": 0.5
             },
             "pattern": {
              "fillmode": "overlay",
              "size": 10,
              "solidity": 0.2
             }
            },
            "type": "bar"
           }
          ],
          "barpolar": [
           {
            "marker": {
             "line": {
              "color": "#E5ECF6",
              "width": 0.5
             },
             "pattern": {
              "fillmode": "overlay",
              "size": 10,
              "solidity": 0.2
             }
            },
            "type": "barpolar"
           }
          ],
          "carpet": [
           {
            "aaxis": {
             "endlinecolor": "#2a3f5f",
             "gridcolor": "white",
             "linecolor": "white",
             "minorgridcolor": "white",
             "startlinecolor": "#2a3f5f"
            },
            "baxis": {
             "endlinecolor": "#2a3f5f",
             "gridcolor": "white",
             "linecolor": "white",
             "minorgridcolor": "white",
             "startlinecolor": "#2a3f5f"
            },
            "type": "carpet"
           }
          ],
          "choropleth": [
           {
            "colorbar": {
             "outlinewidth": 0,
             "ticks": ""
            },
            "type": "choropleth"
           }
          ],
          "contour": [
           {
            "colorbar": {
             "outlinewidth": 0,
             "ticks": ""
            },
            "colorscale": [
             [
              0,
              "#0d0887"
             ],
             [
              0.1111111111111111,
              "#46039f"
             ],
             [
              0.2222222222222222,
              "#7201a8"
             ],
             [
              0.3333333333333333,
              "#9c179e"
             ],
             [
              0.4444444444444444,
              "#bd3786"
             ],
             [
              0.5555555555555556,
              "#d8576b"
             ],
             [
              0.6666666666666666,
              "#ed7953"
             ],
             [
              0.7777777777777778,
              "#fb9f3a"
             ],
             [
              0.8888888888888888,
              "#fdca26"
             ],
             [
              1,
              "#f0f921"
             ]
            ],
            "type": "contour"
           }
          ],
          "contourcarpet": [
           {
            "colorbar": {
             "outlinewidth": 0,
             "ticks": ""
            },
            "type": "contourcarpet"
           }
          ],
          "heatmap": [
           {
            "colorbar": {
             "outlinewidth": 0,
             "ticks": ""
            },
            "colorscale": [
             [
              0,
              "#0d0887"
             ],
             [
              0.1111111111111111,
              "#46039f"
             ],
             [
              0.2222222222222222,
              "#7201a8"
             ],
             [
              0.3333333333333333,
              "#9c179e"
             ],
             [
              0.4444444444444444,
              "#bd3786"
             ],
             [
              0.5555555555555556,
              "#d8576b"
             ],
             [
              0.6666666666666666,
              "#ed7953"
             ],
             [
              0.7777777777777778,
              "#fb9f3a"
             ],
             [
              0.8888888888888888,
              "#fdca26"
             ],
             [
              1,
              "#f0f921"
             ]
            ],
            "type": "heatmap"
           }
          ],
          "heatmapgl": [
           {
            "colorbar": {
             "outlinewidth": 0,
             "ticks": ""
            },
            "colorscale": [
             [
              0,
              "#0d0887"
             ],
             [
              0.1111111111111111,
              "#46039f"
             ],
             [
              0.2222222222222222,
              "#7201a8"
             ],
             [
              0.3333333333333333,
              "#9c179e"
             ],
             [
              0.4444444444444444,
              "#bd3786"
             ],
             [
              0.5555555555555556,
              "#d8576b"
             ],
             [
              0.6666666666666666,
              "#ed7953"
             ],
             [
              0.7777777777777778,
              "#fb9f3a"
             ],
             [
              0.8888888888888888,
              "#fdca26"
             ],
             [
              1,
              "#f0f921"
             ]
            ],
            "type": "heatmapgl"
           }
          ],
          "histogram": [
           {
            "marker": {
             "pattern": {
              "fillmode": "overlay",
              "size": 10,
              "solidity": 0.2
             }
            },
            "type": "histogram"
           }
          ],
          "histogram2d": [
           {
            "colorbar": {
             "outlinewidth": 0,
             "ticks": ""
            },
            "colorscale": [
             [
              0,
              "#0d0887"
             ],
             [
              0.1111111111111111,
              "#46039f"
             ],
             [
              0.2222222222222222,
              "#7201a8"
             ],
             [
              0.3333333333333333,
              "#9c179e"
             ],
             [
              0.4444444444444444,
              "#bd3786"
             ],
             [
              0.5555555555555556,
              "#d8576b"
             ],
             [
              0.6666666666666666,
              "#ed7953"
             ],
             [
              0.7777777777777778,
              "#fb9f3a"
             ],
             [
              0.8888888888888888,
              "#fdca26"
             ],
             [
              1,
              "#f0f921"
             ]
            ],
            "type": "histogram2d"
           }
          ],
          "histogram2dcontour": [
           {
            "colorbar": {
             "outlinewidth": 0,
             "ticks": ""
            },
            "colorscale": [
             [
              0,
              "#0d0887"
             ],
             [
              0.1111111111111111,
              "#46039f"
             ],
             [
              0.2222222222222222,
              "#7201a8"
             ],
             [
              0.3333333333333333,
              "#9c179e"
             ],
             [
              0.4444444444444444,
              "#bd3786"
             ],
             [
              0.5555555555555556,
              "#d8576b"
             ],
             [
              0.6666666666666666,
              "#ed7953"
             ],
             [
              0.7777777777777778,
              "#fb9f3a"
             ],
             [
              0.8888888888888888,
              "#fdca26"
             ],
             [
              1,
              "#f0f921"
             ]
            ],
            "type": "histogram2dcontour"
           }
          ],
          "mesh3d": [
           {
            "colorbar": {
             "outlinewidth": 0,
             "ticks": ""
            },
            "type": "mesh3d"
           }
          ],
          "parcoords": [
           {
            "line": {
             "colorbar": {
              "outlinewidth": 0,
              "ticks": ""
             }
            },
            "type": "parcoords"
           }
          ],
          "pie": [
           {
            "automargin": true,
            "type": "pie"
           }
          ],
          "scatter": [
           {
            "fillpattern": {
             "fillmode": "overlay",
             "size": 10,
             "solidity": 0.2
            },
            "type": "scatter"
           }
          ],
          "scatter3d": [
           {
            "line": {
             "colorbar": {
              "outlinewidth": 0,
              "ticks": ""
             }
            },
            "marker": {
             "colorbar": {
              "outlinewidth": 0,
              "ticks": ""
             }
            },
            "type": "scatter3d"
           }
          ],
          "scattercarpet": [
           {
            "marker": {
             "colorbar": {
              "outlinewidth": 0,
              "ticks": ""
             }
            },
            "type": "scattercarpet"
           }
          ],
          "scattergeo": [
           {
            "marker": {
             "colorbar": {
              "outlinewidth": 0,
              "ticks": ""
             }
            },
            "type": "scattergeo"
           }
          ],
          "scattergl": [
           {
            "marker": {
             "colorbar": {
              "outlinewidth": 0,
              "ticks": ""
             }
            },
            "type": "scattergl"
           }
          ],
          "scattermapbox": [
           {
            "marker": {
             "colorbar": {
              "outlinewidth": 0,
              "ticks": ""
             }
            },
            "type": "scattermapbox"
           }
          ],
          "scatterpolar": [
           {
            "marker": {
             "colorbar": {
              "outlinewidth": 0,
              "ticks": ""
             }
            },
            "type": "scatterpolar"
           }
          ],
          "scatterpolargl": [
           {
            "marker": {
             "colorbar": {
              "outlinewidth": 0,
              "ticks": ""
             }
            },
            "type": "scatterpolargl"
           }
          ],
          "scatterternary": [
           {
            "marker": {
             "colorbar": {
              "outlinewidth": 0,
              "ticks": ""
             }
            },
            "type": "scatterternary"
           }
          ],
          "surface": [
           {
            "colorbar": {
             "outlinewidth": 0,
             "ticks": ""
            },
            "colorscale": [
             [
              0,
              "#0d0887"
             ],
             [
              0.1111111111111111,
              "#46039f"
             ],
             [
              0.2222222222222222,
              "#7201a8"
             ],
             [
              0.3333333333333333,
              "#9c179e"
             ],
             [
              0.4444444444444444,
              "#bd3786"
             ],
             [
              0.5555555555555556,
              "#d8576b"
             ],
             [
              0.6666666666666666,
              "#ed7953"
             ],
             [
              0.7777777777777778,
              "#fb9f3a"
             ],
             [
              0.8888888888888888,
              "#fdca26"
             ],
             [
              1,
              "#f0f921"
             ]
            ],
            "type": "surface"
           }
          ],
          "table": [
           {
            "cells": {
             "fill": {
              "color": "#EBF0F8"
             },
             "line": {
              "color": "white"
             }
            },
            "header": {
             "fill": {
              "color": "#C8D4E3"
             },
             "line": {
              "color": "white"
             }
            },
            "type": "table"
           }
          ]
         },
         "layout": {
          "annotationdefaults": {
           "arrowcolor": "#2a3f5f",
           "arrowhead": 0,
           "arrowwidth": 1
          },
          "autotypenumbers": "strict",
          "coloraxis": {
           "colorbar": {
            "outlinewidth": 0,
            "ticks": ""
           }
          },
          "colorscale": {
           "diverging": [
            [
             0,
             "#8e0152"
            ],
            [
             0.1,
             "#c51b7d"
            ],
            [
             0.2,
             "#de77ae"
            ],
            [
             0.3,
             "#f1b6da"
            ],
            [
             0.4,
             "#fde0ef"
            ],
            [
             0.5,
             "#f7f7f7"
            ],
            [
             0.6,
             "#e6f5d0"
            ],
            [
             0.7,
             "#b8e186"
            ],
            [
             0.8,
             "#7fbc41"
            ],
            [
             0.9,
             "#4d9221"
            ],
            [
             1,
             "#276419"
            ]
           ],
           "sequential": [
            [
             0,
             "#0d0887"
            ],
            [
             0.1111111111111111,
             "#46039f"
            ],
            [
             0.2222222222222222,
             "#7201a8"
            ],
            [
             0.3333333333333333,
             "#9c179e"
            ],
            [
             0.4444444444444444,
             "#bd3786"
            ],
            [
             0.5555555555555556,
             "#d8576b"
            ],
            [
             0.6666666666666666,
             "#ed7953"
            ],
            [
             0.7777777777777778,
             "#fb9f3a"
            ],
            [
             0.8888888888888888,
             "#fdca26"
            ],
            [
             1,
             "#f0f921"
            ]
           ],
           "sequentialminus": [
            [
             0,
             "#0d0887"
            ],
            [
             0.1111111111111111,
             "#46039f"
            ],
            [
             0.2222222222222222,
             "#7201a8"
            ],
            [
             0.3333333333333333,
             "#9c179e"
            ],
            [
             0.4444444444444444,
             "#bd3786"
            ],
            [
             0.5555555555555556,
             "#d8576b"
            ],
            [
             0.6666666666666666,
             "#ed7953"
            ],
            [
             0.7777777777777778,
             "#fb9f3a"
            ],
            [
             0.8888888888888888,
             "#fdca26"
            ],
            [
             1,
             "#f0f921"
            ]
           ]
          },
          "colorway": [
           "#636efa",
           "#EF553B",
           "#00cc96",
           "#ab63fa",
           "#FFA15A",
           "#19d3f3",
           "#FF6692",
           "#B6E880",
           "#FF97FF",
           "#FECB52"
          ],
          "font": {
           "color": "#2a3f5f"
          },
          "geo": {
           "bgcolor": "white",
           "lakecolor": "white",
           "landcolor": "#E5ECF6",
           "showlakes": true,
           "showland": true,
           "subunitcolor": "white"
          },
          "hoverlabel": {
           "align": "left"
          },
          "hovermode": "closest",
          "mapbox": {
           "style": "light"
          },
          "paper_bgcolor": "white",
          "plot_bgcolor": "#E5ECF6",
          "polar": {
           "angularaxis": {
            "gridcolor": "white",
            "linecolor": "white",
            "ticks": ""
           },
           "bgcolor": "#E5ECF6",
           "radialaxis": {
            "gridcolor": "white",
            "linecolor": "white",
            "ticks": ""
           }
          },
          "scene": {
           "xaxis": {
            "backgroundcolor": "#E5ECF6",
            "gridcolor": "white",
            "gridwidth": 2,
            "linecolor": "white",
            "showbackground": true,
            "ticks": "",
            "zerolinecolor": "white"
           },
           "yaxis": {
            "backgroundcolor": "#E5ECF6",
            "gridcolor": "white",
            "gridwidth": 2,
            "linecolor": "white",
            "showbackground": true,
            "ticks": "",
            "zerolinecolor": "white"
           },
           "zaxis": {
            "backgroundcolor": "#E5ECF6",
            "gridcolor": "white",
            "gridwidth": 2,
            "linecolor": "white",
            "showbackground": true,
            "ticks": "",
            "zerolinecolor": "white"
           }
          },
          "shapedefaults": {
           "line": {
            "color": "#2a3f5f"
           }
          },
          "ternary": {
           "aaxis": {
            "gridcolor": "white",
            "linecolor": "white",
            "ticks": ""
           },
           "baxis": {
            "gridcolor": "white",
            "linecolor": "white",
            "ticks": ""
           },
           "bgcolor": "#E5ECF6",
           "caxis": {
            "gridcolor": "white",
            "linecolor": "white",
            "ticks": ""
           }
          },
          "title": {
           "x": 0.05
          },
          "xaxis": {
           "automargin": true,
           "gridcolor": "white",
           "linecolor": "white",
           "ticks": "",
           "title": {
            "standoff": 15
           },
           "zerolinecolor": "white",
           "zerolinewidth": 2
          },
          "yaxis": {
           "automargin": true,
           "gridcolor": "white",
           "linecolor": "white",
           "ticks": "",
           "title": {
            "standoff": 15
           },
           "zerolinecolor": "white",
           "zerolinewidth": 2
          }
         }
        },
        "title": {
         "text": "Relationship between Current Contract and Games Started"
        },
        "width": 800,
        "xaxis": {
         "anchor": "y",
         "domain": [
          0,
          1
         ],
         "title": {
          "text": "Games Started"
         }
        },
        "yaxis": {
         "anchor": "x",
         "domain": [
          0,
          1
         ],
         "title": {
          "text": "Current Contract"
         }
        }
       }
      }
     },
     "metadata": {},
     "output_type": "display_data"
    }
   ],
   "source": [
    "#print the correlation metric\n",
    "print(preprocessed_data[['GS','Current_Contract']].corr())\n",
    "\n",
    "# Create scatter plot\n",
    "fig = px.scatter(preprocessed_data, x='GS', y='Current_Contract',\n",
    "                 title='Relationship between Current Contract and Games Started',\n",
    "                 labels={'GS': 'Games Started', 'Current_Contract': 'Current Contract'})\n",
    "\n",
    "# Update layout\n",
    "fig.update_layout(width=800, height=600)\n",
    "\n",
    "# Show the plot\n",
    "fig.show()"
   ]
  },
  {
   "cell_type": "markdown",
   "metadata": {},
   "source": [
    "Okay, so we can see a stronger relationship between games started and contract values which makes sense in the context of the data because players who start are generally more valueable and demand higher salaries. Let's investigate the distribution of games played in the cell below"
   ]
  },
  {
   "cell_type": "code",
   "execution_count": 9,
   "metadata": {},
   "outputs": [
    {
     "data": {
      "application/vnd.plotly.v1+json": {
       "config": {
        "plotlyServerURL": "https://plot.ly"
       },
       "data": [
        {
         "alignmentgroup": "True",
         "bingroup": "x",
         "hovertemplate": "Games Played=%{x}<br>count=%{y}<extra></extra>",
         "legendgroup": "",
         "marker": {
          "color": "#636efa",
          "pattern": {
           "shape": ""
          }
         },
         "name": "",
         "nbinsx": 10,
         "offsetgroup": "",
         "orientation": "v",
         "showlegend": false,
         "type": "histogram",
         "x": [
          257,
          184,
          368,
          300,
          278,
          289,
          326,
          300,
          230,
          266,
          241,
          330,
          356,
          304,
          250,
          353,
          330,
          325,
          336,
          317,
          335,
          203,
          321,
          322,
          265,
          210,
          246,
          196,
          114,
          248,
          250,
          275,
          328,
          311,
          187,
          334,
          322,
          349,
          359,
          303,
          322,
          267,
          322,
          265,
          287,
          306,
          356,
          357,
          315,
          266,
          267,
          242,
          345,
          210,
          329,
          290,
          310,
          257,
          235,
          273,
          271,
          279,
          347,
          263,
          277,
          291,
          243,
          349,
          320,
          287,
          308,
          252,
          225,
          206,
          224,
          250,
          344,
          302,
          281,
          313,
          191,
          320,
          292,
          294,
          252,
          295,
          268,
          356,
          281,
          192,
          300,
          147,
          266,
          249,
          280,
          238,
          338,
          214,
          177,
          225,
          260,
          196,
          225,
          289,
          349,
          315,
          202,
          213,
          251,
          371,
          189,
          356,
          272,
          327,
          223,
          227,
          187,
          206,
          245,
          319,
          237,
          181,
          288,
          256,
          258,
          248,
          129,
          277,
          262,
          144,
          125,
          306,
          296,
          301,
          260,
          72,
          209,
          269,
          76,
          196,
          250,
          284,
          291,
          312,
          329,
          162,
          222,
          270,
          195,
          273,
          247,
          192,
          277,
          295,
          323,
          174,
          143,
          170,
          339,
          170,
          247,
          377,
          255,
          83,
          323,
          79,
          242,
          317,
          264,
          210,
          148,
          351,
          125,
          318,
          80,
          253,
          178,
          151,
          123,
          247,
          226,
          312,
          165,
          291,
          133,
          245,
          74,
          178,
          325,
          168,
          101,
          209,
          108,
          78,
          201,
          202,
          225,
          268,
          337,
          343,
          130,
          272,
          179,
          157,
          80,
          127,
          212,
          192,
          273,
          253,
          137,
          171,
          268,
          59,
          103,
          170,
          171,
          172,
          159,
          279,
          56,
          189,
          142,
          155,
          283,
          28,
          197,
          140,
          133,
          254,
          270,
          287,
          278,
          99,
          39,
          166,
          294,
          183,
          65,
          75,
          306,
          262,
          205,
          189,
          196,
          108,
          67,
          140,
          136,
          223,
          101,
          59,
          185,
          246,
          333,
          210,
          115,
          43,
          212,
          144,
          202,
          289,
          223,
          151,
          72,
          268,
          181,
          147,
          82,
          204,
          238,
          288,
          141,
          38,
          35,
          153,
          222,
          127,
          66,
          67,
          52,
          216,
          34,
          118,
          76,
          92,
          195,
          172,
          74,
          316,
          114,
          65,
          159,
          70,
          251,
          99,
          52,
          58,
          99,
          152,
          137,
          108,
          155,
          253,
          275,
          37,
          138,
          157,
          29,
          99,
          206,
          117,
          15,
          265,
          274,
          200,
          179,
          31,
          31,
          186,
          181,
          23,
          124,
          130,
          18,
          80,
          109,
          241,
          129,
          172,
          75,
          171,
          43,
          278,
          251,
          127,
          193,
          123,
          209,
          268,
          264,
          229,
          215,
          84,
          94,
          197,
          164,
          210,
          278,
          284,
          230,
          253,
          192,
          166,
          148,
          217,
          142,
          264,
          137,
          290,
          270,
          112,
          167,
          255,
          168,
          238,
          95,
          110,
          156,
          95,
          51,
          49,
          237,
          41,
          129,
          169,
          206,
          164,
          173,
          106,
          120,
          105,
          93,
          64,
          78,
          35,
          92,
          156,
          71,
          104,
          18,
          73,
          120,
          115,
          102,
          31,
          30,
          67,
          36,
          12,
          48,
          10,
          58,
          56,
          15,
          24,
          41,
          46,
          267,
          78,
          84,
          17,
          54,
          33,
          123,
          21,
          20,
          153,
          41
         ],
         "xaxis": "x",
         "yaxis": "y"
        }
       ],
       "layout": {
        "barmode": "relative",
        "height": 600,
        "legend": {
         "tracegroupgap": 0
        },
        "template": {
         "data": {
          "bar": [
           {
            "error_x": {
             "color": "#2a3f5f"
            },
            "error_y": {
             "color": "#2a3f5f"
            },
            "marker": {
             "line": {
              "color": "#E5ECF6",
              "width": 0.5
             },
             "pattern": {
              "fillmode": "overlay",
              "size": 10,
              "solidity": 0.2
             }
            },
            "type": "bar"
           }
          ],
          "barpolar": [
           {
            "marker": {
             "line": {
              "color": "#E5ECF6",
              "width": 0.5
             },
             "pattern": {
              "fillmode": "overlay",
              "size": 10,
              "solidity": 0.2
             }
            },
            "type": "barpolar"
           }
          ],
          "carpet": [
           {
            "aaxis": {
             "endlinecolor": "#2a3f5f",
             "gridcolor": "white",
             "linecolor": "white",
             "minorgridcolor": "white",
             "startlinecolor": "#2a3f5f"
            },
            "baxis": {
             "endlinecolor": "#2a3f5f",
             "gridcolor": "white",
             "linecolor": "white",
             "minorgridcolor": "white",
             "startlinecolor": "#2a3f5f"
            },
            "type": "carpet"
           }
          ],
          "choropleth": [
           {
            "colorbar": {
             "outlinewidth": 0,
             "ticks": ""
            },
            "type": "choropleth"
           }
          ],
          "contour": [
           {
            "colorbar": {
             "outlinewidth": 0,
             "ticks": ""
            },
            "colorscale": [
             [
              0,
              "#0d0887"
             ],
             [
              0.1111111111111111,
              "#46039f"
             ],
             [
              0.2222222222222222,
              "#7201a8"
             ],
             [
              0.3333333333333333,
              "#9c179e"
             ],
             [
              0.4444444444444444,
              "#bd3786"
             ],
             [
              0.5555555555555556,
              "#d8576b"
             ],
             [
              0.6666666666666666,
              "#ed7953"
             ],
             [
              0.7777777777777778,
              "#fb9f3a"
             ],
             [
              0.8888888888888888,
              "#fdca26"
             ],
             [
              1,
              "#f0f921"
             ]
            ],
            "type": "contour"
           }
          ],
          "contourcarpet": [
           {
            "colorbar": {
             "outlinewidth": 0,
             "ticks": ""
            },
            "type": "contourcarpet"
           }
          ],
          "heatmap": [
           {
            "colorbar": {
             "outlinewidth": 0,
             "ticks": ""
            },
            "colorscale": [
             [
              0,
              "#0d0887"
             ],
             [
              0.1111111111111111,
              "#46039f"
             ],
             [
              0.2222222222222222,
              "#7201a8"
             ],
             [
              0.3333333333333333,
              "#9c179e"
             ],
             [
              0.4444444444444444,
              "#bd3786"
             ],
             [
              0.5555555555555556,
              "#d8576b"
             ],
             [
              0.6666666666666666,
              "#ed7953"
             ],
             [
              0.7777777777777778,
              "#fb9f3a"
             ],
             [
              0.8888888888888888,
              "#fdca26"
             ],
             [
              1,
              "#f0f921"
             ]
            ],
            "type": "heatmap"
           }
          ],
          "heatmapgl": [
           {
            "colorbar": {
             "outlinewidth": 0,
             "ticks": ""
            },
            "colorscale": [
             [
              0,
              "#0d0887"
             ],
             [
              0.1111111111111111,
              "#46039f"
             ],
             [
              0.2222222222222222,
              "#7201a8"
             ],
             [
              0.3333333333333333,
              "#9c179e"
             ],
             [
              0.4444444444444444,
              "#bd3786"
             ],
             [
              0.5555555555555556,
              "#d8576b"
             ],
             [
              0.6666666666666666,
              "#ed7953"
             ],
             [
              0.7777777777777778,
              "#fb9f3a"
             ],
             [
              0.8888888888888888,
              "#fdca26"
             ],
             [
              1,
              "#f0f921"
             ]
            ],
            "type": "heatmapgl"
           }
          ],
          "histogram": [
           {
            "marker": {
             "pattern": {
              "fillmode": "overlay",
              "size": 10,
              "solidity": 0.2
             }
            },
            "type": "histogram"
           }
          ],
          "histogram2d": [
           {
            "colorbar": {
             "outlinewidth": 0,
             "ticks": ""
            },
            "colorscale": [
             [
              0,
              "#0d0887"
             ],
             [
              0.1111111111111111,
              "#46039f"
             ],
             [
              0.2222222222222222,
              "#7201a8"
             ],
             [
              0.3333333333333333,
              "#9c179e"
             ],
             [
              0.4444444444444444,
              "#bd3786"
             ],
             [
              0.5555555555555556,
              "#d8576b"
             ],
             [
              0.6666666666666666,
              "#ed7953"
             ],
             [
              0.7777777777777778,
              "#fb9f3a"
             ],
             [
              0.8888888888888888,
              "#fdca26"
             ],
             [
              1,
              "#f0f921"
             ]
            ],
            "type": "histogram2d"
           }
          ],
          "histogram2dcontour": [
           {
            "colorbar": {
             "outlinewidth": 0,
             "ticks": ""
            },
            "colorscale": [
             [
              0,
              "#0d0887"
             ],
             [
              0.1111111111111111,
              "#46039f"
             ],
             [
              0.2222222222222222,
              "#7201a8"
             ],
             [
              0.3333333333333333,
              "#9c179e"
             ],
             [
              0.4444444444444444,
              "#bd3786"
             ],
             [
              0.5555555555555556,
              "#d8576b"
             ],
             [
              0.6666666666666666,
              "#ed7953"
             ],
             [
              0.7777777777777778,
              "#fb9f3a"
             ],
             [
              0.8888888888888888,
              "#fdca26"
             ],
             [
              1,
              "#f0f921"
             ]
            ],
            "type": "histogram2dcontour"
           }
          ],
          "mesh3d": [
           {
            "colorbar": {
             "outlinewidth": 0,
             "ticks": ""
            },
            "type": "mesh3d"
           }
          ],
          "parcoords": [
           {
            "line": {
             "colorbar": {
              "outlinewidth": 0,
              "ticks": ""
             }
            },
            "type": "parcoords"
           }
          ],
          "pie": [
           {
            "automargin": true,
            "type": "pie"
           }
          ],
          "scatter": [
           {
            "fillpattern": {
             "fillmode": "overlay",
             "size": 10,
             "solidity": 0.2
            },
            "type": "scatter"
           }
          ],
          "scatter3d": [
           {
            "line": {
             "colorbar": {
              "outlinewidth": 0,
              "ticks": ""
             }
            },
            "marker": {
             "colorbar": {
              "outlinewidth": 0,
              "ticks": ""
             }
            },
            "type": "scatter3d"
           }
          ],
          "scattercarpet": [
           {
            "marker": {
             "colorbar": {
              "outlinewidth": 0,
              "ticks": ""
             }
            },
            "type": "scattercarpet"
           }
          ],
          "scattergeo": [
           {
            "marker": {
             "colorbar": {
              "outlinewidth": 0,
              "ticks": ""
             }
            },
            "type": "scattergeo"
           }
          ],
          "scattergl": [
           {
            "marker": {
             "colorbar": {
              "outlinewidth": 0,
              "ticks": ""
             }
            },
            "type": "scattergl"
           }
          ],
          "scattermapbox": [
           {
            "marker": {
             "colorbar": {
              "outlinewidth": 0,
              "ticks": ""
             }
            },
            "type": "scattermapbox"
           }
          ],
          "scatterpolar": [
           {
            "marker": {
             "colorbar": {
              "outlinewidth": 0,
              "ticks": ""
             }
            },
            "type": "scatterpolar"
           }
          ],
          "scatterpolargl": [
           {
            "marker": {
             "colorbar": {
              "outlinewidth": 0,
              "ticks": ""
             }
            },
            "type": "scatterpolargl"
           }
          ],
          "scatterternary": [
           {
            "marker": {
             "colorbar": {
              "outlinewidth": 0,
              "ticks": ""
             }
            },
            "type": "scatterternary"
           }
          ],
          "surface": [
           {
            "colorbar": {
             "outlinewidth": 0,
             "ticks": ""
            },
            "colorscale": [
             [
              0,
              "#0d0887"
             ],
             [
              0.1111111111111111,
              "#46039f"
             ],
             [
              0.2222222222222222,
              "#7201a8"
             ],
             [
              0.3333333333333333,
              "#9c179e"
             ],
             [
              0.4444444444444444,
              "#bd3786"
             ],
             [
              0.5555555555555556,
              "#d8576b"
             ],
             [
              0.6666666666666666,
              "#ed7953"
             ],
             [
              0.7777777777777778,
              "#fb9f3a"
             ],
             [
              0.8888888888888888,
              "#fdca26"
             ],
             [
              1,
              "#f0f921"
             ]
            ],
            "type": "surface"
           }
          ],
          "table": [
           {
            "cells": {
             "fill": {
              "color": "#EBF0F8"
             },
             "line": {
              "color": "white"
             }
            },
            "header": {
             "fill": {
              "color": "#C8D4E3"
             },
             "line": {
              "color": "white"
             }
            },
            "type": "table"
           }
          ]
         },
         "layout": {
          "annotationdefaults": {
           "arrowcolor": "#2a3f5f",
           "arrowhead": 0,
           "arrowwidth": 1
          },
          "autotypenumbers": "strict",
          "coloraxis": {
           "colorbar": {
            "outlinewidth": 0,
            "ticks": ""
           }
          },
          "colorscale": {
           "diverging": [
            [
             0,
             "#8e0152"
            ],
            [
             0.1,
             "#c51b7d"
            ],
            [
             0.2,
             "#de77ae"
            ],
            [
             0.3,
             "#f1b6da"
            ],
            [
             0.4,
             "#fde0ef"
            ],
            [
             0.5,
             "#f7f7f7"
            ],
            [
             0.6,
             "#e6f5d0"
            ],
            [
             0.7,
             "#b8e186"
            ],
            [
             0.8,
             "#7fbc41"
            ],
            [
             0.9,
             "#4d9221"
            ],
            [
             1,
             "#276419"
            ]
           ],
           "sequential": [
            [
             0,
             "#0d0887"
            ],
            [
             0.1111111111111111,
             "#46039f"
            ],
            [
             0.2222222222222222,
             "#7201a8"
            ],
            [
             0.3333333333333333,
             "#9c179e"
            ],
            [
             0.4444444444444444,
             "#bd3786"
            ],
            [
             0.5555555555555556,
             "#d8576b"
            ],
            [
             0.6666666666666666,
             "#ed7953"
            ],
            [
             0.7777777777777778,
             "#fb9f3a"
            ],
            [
             0.8888888888888888,
             "#fdca26"
            ],
            [
             1,
             "#f0f921"
            ]
           ],
           "sequentialminus": [
            [
             0,
             "#0d0887"
            ],
            [
             0.1111111111111111,
             "#46039f"
            ],
            [
             0.2222222222222222,
             "#7201a8"
            ],
            [
             0.3333333333333333,
             "#9c179e"
            ],
            [
             0.4444444444444444,
             "#bd3786"
            ],
            [
             0.5555555555555556,
             "#d8576b"
            ],
            [
             0.6666666666666666,
             "#ed7953"
            ],
            [
             0.7777777777777778,
             "#fb9f3a"
            ],
            [
             0.8888888888888888,
             "#fdca26"
            ],
            [
             1,
             "#f0f921"
            ]
           ]
          },
          "colorway": [
           "#636efa",
           "#EF553B",
           "#00cc96",
           "#ab63fa",
           "#FFA15A",
           "#19d3f3",
           "#FF6692",
           "#B6E880",
           "#FF97FF",
           "#FECB52"
          ],
          "font": {
           "color": "#2a3f5f"
          },
          "geo": {
           "bgcolor": "white",
           "lakecolor": "white",
           "landcolor": "#E5ECF6",
           "showlakes": true,
           "showland": true,
           "subunitcolor": "white"
          },
          "hoverlabel": {
           "align": "left"
          },
          "hovermode": "closest",
          "mapbox": {
           "style": "light"
          },
          "paper_bgcolor": "white",
          "plot_bgcolor": "#E5ECF6",
          "polar": {
           "angularaxis": {
            "gridcolor": "white",
            "linecolor": "white",
            "ticks": ""
           },
           "bgcolor": "#E5ECF6",
           "radialaxis": {
            "gridcolor": "white",
            "linecolor": "white",
            "ticks": ""
           }
          },
          "scene": {
           "xaxis": {
            "backgroundcolor": "#E5ECF6",
            "gridcolor": "white",
            "gridwidth": 2,
            "linecolor": "white",
            "showbackground": true,
            "ticks": "",
            "zerolinecolor": "white"
           },
           "yaxis": {
            "backgroundcolor": "#E5ECF6",
            "gridcolor": "white",
            "gridwidth": 2,
            "linecolor": "white",
            "showbackground": true,
            "ticks": "",
            "zerolinecolor": "white"
           },
           "zaxis": {
            "backgroundcolor": "#E5ECF6",
            "gridcolor": "white",
            "gridwidth": 2,
            "linecolor": "white",
            "showbackground": true,
            "ticks": "",
            "zerolinecolor": "white"
           }
          },
          "shapedefaults": {
           "line": {
            "color": "#2a3f5f"
           }
          },
          "ternary": {
           "aaxis": {
            "gridcolor": "white",
            "linecolor": "white",
            "ticks": ""
           },
           "baxis": {
            "gridcolor": "white",
            "linecolor": "white",
            "ticks": ""
           },
           "bgcolor": "#E5ECF6",
           "caxis": {
            "gridcolor": "white",
            "linecolor": "white",
            "ticks": ""
           }
          },
          "title": {
           "x": 0.05
          },
          "xaxis": {
           "automargin": true,
           "gridcolor": "white",
           "linecolor": "white",
           "ticks": "",
           "title": {
            "standoff": 15
           },
           "zerolinecolor": "white",
           "zerolinewidth": 2
          },
          "yaxis": {
           "automargin": true,
           "gridcolor": "white",
           "linecolor": "white",
           "ticks": "",
           "title": {
            "standoff": 15
           },
           "zerolinecolor": "white",
           "zerolinewidth": 2
          }
         }
        },
        "title": {
         "text": "Distribution of Games Played"
        },
        "width": 500,
        "xaxis": {
         "anchor": "y",
         "domain": [
          0,
          1
         ],
         "title": {
          "text": "Games Played"
         }
        },
        "yaxis": {
         "anchor": "x",
         "domain": [
          0,
          1
         ],
         "title": {
          "text": "count"
         }
        }
       }
      }
     },
     "metadata": {},
     "output_type": "display_data"
    }
   ],
   "source": [
    "num_bins = math.ceil(1 + math.log2(len(preprocessed_data)))\n",
    "\n",
    "# Create histogram plot\n",
    "fig = px.histogram(preprocessed_data, x='GP', nbins=num_bins, \n",
    "                   title='Distribution of Games Played',\n",
    "                   labels={'GP': 'Games Played', 'count': 'Frequency'})\n",
    "\n",
    "# Update layout\n",
    "fig.update_layout(width=500, height=600)\n",
    "\n",
    "# Show the plot\n",
    "fig.show()"
   ]
  },
  {
   "cell_type": "markdown",
   "metadata": {},
   "source": [
    "Referring back to the descriptive statistics there's a sizable difference between Min and Max Games Played ('GP'). Additionally, the chart in the cell above shows that games played is skewed.I will create per game stats so that players who play less games can be compared to players who play more games."
   ]
  },
  {
   "cell_type": "code",
   "execution_count": 10,
   "metadata": {},
   "outputs": [],
   "source": [
    "#iterate over the column calculating per game stats\n",
    "per_game_cols = preprocessed_data.columns[-16:]\n",
    "\n",
    "for col in per_game_cols:\n",
    "    new_col_name = f'{col}_Per_Game'\n",
    "    preprocessed_data[new_col_name] = round(preprocessed_data[col] / \n",
    "                                            preprocessed_data['GP'],2)"
   ]
  },
  {
   "cell_type": "code",
   "execution_count": 11,
   "metadata": {},
   "outputs": [
    {
     "data": {
      "text/html": [
       "<div>\n",
       "<style scoped>\n",
       "    .dataframe tbody tr th:only-of-type {\n",
       "        vertical-align: middle;\n",
       "    }\n",
       "\n",
       "    .dataframe tbody tr th {\n",
       "        vertical-align: top;\n",
       "    }\n",
       "\n",
       "    .dataframe thead th {\n",
       "        text-align: right;\n",
       "    }\n",
       "</style>\n",
       "<table border=\"1\" class=\"dataframe\">\n",
       "  <thead>\n",
       "    <tr style=\"text-align: right;\">\n",
       "      <th></th>\n",
       "      <th>Current_Contract</th>\n",
       "      <th>First_Name</th>\n",
       "      <th>Last_Name</th>\n",
       "      <th>PLAYER_ID</th>\n",
       "      <th>GP</th>\n",
       "      <th>GS</th>\n",
       "      <th>MIN</th>\n",
       "      <th>FGM</th>\n",
       "      <th>FGA</th>\n",
       "      <th>FG3M</th>\n",
       "      <th>FG3A</th>\n",
       "      <th>FTM</th>\n",
       "      <th>FTA</th>\n",
       "      <th>OREB</th>\n",
       "      <th>DREB</th>\n",
       "      <th>AST</th>\n",
       "      <th>STL</th>\n",
       "      <th>BLK</th>\n",
       "      <th>TOV</th>\n",
       "      <th>PF</th>\n",
       "      <th>PTS</th>\n",
       "      <th>GS_Per_Game</th>\n",
       "      <th>MIN_Per_Game</th>\n",
       "      <th>FGM_Per_Game</th>\n",
       "      <th>FGA_Per_Game</th>\n",
       "      <th>FG3M_Per_Game</th>\n",
       "      <th>FG3A_Per_Game</th>\n",
       "      <th>FTM_Per_Game</th>\n",
       "      <th>FTA_Per_Game</th>\n",
       "      <th>OREB_Per_Game</th>\n",
       "      <th>DREB_Per_Game</th>\n",
       "      <th>AST_Per_Game</th>\n",
       "      <th>STL_Per_Game</th>\n",
       "      <th>BLK_Per_Game</th>\n",
       "      <th>TOV_Per_Game</th>\n",
       "      <th>PF_Per_Game</th>\n",
       "      <th>PTS_Per_Game</th>\n",
       "    </tr>\n",
       "  </thead>\n",
       "  <tbody>\n",
       "    <tr>\n",
       "      <th>0</th>\n",
       "      <td>51915615.0</td>\n",
       "      <td>stephen</td>\n",
       "      <td>curry</td>\n",
       "      <td>201939</td>\n",
       "      <td>257</td>\n",
       "      <td>257</td>\n",
       "      <td>8774.0</td>\n",
       "      <td>2417</td>\n",
       "      <td>5144</td>\n",
       "      <td>1261</td>\n",
       "      <td>3049</td>\n",
       "      <td>1183</td>\n",
       "      <td>1287</td>\n",
       "      <td>151</td>\n",
       "      <td>1265</td>\n",
       "      <td>1513</td>\n",
       "      <td>311</td>\n",
       "      <td>78</td>\n",
       "      <td>806</td>\n",
       "      <td>543</td>\n",
       "      <td>7278</td>\n",
       "      <td>1.0</td>\n",
       "      <td>34.0</td>\n",
       "      <td>9.0</td>\n",
       "      <td>20.0</td>\n",
       "      <td>5.0</td>\n",
       "      <td>12.0</td>\n",
       "      <td>5.0</td>\n",
       "      <td>5.0</td>\n",
       "      <td>1.0</td>\n",
       "      <td>5.0</td>\n",
       "      <td>6.0</td>\n",
       "      <td>1.0</td>\n",
       "      <td>0.0</td>\n",
       "      <td>3.0</td>\n",
       "      <td>2.0</td>\n",
       "      <td>28.0</td>\n",
       "    </tr>\n",
       "    <tr>\n",
       "      <th>1</th>\n",
       "      <td>47649433.0</td>\n",
       "      <td>kevin</td>\n",
       "      <td>durant</td>\n",
       "      <td>201142</td>\n",
       "      <td>184</td>\n",
       "      <td>181</td>\n",
       "      <td>6548.0</td>\n",
       "      <td>1868</td>\n",
       "      <td>3442</td>\n",
       "      <td>386</td>\n",
       "      <td>949</td>\n",
       "      <td>1196</td>\n",
       "      <td>1315</td>\n",
       "      <td>76</td>\n",
       "      <td>1204</td>\n",
       "      <td>1016</td>\n",
       "      <td>141</td>\n",
       "      <td>231</td>\n",
       "      <td>623</td>\n",
       "      <td>381</td>\n",
       "      <td>5318</td>\n",
       "      <td>1.0</td>\n",
       "      <td>36.0</td>\n",
       "      <td>10.0</td>\n",
       "      <td>19.0</td>\n",
       "      <td>2.0</td>\n",
       "      <td>5.0</td>\n",
       "      <td>6.0</td>\n",
       "      <td>7.0</td>\n",
       "      <td>0.0</td>\n",
       "      <td>7.0</td>\n",
       "      <td>6.0</td>\n",
       "      <td>1.0</td>\n",
       "      <td>1.0</td>\n",
       "      <td>3.0</td>\n",
       "      <td>2.0</td>\n",
       "      <td>29.0</td>\n",
       "    </tr>\n",
       "    <tr>\n",
       "      <th>2</th>\n",
       "      <td>47607350.0</td>\n",
       "      <td>nikola</td>\n",
       "      <td>jokic</td>\n",
       "      <td>203999</td>\n",
       "      <td>368</td>\n",
       "      <td>368</td>\n",
       "      <td>12126.0</td>\n",
       "      <td>3323</td>\n",
       "      <td>5903</td>\n",
       "      <td>409</td>\n",
       "      <td>1199</td>\n",
       "      <td>1597</td>\n",
       "      <td>1930</td>\n",
       "      <td>972</td>\n",
       "      <td>3220</td>\n",
       "      <td>2953</td>\n",
       "      <td>484</td>\n",
       "      <td>257</td>\n",
       "      <td>1224</td>\n",
       "      <td>1007</td>\n",
       "      <td>8652</td>\n",
       "      <td>1.0</td>\n",
       "      <td>33.0</td>\n",
       "      <td>9.0</td>\n",
       "      <td>16.0</td>\n",
       "      <td>1.0</td>\n",
       "      <td>3.0</td>\n",
       "      <td>4.0</td>\n",
       "      <td>5.0</td>\n",
       "      <td>3.0</td>\n",
       "      <td>9.0</td>\n",
       "      <td>8.0</td>\n",
       "      <td>1.0</td>\n",
       "      <td>1.0</td>\n",
       "      <td>3.0</td>\n",
       "      <td>3.0</td>\n",
       "      <td>24.0</td>\n",
       "    </tr>\n",
       "    <tr>\n",
       "      <th>3</th>\n",
       "      <td>47607350.0</td>\n",
       "      <td>joel</td>\n",
       "      <td>embiid</td>\n",
       "      <td>203954</td>\n",
       "      <td>300</td>\n",
       "      <td>300</td>\n",
       "      <td>9825.0</td>\n",
       "      <td>2817</td>\n",
       "      <td>5561</td>\n",
       "      <td>353</td>\n",
       "      <td>1040</td>\n",
       "      <td>2659</td>\n",
       "      <td>3206</td>\n",
       "      <td>673</td>\n",
       "      <td>2796</td>\n",
       "      <td>1089</td>\n",
       "      <td>284</td>\n",
       "      <td>467</td>\n",
       "      <td>984</td>\n",
       "      <td>894</td>\n",
       "      <td>8646</td>\n",
       "      <td>1.0</td>\n",
       "      <td>33.0</td>\n",
       "      <td>9.0</td>\n",
       "      <td>19.0</td>\n",
       "      <td>1.0</td>\n",
       "      <td>3.0</td>\n",
       "      <td>9.0</td>\n",
       "      <td>11.0</td>\n",
       "      <td>2.0</td>\n",
       "      <td>9.0</td>\n",
       "      <td>4.0</td>\n",
       "      <td>1.0</td>\n",
       "      <td>2.0</td>\n",
       "      <td>3.0</td>\n",
       "      <td>3.0</td>\n",
       "      <td>29.0</td>\n",
       "    </tr>\n",
       "    <tr>\n",
       "      <th>4</th>\n",
       "      <td>47607350.0</td>\n",
       "      <td>lebron</td>\n",
       "      <td>james</td>\n",
       "      <td>2544</td>\n",
       "      <td>278</td>\n",
       "      <td>277</td>\n",
       "      <td>9795.0</td>\n",
       "      <td>2872</td>\n",
       "      <td>5661</td>\n",
       "      <td>645</td>\n",
       "      <td>1862</td>\n",
       "      <td>1225</td>\n",
       "      <td>1717</td>\n",
       "      <td>280</td>\n",
       "      <td>1972</td>\n",
       "      <td>2212</td>\n",
       "      <td>321</td>\n",
       "      <td>185</td>\n",
       "      <td>1000</td>\n",
       "      <td>491</td>\n",
       "      <td>7614</td>\n",
       "      <td>1.0</td>\n",
       "      <td>35.0</td>\n",
       "      <td>10.0</td>\n",
       "      <td>20.0</td>\n",
       "      <td>2.0</td>\n",
       "      <td>7.0</td>\n",
       "      <td>4.0</td>\n",
       "      <td>6.0</td>\n",
       "      <td>1.0</td>\n",
       "      <td>7.0</td>\n",
       "      <td>8.0</td>\n",
       "      <td>1.0</td>\n",
       "      <td>1.0</td>\n",
       "      <td>4.0</td>\n",
       "      <td>2.0</td>\n",
       "      <td>27.0</td>\n",
       "    </tr>\n",
       "  </tbody>\n",
       "</table>\n",
       "</div>"
      ],
      "text/plain": [
       "   Current_Contract First_Name Last_Name PLAYER_ID   GP   GS      MIN   FGM  \\\n",
       "0        51915615.0    stephen     curry    201939  257  257   8774.0  2417   \n",
       "1        47649433.0      kevin    durant    201142  184  181   6548.0  1868   \n",
       "2        47607350.0     nikola     jokic    203999  368  368  12126.0  3323   \n",
       "3        47607350.0       joel    embiid    203954  300  300   9825.0  2817   \n",
       "4        47607350.0     lebron     james      2544  278  277   9795.0  2872   \n",
       "\n",
       "    FGA  FG3M  FG3A   FTM   FTA  OREB  DREB   AST  STL  BLK   TOV    PF   PTS  \\\n",
       "0  5144  1261  3049  1183  1287   151  1265  1513  311   78   806   543  7278   \n",
       "1  3442   386   949  1196  1315    76  1204  1016  141  231   623   381  5318   \n",
       "2  5903   409  1199  1597  1930   972  3220  2953  484  257  1224  1007  8652   \n",
       "3  5561   353  1040  2659  3206   673  2796  1089  284  467   984   894  8646   \n",
       "4  5661   645  1862  1225  1717   280  1972  2212  321  185  1000   491  7614   \n",
       "\n",
       "   GS_Per_Game  MIN_Per_Game  FGM_Per_Game  FGA_Per_Game  FG3M_Per_Game  \\\n",
       "0          1.0          34.0           9.0          20.0            5.0   \n",
       "1          1.0          36.0          10.0          19.0            2.0   \n",
       "2          1.0          33.0           9.0          16.0            1.0   \n",
       "3          1.0          33.0           9.0          19.0            1.0   \n",
       "4          1.0          35.0          10.0          20.0            2.0   \n",
       "\n",
       "   FG3A_Per_Game  FTM_Per_Game  FTA_Per_Game  OREB_Per_Game  DREB_Per_Game  \\\n",
       "0           12.0           5.0           5.0            1.0            5.0   \n",
       "1            5.0           6.0           7.0            0.0            7.0   \n",
       "2            3.0           4.0           5.0            3.0            9.0   \n",
       "3            3.0           9.0          11.0            2.0            9.0   \n",
       "4            7.0           4.0           6.0            1.0            7.0   \n",
       "\n",
       "   AST_Per_Game  STL_Per_Game  BLK_Per_Game  TOV_Per_Game  PF_Per_Game  \\\n",
       "0           6.0           1.0           0.0           3.0          2.0   \n",
       "1           6.0           1.0           1.0           3.0          2.0   \n",
       "2           8.0           1.0           1.0           3.0          3.0   \n",
       "3           4.0           1.0           2.0           3.0          3.0   \n",
       "4           8.0           1.0           1.0           4.0          2.0   \n",
       "\n",
       "   PTS_Per_Game  \n",
       "0          28.0  \n",
       "1          29.0  \n",
       "2          24.0  \n",
       "3          29.0  \n",
       "4          27.0  "
      ]
     },
     "execution_count": 11,
     "metadata": {},
     "output_type": "execute_result"
    }
   ],
   "source": [
    "preprocessed_data.head().round()"
   ]
  },
  {
   "cell_type": "markdown",
   "metadata": {},
   "source": [
    "Now that we have per game stats, I will drop the aggregated total columns."
   ]
  },
  {
   "cell_type": "code",
   "execution_count": 12,
   "metadata": {},
   "outputs": [],
   "source": [
    "totals_col = ['GP', 'GS', 'MIN', 'FGM', 'FGA', 'FG3M', 'FG3A', 'FTM', 'FTA', \n",
    "              'OREB', 'DREB','AST', 'STL', 'BLK', 'TOV', 'PF', 'PTS']\n",
    "\n",
    "regression_df = preprocessed_data.drop(columns= totals_col)"
   ]
  },
  {
   "cell_type": "code",
   "execution_count": 13,
   "metadata": {},
   "outputs": [
    {
     "data": {
      "text/html": [
       "<div>\n",
       "<style scoped>\n",
       "    .dataframe tbody tr th:only-of-type {\n",
       "        vertical-align: middle;\n",
       "    }\n",
       "\n",
       "    .dataframe tbody tr th {\n",
       "        vertical-align: top;\n",
       "    }\n",
       "\n",
       "    .dataframe thead th {\n",
       "        text-align: right;\n",
       "    }\n",
       "</style>\n",
       "<table border=\"1\" class=\"dataframe\">\n",
       "  <thead>\n",
       "    <tr style=\"text-align: right;\">\n",
       "      <th></th>\n",
       "      <th>Current_Contract</th>\n",
       "      <th>First_Name</th>\n",
       "      <th>Last_Name</th>\n",
       "      <th>PLAYER_ID</th>\n",
       "      <th>GS_Per_Game</th>\n",
       "      <th>MIN_Per_Game</th>\n",
       "      <th>FGM_Per_Game</th>\n",
       "      <th>FGA_Per_Game</th>\n",
       "      <th>FG3M_Per_Game</th>\n",
       "      <th>FG3A_Per_Game</th>\n",
       "      <th>FTM_Per_Game</th>\n",
       "      <th>FTA_Per_Game</th>\n",
       "      <th>OREB_Per_Game</th>\n",
       "      <th>DREB_Per_Game</th>\n",
       "      <th>AST_Per_Game</th>\n",
       "      <th>STL_Per_Game</th>\n",
       "      <th>BLK_Per_Game</th>\n",
       "      <th>TOV_Per_Game</th>\n",
       "      <th>PF_Per_Game</th>\n",
       "      <th>PTS_Per_Game</th>\n",
       "    </tr>\n",
       "  </thead>\n",
       "  <tbody>\n",
       "    <tr>\n",
       "      <th>0</th>\n",
       "      <td>51915615.0</td>\n",
       "      <td>stephen</td>\n",
       "      <td>curry</td>\n",
       "      <td>201939</td>\n",
       "      <td>1.00</td>\n",
       "      <td>34.14</td>\n",
       "      <td>9.40</td>\n",
       "      <td>20.02</td>\n",
       "      <td>4.91</td>\n",
       "      <td>11.86</td>\n",
       "      <td>4.60</td>\n",
       "      <td>5.01</td>\n",
       "      <td>0.59</td>\n",
       "      <td>4.92</td>\n",
       "      <td>5.89</td>\n",
       "      <td>1.21</td>\n",
       "      <td>0.30</td>\n",
       "      <td>3.14</td>\n",
       "      <td>2.11</td>\n",
       "      <td>28.32</td>\n",
       "    </tr>\n",
       "    <tr>\n",
       "      <th>1</th>\n",
       "      <td>47649433.0</td>\n",
       "      <td>kevin</td>\n",
       "      <td>durant</td>\n",
       "      <td>201142</td>\n",
       "      <td>0.98</td>\n",
       "      <td>35.59</td>\n",
       "      <td>10.15</td>\n",
       "      <td>18.71</td>\n",
       "      <td>2.10</td>\n",
       "      <td>5.16</td>\n",
       "      <td>6.50</td>\n",
       "      <td>7.15</td>\n",
       "      <td>0.41</td>\n",
       "      <td>6.54</td>\n",
       "      <td>5.52</td>\n",
       "      <td>0.77</td>\n",
       "      <td>1.26</td>\n",
       "      <td>3.39</td>\n",
       "      <td>2.07</td>\n",
       "      <td>28.90</td>\n",
       "    </tr>\n",
       "    <tr>\n",
       "      <th>2</th>\n",
       "      <td>47607350.0</td>\n",
       "      <td>nikola</td>\n",
       "      <td>jokic</td>\n",
       "      <td>203999</td>\n",
       "      <td>1.00</td>\n",
       "      <td>32.95</td>\n",
       "      <td>9.03</td>\n",
       "      <td>16.04</td>\n",
       "      <td>1.11</td>\n",
       "      <td>3.26</td>\n",
       "      <td>4.34</td>\n",
       "      <td>5.24</td>\n",
       "      <td>2.64</td>\n",
       "      <td>8.75</td>\n",
       "      <td>8.02</td>\n",
       "      <td>1.32</td>\n",
       "      <td>0.70</td>\n",
       "      <td>3.33</td>\n",
       "      <td>2.74</td>\n",
       "      <td>23.51</td>\n",
       "    </tr>\n",
       "    <tr>\n",
       "      <th>3</th>\n",
       "      <td>47607350.0</td>\n",
       "      <td>joel</td>\n",
       "      <td>embiid</td>\n",
       "      <td>203954</td>\n",
       "      <td>1.00</td>\n",
       "      <td>32.75</td>\n",
       "      <td>9.39</td>\n",
       "      <td>18.54</td>\n",
       "      <td>1.18</td>\n",
       "      <td>3.47</td>\n",
       "      <td>8.86</td>\n",
       "      <td>10.69</td>\n",
       "      <td>2.24</td>\n",
       "      <td>9.32</td>\n",
       "      <td>3.63</td>\n",
       "      <td>0.95</td>\n",
       "      <td>1.56</td>\n",
       "      <td>3.28</td>\n",
       "      <td>2.98</td>\n",
       "      <td>28.82</td>\n",
       "    </tr>\n",
       "    <tr>\n",
       "      <th>4</th>\n",
       "      <td>47607350.0</td>\n",
       "      <td>lebron</td>\n",
       "      <td>james</td>\n",
       "      <td>2544</td>\n",
       "      <td>1.00</td>\n",
       "      <td>35.23</td>\n",
       "      <td>10.33</td>\n",
       "      <td>20.36</td>\n",
       "      <td>2.32</td>\n",
       "      <td>6.70</td>\n",
       "      <td>4.41</td>\n",
       "      <td>6.18</td>\n",
       "      <td>1.01</td>\n",
       "      <td>7.09</td>\n",
       "      <td>7.96</td>\n",
       "      <td>1.15</td>\n",
       "      <td>0.67</td>\n",
       "      <td>3.60</td>\n",
       "      <td>1.77</td>\n",
       "      <td>27.39</td>\n",
       "    </tr>\n",
       "  </tbody>\n",
       "</table>\n",
       "</div>"
      ],
      "text/plain": [
       "   Current_Contract First_Name Last_Name PLAYER_ID  GS_Per_Game  MIN_Per_Game  \\\n",
       "0        51915615.0    stephen     curry    201939         1.00         34.14   \n",
       "1        47649433.0      kevin    durant    201142         0.98         35.59   \n",
       "2        47607350.0     nikola     jokic    203999         1.00         32.95   \n",
       "3        47607350.0       joel    embiid    203954         1.00         32.75   \n",
       "4        47607350.0     lebron     james      2544         1.00         35.23   \n",
       "\n",
       "   FGM_Per_Game  FGA_Per_Game  FG3M_Per_Game  FG3A_Per_Game  FTM_Per_Game  \\\n",
       "0          9.40         20.02           4.91          11.86          4.60   \n",
       "1         10.15         18.71           2.10           5.16          6.50   \n",
       "2          9.03         16.04           1.11           3.26          4.34   \n",
       "3          9.39         18.54           1.18           3.47          8.86   \n",
       "4         10.33         20.36           2.32           6.70          4.41   \n",
       "\n",
       "   FTA_Per_Game  OREB_Per_Game  DREB_Per_Game  AST_Per_Game  STL_Per_Game  \\\n",
       "0          5.01           0.59           4.92          5.89          1.21   \n",
       "1          7.15           0.41           6.54          5.52          0.77   \n",
       "2          5.24           2.64           8.75          8.02          1.32   \n",
       "3         10.69           2.24           9.32          3.63          0.95   \n",
       "4          6.18           1.01           7.09          7.96          1.15   \n",
       "\n",
       "   BLK_Per_Game  TOV_Per_Game  PF_Per_Game  PTS_Per_Game  \n",
       "0          0.30          3.14         2.11         28.32  \n",
       "1          1.26          3.39         2.07         28.90  \n",
       "2          0.70          3.33         2.74         23.51  \n",
       "3          1.56          3.28         2.98         28.82  \n",
       "4          0.67          3.60         1.77         27.39  "
      ]
     },
     "execution_count": 13,
     "metadata": {},
     "output_type": "execute_result"
    }
   ],
   "source": [
    "regression_df.head()"
   ]
  },
  {
   "cell_type": "code",
   "execution_count": 14,
   "metadata": {},
   "outputs": [
    {
     "data": {
      "text/plain": [
       "count    419.00\n",
       "mean      10.52\n",
       "std        6.06\n",
       "min        1.24\n",
       "25%        5.94\n",
       "50%        9.01\n",
       "75%       14.07\n",
       "max       29.23\n",
       "Name: PTS_Per_Game, dtype: float64"
      ]
     },
     "execution_count": 14,
     "metadata": {},
     "output_type": "execute_result"
    }
   ],
   "source": [
    "regression_df['PTS_Per_Game'].describe().round(2)"
   ]
  },
  {
   "cell_type": "markdown",
   "metadata": {},
   "source": [
    "In related studies, assists, points, and turnovers have impacted contract values, and while my dataset is different from the related studies I am curious to understand how those metric relate to contract values."
   ]
  },
  {
   "cell_type": "code",
   "execution_count": 15,
   "metadata": {},
   "outputs": [
    {
     "data": {
      "application/vnd.plotly.v1+json": {
       "config": {
        "plotlyServerURL": "https://plot.ly"
       },
       "data": [
        {
         "alignmentgroup": "True",
         "hovertemplate": "Assist Rate=%{x}<br>Contract Value=%{y}<extra></extra>",
         "legendgroup": "high",
         "marker": {
          "color": "#064096"
         },
         "name": "high",
         "notched": false,
         "offsetgroup": "high",
         "orientation": "v",
         "showlegend": true,
         "type": "box",
         "x": [
          "high",
          "high",
          "high",
          "high",
          "high",
          "high",
          "high",
          "high",
          "high",
          "high",
          "high",
          "high",
          "high",
          "high",
          "high",
          "high",
          "high",
          "high",
          "high",
          "high",
          "high",
          "high",
          "high",
          "high",
          "high",
          "high",
          "high",
          "high",
          "high",
          "high",
          "high",
          "high",
          "high",
          "high",
          "high",
          "high",
          "high",
          "high",
          "high",
          "high",
          "high",
          "high",
          "high",
          "high",
          "high",
          "high",
          "high",
          "high",
          "high",
          "high",
          "high",
          "high",
          "high",
          "high",
          "high",
          "high",
          "high",
          "high",
          "high",
          "high",
          "high",
          "high",
          "high",
          "high",
          "high"
         ],
         "x0": " ",
         "xaxis": "x",
         "y": [
          51915615,
          47649433,
          47607350,
          47607350,
          46741590,
          45640084,
          45640084,
          45640084,
          45640084,
          45183960,
          40806300,
          40064220,
          40064220,
          40064220,
          37893408,
          37893408,
          37037037,
          36861707,
          36016200,
          35802469,
          35640000,
          34005250,
          34005250,
          33833400,
          33833400,
          33386850,
          33162030,
          32600060,
          30800000,
          30600000,
          29682540,
          29320988,
          28600000,
          28226880,
          26346666,
          24360000,
          22500000,
          22321429,
          20465117,
          20357143,
          18833713,
          18357143,
          18214000,
          17307693,
          17000000,
          15860000,
          15384616,
          14000000,
          12405000,
          11055360,
          11000000,
          10900635,
          8700000,
          7614480,
          7413955,
          6802950,
          6587040,
          8519706,
          5808435,
          5539771,
          3835738,
          3695311,
          2586665,
          2131905,
          1300000
         ],
         "y0": " ",
         "yaxis": "y"
        },
        {
         "alignmentgroup": "True",
         "hovertemplate": "Assist Rate=%{x}<br>Contract Value=%{y}<extra></extra>",
         "legendgroup": "medium",
         "marker": {
          "color": "#81a6c8"
         },
         "name": "medium",
         "notched": false,
         "offsetgroup": "medium",
         "orientation": "v",
         "showlegend": true,
         "type": "box",
         "x": [
          "medium",
          "medium",
          "medium",
          "medium",
          "medium",
          "medium",
          "medium",
          "medium",
          "medium",
          "medium",
          "medium",
          "medium",
          "medium",
          "medium",
          "medium",
          "medium",
          "medium",
          "medium",
          "medium",
          "medium",
          "medium",
          "medium",
          "medium",
          "medium",
          "medium",
          "medium",
          "medium",
          "medium",
          "medium",
          "medium",
          "medium",
          "medium",
          "medium",
          "medium",
          "medium",
          "medium",
          "medium",
          "medium",
          "medium",
          "medium",
          "medium",
          "medium",
          "medium",
          "medium",
          "medium",
          "medium",
          "medium",
          "medium",
          "medium",
          "medium",
          "medium",
          "medium",
          "medium",
          "medium",
          "medium",
          "medium",
          "medium",
          "medium",
          "medium",
          "medium",
          "medium",
          "medium",
          "medium",
          "medium",
          "medium",
          "medium",
          "medium",
          "medium",
          "medium",
          "medium",
          "medium",
          "medium",
          "medium",
          "medium",
          "medium",
          "medium",
          "medium",
          "medium",
          "medium",
          "medium",
          "medium",
          "medium",
          "medium",
          "medium",
          "medium",
          "medium",
          "medium",
          "medium",
          "medium",
          "medium",
          "medium",
          "medium",
          "medium",
          "medium",
          "medium",
          "medium",
          "medium",
          "medium",
          "medium",
          "medium",
          "medium",
          "medium",
          "medium",
          "medium",
          "medium",
          "medium",
          "medium",
          "medium",
          "medium",
          "medium",
          "medium",
          "medium",
          "medium",
          "medium",
          "medium",
          "medium",
          "medium",
          "medium",
          "medium",
          "medium",
          "medium",
          "medium",
          "medium",
          "medium",
          "medium",
          "medium",
          "medium",
          "medium",
          "medium",
          "medium",
          "medium",
          "medium",
          "medium",
          "medium",
          "medium",
          "medium",
          "medium",
          "medium",
          "medium",
          "medium",
          "medium",
          "medium",
          "medium",
          "medium",
          "medium",
          "medium",
          "medium",
          "medium",
          "medium",
          "medium",
          "medium",
          "medium",
          "medium",
          "medium",
          "medium",
          "medium",
          "medium",
          "medium",
          "medium",
          "medium",
          "medium",
          "medium",
          "medium",
          "medium",
          "medium",
          "medium",
          "medium",
          "medium",
          "medium",
          "medium",
          "medium",
          "medium",
          "medium",
          "medium",
          "medium",
          "medium",
          "medium",
          "medium",
          "medium",
          "medium",
          "medium",
          "medium",
          "medium",
          "medium",
          "medium",
          "medium",
          "medium",
          "medium",
          "medium",
          "medium",
          "medium",
          "medium",
          "medium",
          "medium",
          "medium",
          "medium",
          "medium",
          "medium",
          "medium",
          "medium",
          "medium",
          "medium",
          "medium",
          "medium",
          "medium",
          "medium",
          "medium",
          "medium",
          "medium",
          "medium",
          "medium",
          "medium",
          "medium",
          "medium",
          "medium",
          "medium",
          "medium",
          "medium",
          "medium",
          "medium",
          "medium",
          "medium",
          "medium",
          "medium",
          "medium",
          "medium",
          "medium",
          "medium",
          "medium",
          "medium",
          "medium",
          "medium",
          "medium",
          "medium",
          "medium",
          "medium",
          "medium",
          "medium",
          "medium",
          "medium",
          "medium",
          "medium",
          "medium",
          "medium",
          "medium",
          "medium",
          "medium",
          "medium",
          "medium",
          "medium",
          "medium",
          "medium",
          "medium",
          "medium",
          "medium",
          "medium",
          "medium",
          "medium",
          "medium",
          "medium",
          "medium",
          "medium",
          "medium",
          "medium",
          "medium",
          "medium",
          "medium",
          "medium",
          "medium",
          "medium",
          "medium",
          "medium",
          "medium",
          "medium",
          "medium",
          "medium",
          "medium",
          "medium",
          "medium",
          "medium",
          "medium",
          "medium",
          "medium",
          "medium",
          "medium",
          "medium",
          "medium",
          "medium",
          "medium",
          "medium",
          "medium",
          "medium",
          "medium",
          "medium",
          "medium",
          "medium",
          "medium",
          "medium",
          "medium",
          "medium",
          "medium",
          "medium",
          "medium",
          "medium",
          "medium",
          "medium",
          "medium",
          "medium",
          "medium",
          "medium",
          "medium",
          "medium",
          "medium",
          "medium",
          "medium",
          "medium",
          "medium",
          "medium",
          "medium",
          "medium",
          "medium",
          "medium",
          "medium",
          "medium",
          "medium",
          "medium",
          "medium",
          "medium",
          "medium",
          "medium",
          "medium",
          "medium",
          "medium",
          "medium",
          "medium",
          "medium",
          "medium",
          "medium",
          "medium",
          "medium"
         ],
         "x0": " ",
         "xaxis": "x",
         "y": [
          47607350,
          43219440,
          41000000,
          40600080,
          39270150,
          36016200,
          36016200,
          34005250,
          33386850,
          32600060,
          32600060,
          32459438,
          31830357,
          31500000,
          27586207,
          27455357,
          27102202,
          27000000,
          25679348,
          25568182,
          25340000,
          25000000,
          24330357,
          24107143,
          23883929,
          23487629,
          23205221,
          22627671,
          22266182,
          22000000,
          21700000,
          20975000,
          20616000,
          20089286,
          20000000,
          20000000,
          20000000,
          19928571,
          19500000,
          19279841,
          18857143,
          18700000,
          18642857,
          18560000,
          18518519,
          18154000,
          18000000,
          17897728,
          17400000,
          17325000,
          17259999,
          17116279,
          17000000,
          17000000,
          16875000,
          16847826,
          15740741,
          15681818,
          15669643,
          15435000,
          15277778,
          14763636,
          14704938,
          14487684,
          13932008,
          13750000,
          13534817,
          13050000,
          13000000,
          12960000,
          12950400,
          12600000,
          12500000,
          12500000,
          12405000,
          12402000,
          12195122,
          12119440,
          12100000,
          12046020,
          12015150,
          12015150,
          11750000,
          11710818,
          11710818,
          11692308,
          11608080,
          11571429,
          11111111,
          11020000,
          11014500,
          13033786,
          11000000,
          10933333,
          10900000,
          10576923,
          10500000,
          10500000,
          10489600,
          10375000,
          10250000,
          10000000,
          9945830,
          9895833,
          9891480,
          9835881,
          9800926,
          9625000,
          9600000,
          9500000,
          9460000,
          9450000,
          9423869,
          9326520,
          9245121,
          9219512,
          8925000,
          8920795,
          8882640,
          8800000,
          8715000,
          8409000,
          8195122,
          8109063,
          8008680,
          8000000,
          8000000,
          8000000,
          8000000,
          8000000,
          7921300,
          7700000,
          7560000,
          7500000,
          7252080,
          6985000,
          8670002,
          6916080,
          6803012,
          6802950,
          6802950,
          6802950,
          6718842,
          6500000,
          6481482,
          6313800,
          6300000,
          6263188,
          6250000,
          6190476,
          6175000,
          6012840,
          5887899,
          5784120,
          5722116,
          5709877,
          5634257,
          5508720,
          5370370,
          5316960,
          5266713,
          5266713,
          5063640,
          5050800,
          5050800,
          5043773,
          5009633,
          5000000,
          5000000,
          5000000,
          5000000,
          4810200,
          4798440,
          4765339,
          4698000,
          4687500,
          4570080,
          4558680,
          4556983,
          4516000,
          4516000,
          4379527,
          4343920,
          6105941,
          4330680,
          4310250,
          4171548,
          4124400,
          4114200,
          4037277,
          4000000,
          4000000,
          4000000,
          3918480,
          3901399,
          3873025,
          3845083,
          3835738,
          3722040,
          3712920,
          3666667,
          3536280,
          3527160,
          3500000,
          3360000,
          5379706,
          3359280,
          3350760,
          3199920,
          3196448,
          3196448,
          3191400,
          3071880,
          3044872,
          3000000,
          3000000,
          3000000,
          2949120,
          2925360,
          2891467,
          2831160,
          2815937,
          2808720,
          2800000,
          2748674,
          2718240,
          2709849,
          2696280,
          2609400,
          2600000,
          2588400,
          2586665,
          2581522,
          2528233,
          2528233,
          2528233,
          2504640,
          2485200,
          2439025,
          2421720,
          2413304,
          2400000,
          2385720,
          2352000,
          4368030,
          2346614,
          2346614,
          2346614,
          2320440,
          2320000,
          2306400,
          2303520,
          2240160,
          2234359,
          2226240,
          2210040,
          2194200,
          2165000,
          2165000,
          2165000,
          2066585,
          2066585,
          2019706,
          2019706,
          2019706,
          2019706,
          2019706,
          2019706,
          2019706,
          2019706,
          2019706,
          2019706,
          2019706,
          2019706,
          2019706,
          2019706,
          2019706,
          2019706,
          2019706,
          2019706,
          2019706,
          2019706,
          2019706,
          2019706,
          2019706,
          2019706,
          2019706,
          2019706,
          2419706,
          2019706,
          2019706,
          2019706,
          2019706,
          2019706,
          2019706,
          2019706,
          2019706,
          2000000,
          2000000,
          2000000,
          1997238,
          1997238,
          1997238,
          1930681,
          1930681,
          1930681,
          1927896,
          1927896,
          1927896,
          1927896,
          1927896,
          1902137,
          1901769,
          1900000,
          1845593,
          1836096,
          1836096,
          1836096,
          1836096,
          1836096,
          1836096,
          1836096,
          1801769,
          1801769,
          1799163,
          1719864,
          1719864,
          1719864,
          1719864,
          1719864,
          1719864,
          1719864,
          1719864,
          1719864,
          831385,
          702311,
          300000,
          268032,
          200000,
          92857
         ],
         "y0": " ",
         "yaxis": "y"
        },
        {
         "alignmentgroup": "True",
         "hovertemplate": "Assist Rate=%{x}<br>Contract Value=%{y}<extra></extra>",
         "legendgroup": "low",
         "marker": {
          "color": "#adc89e"
         },
         "name": "low",
         "notched": false,
         "offsetgroup": "low",
         "orientation": "v",
         "showlegend": true,
         "type": "box",
         "x": [
          "low",
          "low",
          "low",
          "low",
          "low",
          "low",
          "low",
          "low",
          "low",
          "low",
          "low",
          "low",
          "low",
          "low"
         ],
         "x0": " ",
         "xaxis": "x",
         "y": [
          7723000,
          5000000,
          4306281,
          3908160,
          3047880,
          2844430,
          2337720,
          2019706,
          2019706,
          1719864,
          600000,
          576230,
          555217,
          250000
         ],
         "y0": " ",
         "yaxis": "y"
        }
       ],
       "layout": {
        "boxmode": "overlay",
        "height": 400,
        "legend": {
         "title": {
          "text": "Assist Rate"
         },
         "tracegroupgap": 0
        },
        "template": {
         "data": {
          "bar": [
           {
            "error_x": {
             "color": "#2a3f5f"
            },
            "error_y": {
             "color": "#2a3f5f"
            },
            "marker": {
             "line": {
              "color": "#E5ECF6",
              "width": 0.5
             },
             "pattern": {
              "fillmode": "overlay",
              "size": 10,
              "solidity": 0.2
             }
            },
            "type": "bar"
           }
          ],
          "barpolar": [
           {
            "marker": {
             "line": {
              "color": "#E5ECF6",
              "width": 0.5
             },
             "pattern": {
              "fillmode": "overlay",
              "size": 10,
              "solidity": 0.2
             }
            },
            "type": "barpolar"
           }
          ],
          "carpet": [
           {
            "aaxis": {
             "endlinecolor": "#2a3f5f",
             "gridcolor": "white",
             "linecolor": "white",
             "minorgridcolor": "white",
             "startlinecolor": "#2a3f5f"
            },
            "baxis": {
             "endlinecolor": "#2a3f5f",
             "gridcolor": "white",
             "linecolor": "white",
             "minorgridcolor": "white",
             "startlinecolor": "#2a3f5f"
            },
            "type": "carpet"
           }
          ],
          "choropleth": [
           {
            "colorbar": {
             "outlinewidth": 0,
             "ticks": ""
            },
            "type": "choropleth"
           }
          ],
          "contour": [
           {
            "colorbar": {
             "outlinewidth": 0,
             "ticks": ""
            },
            "colorscale": [
             [
              0,
              "#0d0887"
             ],
             [
              0.1111111111111111,
              "#46039f"
             ],
             [
              0.2222222222222222,
              "#7201a8"
             ],
             [
              0.3333333333333333,
              "#9c179e"
             ],
             [
              0.4444444444444444,
              "#bd3786"
             ],
             [
              0.5555555555555556,
              "#d8576b"
             ],
             [
              0.6666666666666666,
              "#ed7953"
             ],
             [
              0.7777777777777778,
              "#fb9f3a"
             ],
             [
              0.8888888888888888,
              "#fdca26"
             ],
             [
              1,
              "#f0f921"
             ]
            ],
            "type": "contour"
           }
          ],
          "contourcarpet": [
           {
            "colorbar": {
             "outlinewidth": 0,
             "ticks": ""
            },
            "type": "contourcarpet"
           }
          ],
          "heatmap": [
           {
            "colorbar": {
             "outlinewidth": 0,
             "ticks": ""
            },
            "colorscale": [
             [
              0,
              "#0d0887"
             ],
             [
              0.1111111111111111,
              "#46039f"
             ],
             [
              0.2222222222222222,
              "#7201a8"
             ],
             [
              0.3333333333333333,
              "#9c179e"
             ],
             [
              0.4444444444444444,
              "#bd3786"
             ],
             [
              0.5555555555555556,
              "#d8576b"
             ],
             [
              0.6666666666666666,
              "#ed7953"
             ],
             [
              0.7777777777777778,
              "#fb9f3a"
             ],
             [
              0.8888888888888888,
              "#fdca26"
             ],
             [
              1,
              "#f0f921"
             ]
            ],
            "type": "heatmap"
           }
          ],
          "heatmapgl": [
           {
            "colorbar": {
             "outlinewidth": 0,
             "ticks": ""
            },
            "colorscale": [
             [
              0,
              "#0d0887"
             ],
             [
              0.1111111111111111,
              "#46039f"
             ],
             [
              0.2222222222222222,
              "#7201a8"
             ],
             [
              0.3333333333333333,
              "#9c179e"
             ],
             [
              0.4444444444444444,
              "#bd3786"
             ],
             [
              0.5555555555555556,
              "#d8576b"
             ],
             [
              0.6666666666666666,
              "#ed7953"
             ],
             [
              0.7777777777777778,
              "#fb9f3a"
             ],
             [
              0.8888888888888888,
              "#fdca26"
             ],
             [
              1,
              "#f0f921"
             ]
            ],
            "type": "heatmapgl"
           }
          ],
          "histogram": [
           {
            "marker": {
             "pattern": {
              "fillmode": "overlay",
              "size": 10,
              "solidity": 0.2
             }
            },
            "type": "histogram"
           }
          ],
          "histogram2d": [
           {
            "colorbar": {
             "outlinewidth": 0,
             "ticks": ""
            },
            "colorscale": [
             [
              0,
              "#0d0887"
             ],
             [
              0.1111111111111111,
              "#46039f"
             ],
             [
              0.2222222222222222,
              "#7201a8"
             ],
             [
              0.3333333333333333,
              "#9c179e"
             ],
             [
              0.4444444444444444,
              "#bd3786"
             ],
             [
              0.5555555555555556,
              "#d8576b"
             ],
             [
              0.6666666666666666,
              "#ed7953"
             ],
             [
              0.7777777777777778,
              "#fb9f3a"
             ],
             [
              0.8888888888888888,
              "#fdca26"
             ],
             [
              1,
              "#f0f921"
             ]
            ],
            "type": "histogram2d"
           }
          ],
          "histogram2dcontour": [
           {
            "colorbar": {
             "outlinewidth": 0,
             "ticks": ""
            },
            "colorscale": [
             [
              0,
              "#0d0887"
             ],
             [
              0.1111111111111111,
              "#46039f"
             ],
             [
              0.2222222222222222,
              "#7201a8"
             ],
             [
              0.3333333333333333,
              "#9c179e"
             ],
             [
              0.4444444444444444,
              "#bd3786"
             ],
             [
              0.5555555555555556,
              "#d8576b"
             ],
             [
              0.6666666666666666,
              "#ed7953"
             ],
             [
              0.7777777777777778,
              "#fb9f3a"
             ],
             [
              0.8888888888888888,
              "#fdca26"
             ],
             [
              1,
              "#f0f921"
             ]
            ],
            "type": "histogram2dcontour"
           }
          ],
          "mesh3d": [
           {
            "colorbar": {
             "outlinewidth": 0,
             "ticks": ""
            },
            "type": "mesh3d"
           }
          ],
          "parcoords": [
           {
            "line": {
             "colorbar": {
              "outlinewidth": 0,
              "ticks": ""
             }
            },
            "type": "parcoords"
           }
          ],
          "pie": [
           {
            "automargin": true,
            "type": "pie"
           }
          ],
          "scatter": [
           {
            "fillpattern": {
             "fillmode": "overlay",
             "size": 10,
             "solidity": 0.2
            },
            "type": "scatter"
           }
          ],
          "scatter3d": [
           {
            "line": {
             "colorbar": {
              "outlinewidth": 0,
              "ticks": ""
             }
            },
            "marker": {
             "colorbar": {
              "outlinewidth": 0,
              "ticks": ""
             }
            },
            "type": "scatter3d"
           }
          ],
          "scattercarpet": [
           {
            "marker": {
             "colorbar": {
              "outlinewidth": 0,
              "ticks": ""
             }
            },
            "type": "scattercarpet"
           }
          ],
          "scattergeo": [
           {
            "marker": {
             "colorbar": {
              "outlinewidth": 0,
              "ticks": ""
             }
            },
            "type": "scattergeo"
           }
          ],
          "scattergl": [
           {
            "marker": {
             "colorbar": {
              "outlinewidth": 0,
              "ticks": ""
             }
            },
            "type": "scattergl"
           }
          ],
          "scattermapbox": [
           {
            "marker": {
             "colorbar": {
              "outlinewidth": 0,
              "ticks": ""
             }
            },
            "type": "scattermapbox"
           }
          ],
          "scatterpolar": [
           {
            "marker": {
             "colorbar": {
              "outlinewidth": 0,
              "ticks": ""
             }
            },
            "type": "scatterpolar"
           }
          ],
          "scatterpolargl": [
           {
            "marker": {
             "colorbar": {
              "outlinewidth": 0,
              "ticks": ""
             }
            },
            "type": "scatterpolargl"
           }
          ],
          "scatterternary": [
           {
            "marker": {
             "colorbar": {
              "outlinewidth": 0,
              "ticks": ""
             }
            },
            "type": "scatterternary"
           }
          ],
          "surface": [
           {
            "colorbar": {
             "outlinewidth": 0,
             "ticks": ""
            },
            "colorscale": [
             [
              0,
              "#0d0887"
             ],
             [
              0.1111111111111111,
              "#46039f"
             ],
             [
              0.2222222222222222,
              "#7201a8"
             ],
             [
              0.3333333333333333,
              "#9c179e"
             ],
             [
              0.4444444444444444,
              "#bd3786"
             ],
             [
              0.5555555555555556,
              "#d8576b"
             ],
             [
              0.6666666666666666,
              "#ed7953"
             ],
             [
              0.7777777777777778,
              "#fb9f3a"
             ],
             [
              0.8888888888888888,
              "#fdca26"
             ],
             [
              1,
              "#f0f921"
             ]
            ],
            "type": "surface"
           }
          ],
          "table": [
           {
            "cells": {
             "fill": {
              "color": "#EBF0F8"
             },
             "line": {
              "color": "white"
             }
            },
            "header": {
             "fill": {
              "color": "#C8D4E3"
             },
             "line": {
              "color": "white"
             }
            },
            "type": "table"
           }
          ]
         },
         "layout": {
          "annotationdefaults": {
           "arrowcolor": "#2a3f5f",
           "arrowhead": 0,
           "arrowwidth": 1
          },
          "autotypenumbers": "strict",
          "coloraxis": {
           "colorbar": {
            "outlinewidth": 0,
            "ticks": ""
           }
          },
          "colorscale": {
           "diverging": [
            [
             0,
             "#8e0152"
            ],
            [
             0.1,
             "#c51b7d"
            ],
            [
             0.2,
             "#de77ae"
            ],
            [
             0.3,
             "#f1b6da"
            ],
            [
             0.4,
             "#fde0ef"
            ],
            [
             0.5,
             "#f7f7f7"
            ],
            [
             0.6,
             "#e6f5d0"
            ],
            [
             0.7,
             "#b8e186"
            ],
            [
             0.8,
             "#7fbc41"
            ],
            [
             0.9,
             "#4d9221"
            ],
            [
             1,
             "#276419"
            ]
           ],
           "sequential": [
            [
             0,
             "#0d0887"
            ],
            [
             0.1111111111111111,
             "#46039f"
            ],
            [
             0.2222222222222222,
             "#7201a8"
            ],
            [
             0.3333333333333333,
             "#9c179e"
            ],
            [
             0.4444444444444444,
             "#bd3786"
            ],
            [
             0.5555555555555556,
             "#d8576b"
            ],
            [
             0.6666666666666666,
             "#ed7953"
            ],
            [
             0.7777777777777778,
             "#fb9f3a"
            ],
            [
             0.8888888888888888,
             "#fdca26"
            ],
            [
             1,
             "#f0f921"
            ]
           ],
           "sequentialminus": [
            [
             0,
             "#0d0887"
            ],
            [
             0.1111111111111111,
             "#46039f"
            ],
            [
             0.2222222222222222,
             "#7201a8"
            ],
            [
             0.3333333333333333,
             "#9c179e"
            ],
            [
             0.4444444444444444,
             "#bd3786"
            ],
            [
             0.5555555555555556,
             "#d8576b"
            ],
            [
             0.6666666666666666,
             "#ed7953"
            ],
            [
             0.7777777777777778,
             "#fb9f3a"
            ],
            [
             0.8888888888888888,
             "#fdca26"
            ],
            [
             1,
             "#f0f921"
            ]
           ]
          },
          "colorway": [
           "#636efa",
           "#EF553B",
           "#00cc96",
           "#ab63fa",
           "#FFA15A",
           "#19d3f3",
           "#FF6692",
           "#B6E880",
           "#FF97FF",
           "#FECB52"
          ],
          "font": {
           "color": "#2a3f5f"
          },
          "geo": {
           "bgcolor": "white",
           "lakecolor": "white",
           "landcolor": "#E5ECF6",
           "showlakes": true,
           "showland": true,
           "subunitcolor": "white"
          },
          "hoverlabel": {
           "align": "left"
          },
          "hovermode": "closest",
          "mapbox": {
           "style": "light"
          },
          "paper_bgcolor": "white",
          "plot_bgcolor": "#E5ECF6",
          "polar": {
           "angularaxis": {
            "gridcolor": "white",
            "linecolor": "white",
            "ticks": ""
           },
           "bgcolor": "#E5ECF6",
           "radialaxis": {
            "gridcolor": "white",
            "linecolor": "white",
            "ticks": ""
           }
          },
          "scene": {
           "xaxis": {
            "backgroundcolor": "#E5ECF6",
            "gridcolor": "white",
            "gridwidth": 2,
            "linecolor": "white",
            "showbackground": true,
            "ticks": "",
            "zerolinecolor": "white"
           },
           "yaxis": {
            "backgroundcolor": "#E5ECF6",
            "gridcolor": "white",
            "gridwidth": 2,
            "linecolor": "white",
            "showbackground": true,
            "ticks": "",
            "zerolinecolor": "white"
           },
           "zaxis": {
            "backgroundcolor": "#E5ECF6",
            "gridcolor": "white",
            "gridwidth": 2,
            "linecolor": "white",
            "showbackground": true,
            "ticks": "",
            "zerolinecolor": "white"
           }
          },
          "shapedefaults": {
           "line": {
            "color": "#2a3f5f"
           }
          },
          "ternary": {
           "aaxis": {
            "gridcolor": "white",
            "linecolor": "white",
            "ticks": ""
           },
           "baxis": {
            "gridcolor": "white",
            "linecolor": "white",
            "ticks": ""
           },
           "bgcolor": "#E5ECF6",
           "caxis": {
            "gridcolor": "white",
            "linecolor": "white",
            "ticks": ""
           }
          },
          "title": {
           "x": 0.05
          },
          "xaxis": {
           "automargin": true,
           "gridcolor": "white",
           "linecolor": "white",
           "ticks": "",
           "title": {
            "standoff": 15
           },
           "zerolinecolor": "white",
           "zerolinewidth": 2
          },
          "yaxis": {
           "automargin": true,
           "gridcolor": "white",
           "linecolor": "white",
           "ticks": "",
           "title": {
            "standoff": 15
           },
           "zerolinecolor": "white",
           "zerolinewidth": 2
          }
         }
        },
        "title": {
         "text": "A Comparison of Assist Per Game"
        },
        "width": 400,
        "xaxis": {
         "anchor": "y",
         "categoryarray": [
          "high",
          "medium",
          "low"
         ],
         "categoryorder": "array",
         "domain": [
          0,
          1
         ],
         "showgrid": false,
         "title": {
          "text": "Assist Rate"
         }
        },
        "yaxis": {
         "anchor": "x",
         "domain": [
          0,
          1
         ],
         "showgrid": false,
         "title": {
          "text": "Contract Value"
         }
        }
       }
      }
     },
     "metadata": {},
     "output_type": "display_data"
    }
   ],
   "source": [
    "#create a new column called 'AST_Rate' that categorizes 'AST_per_game'\n",
    "conditions = [\n",
    "    regression_df['AST_Per_Game'].round(2) >= 4.20,\n",
    "    (regression_df['AST_Per_Game'].round(2) < 4.20) & \n",
    "    (regression_df['AST_Per_Game'].round(2) >= 0.44),\n",
    "    regression_df['AST_Per_Game'].round(2) < 0.44\n",
    "]\n",
    "values = ['high', 'medium', 'low']\n",
    "\n",
    "# Create the 'AST_Rate' column based on the conditions\n",
    "regression_df['AST_Rate'] = np.select(conditions, values, default=np.nan)\n",
    "\n",
    "# Create boxplot\n",
    "fig = px.box(regression_df, x='AST_Rate', y='Current_Contract',\n",
    "             title='A Comparison of Assist Per Game',\n",
    "             color ='AST_Rate',\n",
    "             color_discrete_map={'high': '#064096', 'medium': '#81a6c8', \n",
    "                                 'low': '#adc89e'},\n",
    "             labels={'AST_Rate': 'Assist Rate', \n",
    "                     'Current_Contract': 'Contract Value'})\n",
    "\n",
    "# Update layout\n",
    "fig.update_layout(width=400, \n",
    "                  height=400,\n",
    "                  xaxis=dict(showgrid=False), \n",
    "                  yaxis=dict(showgrid=False))\n",
    "\n",
    "# Show the plot\n",
    "fig.show()\n"
   ]
  },
  {
   "cell_type": "markdown",
   "metadata": {},
   "source": [
    "In the cell above we can see that players with high assist rates (>4.2 per game) tend to earn more money. This sample does include the entire population so the medium and low rate are representative."
   ]
  },
  {
   "cell_type": "code",
   "execution_count": 16,
   "metadata": {},
   "outputs": [
    {
     "data": {
      "application/vnd.plotly.v1+json": {
       "config": {
        "plotlyServerURL": "https://plot.ly"
       },
       "data": [
        {
         "hovertemplate": "Turnover Rate=high<br>TOV_Per_Game=%{x}<br>Contract Value=%{y}<extra></extra>",
         "legendgroup": "high",
         "marker": {
          "color": "#064096",
          "symbol": "circle"
         },
         "mode": "markers",
         "name": "high",
         "orientation": "v",
         "showlegend": true,
         "type": "scatter",
         "x": [
          3.14,
          3.39,
          3.33,
          3.28,
          3.6,
          3.06,
          3.59,
          2.94,
          2.08,
          3.05,
          2.18,
          4.14,
          3.99,
          3.04,
          3.22,
          2.33,
          2.26,
          2.81,
          3.24,
          3.1,
          4.07,
          2.85,
          3.33,
          3.05,
          2.8,
          2.16,
          2.34,
          2.78,
          2.82,
          2.38,
          2.45,
          2.35,
          2.29,
          3.14,
          2.64,
          2.45,
          2.29,
          3.09,
          2.12,
          2.15,
          2.12,
          2.13,
          2.74,
          2.53,
          2.35,
          2.61,
          2.08,
          2.32,
          2.88,
          2.73,
          2.19,
          2.78,
          3.59,
          3.2,
          2.34,
          2.24,
          3.2,
          2.18,
          2.35,
          3.65,
          2.94,
          2.35,
          2.13,
          3.87,
          2.18,
          2.3,
          2.07
         ],
         "xaxis": "x",
         "y": [
          51915615,
          47649433,
          47607350,
          47607350,
          47607350,
          46741590,
          45640084,
          45640084,
          45640084,
          45640084,
          40600080,
          40064220,
          40064220,
          40064220,
          37893408,
          37893408,
          37037037,
          36861707,
          36016200,
          36016200,
          35640000,
          34005250,
          34005250,
          34005250,
          33833400,
          33833400,
          33386850,
          33162030,
          32600060,
          32600060,
          32600060,
          31830357,
          30800000,
          30600000,
          29682540,
          29320988,
          28600000,
          28226880,
          27455357,
          27000000,
          25568182,
          23883929,
          22321429,
          20465117,
          17325000,
          17307693,
          17000000,
          16875000,
          15860000,
          13534817,
          12405000,
          11608080,
          11055360,
          10900635,
          9891480,
          9450000,
          7614480,
          7413955,
          7252080,
          6802950,
          6587040,
          5808435,
          5539771,
          3835738,
          3695311,
          3536280,
          1300000
         ],
         "yaxis": "y"
        },
        {
         "hovertemplate": "Turnover Rate=medium<br>TOV_Per_Game=%{x}<br>Contract Value=%{y}<extra></extra>",
         "legendgroup": "medium",
         "marker": {
          "color": "#81a6c8",
          "symbol": "circle"
         },
         "mode": "markers",
         "name": "medium",
         "orientation": "v",
         "showlegend": true,
         "type": "scatter",
         "x": [
          1.96,
          1.63,
          1.74,
          2,
          1.56,
          1.67,
          2.04,
          1.1,
          1.72,
          1.77,
          1.4,
          1.68,
          1.45,
          0.77,
          1.44,
          1.08,
          1.67,
          1.77,
          1.31,
          1.89,
          1.63,
          1.58,
          1.85,
          1.75,
          1.09,
          1.18,
          1.43,
          1.06,
          1.75,
          1.37,
          1.42,
          1.55,
          1.96,
          1.14,
          1.57,
          1.84,
          1.43,
          1.95,
          1.4,
          1.43,
          0.85,
          1.79,
          1.41,
          2.01,
          0.86,
          1.65,
          1.03,
          1.05,
          1.42,
          1.17,
          1.34,
          1.59,
          0.92,
          0.69,
          1.33,
          1.92,
          1.77,
          1.32,
          0.8,
          1.01,
          0.71,
          0.76,
          0.93,
          0.73,
          1.67,
          0.87,
          1.69,
          1.08,
          1.57,
          0.75,
          1.01,
          0.87,
          0.9,
          1.93,
          1.26,
          1.06,
          0.95,
          1.31,
          1.11,
          0.54,
          1.11,
          0.94,
          0.95,
          0.86,
          1.52,
          1.63,
          0.76,
          0.68,
          0.74,
          1.77,
          1.23,
          1.56,
          0.82,
          1.15,
          1.17,
          0.89,
          0.7,
          1.06,
          1.5,
          0.97,
          1.26,
          0.82,
          0.95,
          0.86,
          1.08,
          1.2,
          0.58,
          1.32,
          0.98,
          1.21,
          0.87,
          0.89,
          1.89,
          0.62,
          0.58,
          1.57,
          0.75,
          1.01,
          0.87,
          1.92,
          0.73,
          0.87,
          1.25,
          1.41,
          1.01,
          1.38,
          0.5,
          1.32,
          0.83,
          0.65,
          0.6,
          0.91,
          1.95,
          0.58,
          0.88,
          1.05,
          0.94,
          1.18,
          1.57,
          1.59,
          1.32,
          1.04,
          0.72,
          1.15,
          0.57,
          0.59,
          0.84,
          1.23,
          0.8,
          0.97,
          0.68,
          0.75,
          1.8,
          0.72,
          1.73,
          1.16,
          0.79,
          1.14,
          1.56,
          0.61,
          0.83,
          1.69,
          0.65,
          1.16,
          0.85,
          1.53,
          1.72,
          0.79,
          0.67,
          0.8,
          1.09,
          1.11,
          0.72,
          1.64,
          0.97,
          1.02,
          1.05,
          0.98,
          1.07,
          1.26,
          1.37,
          0.66,
          1.15,
          1.3,
          0.69,
          0.72,
          1.36,
          0.82,
          0.56,
          0.93,
          1.1,
          0.56,
          1.47,
          1.24,
          0.7,
          0.58,
          0.49,
          1.23,
          1.62,
          0.49,
          0.55,
          0.51,
          1.42,
          1.65,
          1.05,
          1.15,
          0.55,
          0.75,
          0.99,
          0.65,
          1.03,
          0.54,
          1.22,
          0.58,
          0.78,
          0.88,
          1.18,
          0.69,
          0.84,
          0.81,
          1.65,
          0.92,
          0.87,
          0.84,
          0.54,
          0.73,
          1.77,
          0.59,
          0.68,
          0.84,
          0.81,
          1.76,
          1.26,
          0.84,
          0.83,
          0.67,
          1.18,
          1,
          0.62,
          0.82,
          1.38,
          0.95,
          0.48,
          0.9,
          0.7,
          0.73,
          1.17,
          0.61,
          1.68,
          0.63,
          0.74,
          0.7,
          0.88,
          0.67,
          0.88,
          1.13,
          0.7,
          0.94,
          1.19,
          0.99,
          0.8,
          0.58,
          1.12,
          0.57,
          0.89,
          1.02,
          1.07,
          1.11,
          1.18,
          1.08,
          0.69,
          0.74,
          1.11,
          0.96,
          0.87,
          1.35,
          0.55,
          0.6,
          0.65,
          0.93,
          0.9,
          0.83,
          1.05,
          0.76,
          0.75,
          0.76,
          0.92,
          1.1,
          0.71,
          0.57,
          0.51,
          0.89,
          0.63,
          0.63,
          0.69,
          0.63,
          0.59,
          0.91,
          1.05,
          0.53,
          0.52,
          0.5,
          1.33,
          0.96,
          0.8,
          0.52,
          0.5,
          0.93,
          0.63,
          0.9,
          0.62,
          0.86,
          0.51
         ],
         "xaxis": "x",
         "y": [
          45183960,
          43219440,
          41000000,
          40806300,
          39270150,
          36016200,
          35802469,
          33386850,
          32459438,
          31500000,
          27586207,
          27102202,
          26346666,
          25679348,
          25340000,
          25000000,
          24360000,
          24330357,
          24107143,
          23487629,
          23205221,
          22627671,
          22500000,
          22266182,
          22000000,
          21700000,
          20975000,
          20616000,
          20357143,
          20089286,
          20000000,
          20000000,
          20000000,
          19928571,
          19500000,
          19279841,
          18857143,
          18833713,
          18700000,
          18642857,
          18560000,
          18518519,
          18357143,
          18214000,
          18154000,
          18000000,
          17897728,
          17400000,
          17259999,
          17116279,
          17000000,
          16847826,
          15740741,
          15681818,
          15669643,
          15435000,
          15384616,
          15277778,
          14763636,
          14704938,
          14487684,
          14000000,
          13932008,
          13750000,
          13050000,
          13000000,
          12960000,
          12950400,
          12600000,
          12500000,
          12500000,
          12405000,
          12402000,
          12195122,
          12119440,
          12100000,
          12046020,
          12015150,
          12015150,
          11750000,
          11710818,
          11710818,
          11692308,
          11571429,
          11111111,
          11020000,
          11014500,
          13033786,
          11000000,
          11000000,
          10933333,
          10900000,
          10576923,
          10500000,
          10489600,
          10375000,
          10250000,
          10000000,
          9945830,
          9895833,
          9835881,
          9800926,
          9625000,
          9600000,
          9500000,
          9460000,
          9423869,
          9326520,
          9245121,
          9219512,
          8925000,
          8920795,
          8882640,
          8800000,
          8715000,
          8700000,
          8409000,
          8195122,
          8109063,
          8008680,
          8000000,
          8000000,
          8000000,
          8000000,
          8000000,
          7921300,
          7723000,
          7700000,
          7560000,
          7500000,
          6985000,
          8670002,
          6916080,
          6803012,
          6802950,
          6802950,
          6802950,
          6718842,
          8519706,
          6500000,
          6481482,
          6313800,
          6300000,
          6263188,
          6250000,
          6190476,
          6175000,
          6012840,
          5887899,
          5784120,
          5722116,
          5634257,
          5508720,
          5370370,
          5316960,
          5266713,
          5266713,
          5063640,
          5050800,
          5050800,
          5043773,
          5009633,
          5000000,
          5000000,
          5000000,
          5000000,
          5000000,
          4810200,
          4798440,
          4765339,
          4698000,
          4687500,
          4570080,
          4558680,
          4556983,
          4516000,
          4516000,
          4379527,
          4343920,
          6105941,
          4330680,
          4310250,
          4171548,
          4124400,
          4114200,
          4037277,
          4000000,
          4000000,
          4000000,
          3908160,
          3901399,
          3873025,
          3845083,
          3835738,
          3722040,
          3712920,
          3666667,
          3527160,
          3360000,
          5379706,
          3359280,
          3199920,
          3196448,
          3196448,
          3191400,
          3071880,
          3047880,
          3044872,
          3000000,
          3000000,
          3000000,
          2925360,
          2891467,
          2844430,
          2831160,
          2815937,
          2808720,
          2800000,
          2748674,
          2718240,
          2709849,
          2696280,
          2609400,
          2600000,
          2588400,
          2586665,
          2586665,
          2581522,
          2528233,
          2528233,
          2528233,
          2504640,
          2485200,
          2439025,
          2385720,
          2352000,
          4368030,
          2346614,
          2346614,
          2320000,
          2306400,
          2240160,
          2234359,
          2210040,
          2194200,
          2165000,
          2165000,
          2165000,
          2131905,
          2066585,
          2066585,
          2019706,
          2019706,
          2019706,
          2019706,
          2019706,
          2019706,
          2019706,
          2019706,
          2019706,
          2019706,
          2019706,
          2019706,
          2019706,
          2019706,
          2019706,
          2019706,
          2019706,
          2019706,
          2019706,
          2019706,
          2019706,
          2019706,
          2019706,
          2019706,
          2019706,
          2419706,
          2019706,
          2019706,
          2019706,
          2019706,
          2019706,
          2019706,
          2019706,
          2019706,
          2000000,
          1930681,
          1930681,
          1930681,
          1927896,
          1927896,
          1927896,
          1902137,
          1900000,
          1845593,
          1836096,
          1836096,
          1836096,
          1836096,
          1836096,
          1801769,
          1719864,
          1719864,
          1719864,
          1719864,
          1719864,
          1719864,
          1719864,
          702311,
          300000,
          268032,
          200000,
          92857
         ],
         "yaxis": "y"
        },
        {
         "hovertemplate": "Turnover Rate=low<br>TOV_Per_Game=%{x}<br>Contract Value=%{y}<extra></extra>",
         "legendgroup": "low",
         "marker": {
          "color": "#adc89e",
          "symbol": "circle"
         },
         "mode": "markers",
         "name": "low",
         "orientation": "v",
         "showlegend": true,
         "type": "scatter",
         "x": [
          0.38,
          0.44,
          0.39,
          0.45,
          0.41,
          0.4,
          0.21,
          0.46,
          0.28,
          0.25,
          0.44,
          0.38,
          0.35,
          0.45,
          0.35,
          0.22,
          0.29,
          0.45,
          0.43,
          0.35,
          0.38,
          0.29,
          0.32,
          0.41,
          0.3,
          0.33,
          0.26,
          0.29,
          0.33,
          0.2,
          0.43,
          0.34,
          0.2,
          0.32,
          0.38,
          0.12,
          0.19,
          0.12,
          0.35
         ],
         "xaxis": "x",
         "y": [
          17000000,
          10500000,
          5709877,
          4306281,
          3918480,
          3500000,
          3350760,
          2949120,
          2421720,
          2413304,
          2400000,
          2346614,
          2337720,
          2320440,
          2303520,
          2226240,
          2019706,
          2019706,
          2019706,
          2000000,
          2000000,
          1997238,
          1997238,
          1997238,
          1927896,
          1927896,
          1901769,
          1836096,
          1836096,
          1801769,
          1799163,
          1719864,
          1719864,
          1719864,
          831385,
          600000,
          576230,
          555217,
          250000
         ],
         "yaxis": "y"
        }
       ],
       "layout": {
        "height": 400,
        "legend": {
         "title": {
          "text": "Turnover Rate"
         },
         "tracegroupgap": 0
        },
        "template": {
         "data": {
          "bar": [
           {
            "error_x": {
             "color": "#2a3f5f"
            },
            "error_y": {
             "color": "#2a3f5f"
            },
            "marker": {
             "line": {
              "color": "#E5ECF6",
              "width": 0.5
             },
             "pattern": {
              "fillmode": "overlay",
              "size": 10,
              "solidity": 0.2
             }
            },
            "type": "bar"
           }
          ],
          "barpolar": [
           {
            "marker": {
             "line": {
              "color": "#E5ECF6",
              "width": 0.5
             },
             "pattern": {
              "fillmode": "overlay",
              "size": 10,
              "solidity": 0.2
             }
            },
            "type": "barpolar"
           }
          ],
          "carpet": [
           {
            "aaxis": {
             "endlinecolor": "#2a3f5f",
             "gridcolor": "white",
             "linecolor": "white",
             "minorgridcolor": "white",
             "startlinecolor": "#2a3f5f"
            },
            "baxis": {
             "endlinecolor": "#2a3f5f",
             "gridcolor": "white",
             "linecolor": "white",
             "minorgridcolor": "white",
             "startlinecolor": "#2a3f5f"
            },
            "type": "carpet"
           }
          ],
          "choropleth": [
           {
            "colorbar": {
             "outlinewidth": 0,
             "ticks": ""
            },
            "type": "choropleth"
           }
          ],
          "contour": [
           {
            "colorbar": {
             "outlinewidth": 0,
             "ticks": ""
            },
            "colorscale": [
             [
              0,
              "#0d0887"
             ],
             [
              0.1111111111111111,
              "#46039f"
             ],
             [
              0.2222222222222222,
              "#7201a8"
             ],
             [
              0.3333333333333333,
              "#9c179e"
             ],
             [
              0.4444444444444444,
              "#bd3786"
             ],
             [
              0.5555555555555556,
              "#d8576b"
             ],
             [
              0.6666666666666666,
              "#ed7953"
             ],
             [
              0.7777777777777778,
              "#fb9f3a"
             ],
             [
              0.8888888888888888,
              "#fdca26"
             ],
             [
              1,
              "#f0f921"
             ]
            ],
            "type": "contour"
           }
          ],
          "contourcarpet": [
           {
            "colorbar": {
             "outlinewidth": 0,
             "ticks": ""
            },
            "type": "contourcarpet"
           }
          ],
          "heatmap": [
           {
            "colorbar": {
             "outlinewidth": 0,
             "ticks": ""
            },
            "colorscale": [
             [
              0,
              "#0d0887"
             ],
             [
              0.1111111111111111,
              "#46039f"
             ],
             [
              0.2222222222222222,
              "#7201a8"
             ],
             [
              0.3333333333333333,
              "#9c179e"
             ],
             [
              0.4444444444444444,
              "#bd3786"
             ],
             [
              0.5555555555555556,
              "#d8576b"
             ],
             [
              0.6666666666666666,
              "#ed7953"
             ],
             [
              0.7777777777777778,
              "#fb9f3a"
             ],
             [
              0.8888888888888888,
              "#fdca26"
             ],
             [
              1,
              "#f0f921"
             ]
            ],
            "type": "heatmap"
           }
          ],
          "heatmapgl": [
           {
            "colorbar": {
             "outlinewidth": 0,
             "ticks": ""
            },
            "colorscale": [
             [
              0,
              "#0d0887"
             ],
             [
              0.1111111111111111,
              "#46039f"
             ],
             [
              0.2222222222222222,
              "#7201a8"
             ],
             [
              0.3333333333333333,
              "#9c179e"
             ],
             [
              0.4444444444444444,
              "#bd3786"
             ],
             [
              0.5555555555555556,
              "#d8576b"
             ],
             [
              0.6666666666666666,
              "#ed7953"
             ],
             [
              0.7777777777777778,
              "#fb9f3a"
             ],
             [
              0.8888888888888888,
              "#fdca26"
             ],
             [
              1,
              "#f0f921"
             ]
            ],
            "type": "heatmapgl"
           }
          ],
          "histogram": [
           {
            "marker": {
             "pattern": {
              "fillmode": "overlay",
              "size": 10,
              "solidity": 0.2
             }
            },
            "type": "histogram"
           }
          ],
          "histogram2d": [
           {
            "colorbar": {
             "outlinewidth": 0,
             "ticks": ""
            },
            "colorscale": [
             [
              0,
              "#0d0887"
             ],
             [
              0.1111111111111111,
              "#46039f"
             ],
             [
              0.2222222222222222,
              "#7201a8"
             ],
             [
              0.3333333333333333,
              "#9c179e"
             ],
             [
              0.4444444444444444,
              "#bd3786"
             ],
             [
              0.5555555555555556,
              "#d8576b"
             ],
             [
              0.6666666666666666,
              "#ed7953"
             ],
             [
              0.7777777777777778,
              "#fb9f3a"
             ],
             [
              0.8888888888888888,
              "#fdca26"
             ],
             [
              1,
              "#f0f921"
             ]
            ],
            "type": "histogram2d"
           }
          ],
          "histogram2dcontour": [
           {
            "colorbar": {
             "outlinewidth": 0,
             "ticks": ""
            },
            "colorscale": [
             [
              0,
              "#0d0887"
             ],
             [
              0.1111111111111111,
              "#46039f"
             ],
             [
              0.2222222222222222,
              "#7201a8"
             ],
             [
              0.3333333333333333,
              "#9c179e"
             ],
             [
              0.4444444444444444,
              "#bd3786"
             ],
             [
              0.5555555555555556,
              "#d8576b"
             ],
             [
              0.6666666666666666,
              "#ed7953"
             ],
             [
              0.7777777777777778,
              "#fb9f3a"
             ],
             [
              0.8888888888888888,
              "#fdca26"
             ],
             [
              1,
              "#f0f921"
             ]
            ],
            "type": "histogram2dcontour"
           }
          ],
          "mesh3d": [
           {
            "colorbar": {
             "outlinewidth": 0,
             "ticks": ""
            },
            "type": "mesh3d"
           }
          ],
          "parcoords": [
           {
            "line": {
             "colorbar": {
              "outlinewidth": 0,
              "ticks": ""
             }
            },
            "type": "parcoords"
           }
          ],
          "pie": [
           {
            "automargin": true,
            "type": "pie"
           }
          ],
          "scatter": [
           {
            "fillpattern": {
             "fillmode": "overlay",
             "size": 10,
             "solidity": 0.2
            },
            "type": "scatter"
           }
          ],
          "scatter3d": [
           {
            "line": {
             "colorbar": {
              "outlinewidth": 0,
              "ticks": ""
             }
            },
            "marker": {
             "colorbar": {
              "outlinewidth": 0,
              "ticks": ""
             }
            },
            "type": "scatter3d"
           }
          ],
          "scattercarpet": [
           {
            "marker": {
             "colorbar": {
              "outlinewidth": 0,
              "ticks": ""
             }
            },
            "type": "scattercarpet"
           }
          ],
          "scattergeo": [
           {
            "marker": {
             "colorbar": {
              "outlinewidth": 0,
              "ticks": ""
             }
            },
            "type": "scattergeo"
           }
          ],
          "scattergl": [
           {
            "marker": {
             "colorbar": {
              "outlinewidth": 0,
              "ticks": ""
             }
            },
            "type": "scattergl"
           }
          ],
          "scattermapbox": [
           {
            "marker": {
             "colorbar": {
              "outlinewidth": 0,
              "ticks": ""
             }
            },
            "type": "scattermapbox"
           }
          ],
          "scatterpolar": [
           {
            "marker": {
             "colorbar": {
              "outlinewidth": 0,
              "ticks": ""
             }
            },
            "type": "scatterpolar"
           }
          ],
          "scatterpolargl": [
           {
            "marker": {
             "colorbar": {
              "outlinewidth": 0,
              "ticks": ""
             }
            },
            "type": "scatterpolargl"
           }
          ],
          "scatterternary": [
           {
            "marker": {
             "colorbar": {
              "outlinewidth": 0,
              "ticks": ""
             }
            },
            "type": "scatterternary"
           }
          ],
          "surface": [
           {
            "colorbar": {
             "outlinewidth": 0,
             "ticks": ""
            },
            "colorscale": [
             [
              0,
              "#0d0887"
             ],
             [
              0.1111111111111111,
              "#46039f"
             ],
             [
              0.2222222222222222,
              "#7201a8"
             ],
             [
              0.3333333333333333,
              "#9c179e"
             ],
             [
              0.4444444444444444,
              "#bd3786"
             ],
             [
              0.5555555555555556,
              "#d8576b"
             ],
             [
              0.6666666666666666,
              "#ed7953"
             ],
             [
              0.7777777777777778,
              "#fb9f3a"
             ],
             [
              0.8888888888888888,
              "#fdca26"
             ],
             [
              1,
              "#f0f921"
             ]
            ],
            "type": "surface"
           }
          ],
          "table": [
           {
            "cells": {
             "fill": {
              "color": "#EBF0F8"
             },
             "line": {
              "color": "white"
             }
            },
            "header": {
             "fill": {
              "color": "#C8D4E3"
             },
             "line": {
              "color": "white"
             }
            },
            "type": "table"
           }
          ]
         },
         "layout": {
          "annotationdefaults": {
           "arrowcolor": "#2a3f5f",
           "arrowhead": 0,
           "arrowwidth": 1
          },
          "autotypenumbers": "strict",
          "coloraxis": {
           "colorbar": {
            "outlinewidth": 0,
            "ticks": ""
           }
          },
          "colorscale": {
           "diverging": [
            [
             0,
             "#8e0152"
            ],
            [
             0.1,
             "#c51b7d"
            ],
            [
             0.2,
             "#de77ae"
            ],
            [
             0.3,
             "#f1b6da"
            ],
            [
             0.4,
             "#fde0ef"
            ],
            [
             0.5,
             "#f7f7f7"
            ],
            [
             0.6,
             "#e6f5d0"
            ],
            [
             0.7,
             "#b8e186"
            ],
            [
             0.8,
             "#7fbc41"
            ],
            [
             0.9,
             "#4d9221"
            ],
            [
             1,
             "#276419"
            ]
           ],
           "sequential": [
            [
             0,
             "#0d0887"
            ],
            [
             0.1111111111111111,
             "#46039f"
            ],
            [
             0.2222222222222222,
             "#7201a8"
            ],
            [
             0.3333333333333333,
             "#9c179e"
            ],
            [
             0.4444444444444444,
             "#bd3786"
            ],
            [
             0.5555555555555556,
             "#d8576b"
            ],
            [
             0.6666666666666666,
             "#ed7953"
            ],
            [
             0.7777777777777778,
             "#fb9f3a"
            ],
            [
             0.8888888888888888,
             "#fdca26"
            ],
            [
             1,
             "#f0f921"
            ]
           ],
           "sequentialminus": [
            [
             0,
             "#0d0887"
            ],
            [
             0.1111111111111111,
             "#46039f"
            ],
            [
             0.2222222222222222,
             "#7201a8"
            ],
            [
             0.3333333333333333,
             "#9c179e"
            ],
            [
             0.4444444444444444,
             "#bd3786"
            ],
            [
             0.5555555555555556,
             "#d8576b"
            ],
            [
             0.6666666666666666,
             "#ed7953"
            ],
            [
             0.7777777777777778,
             "#fb9f3a"
            ],
            [
             0.8888888888888888,
             "#fdca26"
            ],
            [
             1,
             "#f0f921"
            ]
           ]
          },
          "colorway": [
           "#636efa",
           "#EF553B",
           "#00cc96",
           "#ab63fa",
           "#FFA15A",
           "#19d3f3",
           "#FF6692",
           "#B6E880",
           "#FF97FF",
           "#FECB52"
          ],
          "font": {
           "color": "#2a3f5f"
          },
          "geo": {
           "bgcolor": "white",
           "lakecolor": "white",
           "landcolor": "#E5ECF6",
           "showlakes": true,
           "showland": true,
           "subunitcolor": "white"
          },
          "hoverlabel": {
           "align": "left"
          },
          "hovermode": "closest",
          "mapbox": {
           "style": "light"
          },
          "paper_bgcolor": "white",
          "plot_bgcolor": "#E5ECF6",
          "polar": {
           "angularaxis": {
            "gridcolor": "white",
            "linecolor": "white",
            "ticks": ""
           },
           "bgcolor": "#E5ECF6",
           "radialaxis": {
            "gridcolor": "white",
            "linecolor": "white",
            "ticks": ""
           }
          },
          "scene": {
           "xaxis": {
            "backgroundcolor": "#E5ECF6",
            "gridcolor": "white",
            "gridwidth": 2,
            "linecolor": "white",
            "showbackground": true,
            "ticks": "",
            "zerolinecolor": "white"
           },
           "yaxis": {
            "backgroundcolor": "#E5ECF6",
            "gridcolor": "white",
            "gridwidth": 2,
            "linecolor": "white",
            "showbackground": true,
            "ticks": "",
            "zerolinecolor": "white"
           },
           "zaxis": {
            "backgroundcolor": "#E5ECF6",
            "gridcolor": "white",
            "gridwidth": 2,
            "linecolor": "white",
            "showbackground": true,
            "ticks": "",
            "zerolinecolor": "white"
           }
          },
          "shapedefaults": {
           "line": {
            "color": "#2a3f5f"
           }
          },
          "ternary": {
           "aaxis": {
            "gridcolor": "white",
            "linecolor": "white",
            "ticks": ""
           },
           "baxis": {
            "gridcolor": "white",
            "linecolor": "white",
            "ticks": ""
           },
           "bgcolor": "#E5ECF6",
           "caxis": {
            "gridcolor": "white",
            "linecolor": "white",
            "ticks": ""
           }
          },
          "title": {
           "x": 0.05
          },
          "xaxis": {
           "automargin": true,
           "gridcolor": "white",
           "linecolor": "white",
           "ticks": "",
           "title": {
            "standoff": 15
           },
           "zerolinecolor": "white",
           "zerolinewidth": 2
          },
          "yaxis": {
           "automargin": true,
           "gridcolor": "white",
           "linecolor": "white",
           "ticks": "",
           "title": {
            "standoff": 15
           },
           "zerolinecolor": "white",
           "zerolinewidth": 2
          }
         }
        },
        "title": {
         "text": "Comparison of Distributions by Turnover Rate"
        },
        "width": 500,
        "xaxis": {
         "anchor": "y",
         "domain": [
          0,
          1
         ],
         "showgrid": false,
         "title": {
          "text": "TOV_Per_Game"
         }
        },
        "yaxis": {
         "anchor": "x",
         "domain": [
          0,
          1
         ],
         "showgrid": false,
         "title": {
          "text": "Contract Value"
         }
        }
       }
      }
     },
     "metadata": {},
     "output_type": "display_data"
    },
    {
     "name": "stdout",
     "output_type": "stream",
     "text": [
      "                  TOV_Per_Game  Current_Contract\n",
      "TOV_Per_Game          1.000000          0.713049\n",
      "Current_Contract      0.713049          1.000000\n"
     ]
    }
   ],
   "source": [
    "#create a new column called 'TO_Rate' that categorizes 'TOV_per_game'\n",
    "conditions = [\n",
    "    regression_df['TOV_Per_Game'].round(2) >= 2.07,\n",
    "    (regression_df['TOV_Per_Game'].round(2) < 2.07) & \n",
    "    (regression_df['TOV_Per_Game'].round(2) >= 0.47),\n",
    "    regression_df['TOV_Per_Game'].round(2) < 0.47\n",
    "]\n",
    "values = ['high', 'medium', 'low']\n",
    "\n",
    "# Create the 'AST_Rate' column based on the conditions\n",
    "regression_df['TO_Rate'] = np.select(conditions, values, default=np.nan)\n",
    "\n",
    "# Create boxplot\n",
    "fig = px.scatter(regression_df, x='TOV_Per_Game', y='Current_Contract',\n",
    "             title='Comparison of Distributions by Turnover Rate',\n",
    "             color ='TO_Rate',\n",
    "             color_discrete_map={'high': '#064096', 'medium': '#81a6c8', \n",
    "                                 'low': '#adc89e'},\n",
    "             labels={'TO_Rate': 'Turnover Rate', \n",
    "                     'Current_Contract': 'Contract Value'})\n",
    "\n",
    "# Update layout\n",
    "fig.update_layout(width=500, \n",
    "                  height=400,\n",
    "                  xaxis=dict(showgrid=False), \n",
    "                  yaxis=dict(showgrid=False))\n",
    "\n",
    "# Show the plot\n",
    "fig.show()\n",
    "\n",
    "#print the correlation metric\n",
    "print(regression_df[['TOV_Per_Game','Current_Contract']].corr())\n"
   ]
  },
  {
   "cell_type": "markdown",
   "metadata": {},
   "source": [
    "The cell above shows a moderately strong positive correlation between turnovers and contract values. This is a case of correlation does not equal causation, because turnovers actually have a negative impact on the game. When a player turns the ball over his teams loses an oppourtunity to score points. In the context on this dataset, players with higher contract values also have higher turnover rates because they usually have the ball more."
   ]
  },
  {
   "cell_type": "code",
   "execution_count": 17,
   "metadata": {},
   "outputs": [
    {
     "data": {
      "application/vnd.plotly.v1+json": {
       "config": {
        "plotlyServerURL": "https://plot.ly"
       },
       "data": [
        {
         "hovertemplate": "Scoring Rate=high<br>PTS_Per_Game=%{x}<br>Current Contract=%{y}<extra></extra>",
         "legendgroup": "high",
         "marker": {
          "color": "#064096",
          "symbol": "circle"
         },
         "mode": "markers",
         "name": "high",
         "orientation": "v",
         "showlegend": true,
         "type": "scatter",
         "x": [
          28.32,
          28.9,
          23.51,
          28.82,
          27.39,
          27.01,
          29.23,
          28.45,
          25.29,
          24.58,
          21.46,
          21.35,
          17.52,
          24.94,
          25.47,
          27.58,
          25.11,
          18.2,
          21.47,
          27.06,
          19.15,
          26.61,
          24.4,
          21.1,
          21.93,
          21.83,
          25.8,
          22.41,
          18.53,
          22.67,
          18.68,
          21.08,
          25.57,
          22.14,
          24.38,
          16.65,
          21.42,
          19.29,
          19.32,
          23.56,
          22.15,
          16.95,
          17.65,
          17.21,
          18.66,
          18.08,
          17.44,
          17.25,
          17.21,
          17.11,
          18.82,
          16.69,
          20.38,
          18.48,
          18.95,
          18.06,
          17.85,
          21.84,
          19.96,
          17.8,
          19.44,
          19.86,
          16.69,
          19.88,
          16.87,
          18.01,
          16.58
         ],
         "xaxis": "x",
         "y": [
          51915615,
          47649433,
          47607350,
          47607350,
          47607350,
          46741590,
          45640084,
          45640084,
          45640084,
          45640084,
          45183960,
          43219440,
          40806300,
          40600080,
          40064220,
          40064220,
          40064220,
          39270150,
          37893408,
          37037037,
          36861707,
          36016200,
          36016200,
          36016200,
          35802469,
          35640000,
          34005250,
          34005250,
          34005250,
          33833400,
          33833400,
          33386850,
          33162030,
          32600060,
          32600060,
          32459438,
          31830357,
          30600000,
          29320988,
          28600000,
          28226880,
          27586207,
          27000000,
          25340000,
          24330357,
          23883929,
          23487629,
          23205221,
          22500000,
          21700000,
          20000000,
          18560000,
          18518519,
          18000000,
          17325000,
          17307693,
          17259999,
          13534817,
          11608080,
          11055360,
          10900635,
          9891480,
          6916080,
          6802950,
          5508720,
          3835738,
          2019706
         ],
         "yaxis": "y"
        },
        {
         "hovertemplate": "Scoring Rate=medium<br>PTS_Per_Game=%{x}<br>Current Contract=%{y}<extra></extra>",
         "legendgroup": "medium",
         "marker": {
          "color": "#81a6c8",
          "symbol": "circle"
         },
         "mode": "markers",
         "name": "medium",
         "orientation": "v",
         "showlegend": true,
         "type": "scatter",
         "x": [
          14.86,
          14.74,
          15.2,
          16.24,
          15.39,
          15.73,
          14.99,
          15.77,
          16.45,
          14.26,
          12.83,
          16.57,
          13.16,
          13.26,
          12.64,
          15.6,
          7.69,
          14.28,
          8.54,
          13.86,
          13.68,
          11.88,
          16.25,
          13.88,
          16.51,
          13.94,
          12.36,
          11.75,
          16.13,
          14.28,
          11.48,
          14.86,
          13.03,
          13.26,
          15.11,
          11.05,
          15.94,
          9.01,
          14.1,
          15.8,
          6.93,
          12.2,
          14.34,
          12.87,
          15.35,
          11.9,
          8.22,
          12.22,
          15.6,
          15.3,
          13.44,
          9.74,
          10.99,
          9.97,
          8,
          9.46,
          10.41,
          13.26,
          9.9,
          11.13,
          10.09,
          9.78,
          10.69,
          12.11,
          6.16,
          13.69,
          8.3,
          12.51,
          10.45,
          10.09,
          9.84,
          9.66,
          10.22,
          9.11,
          12.74,
          7.6,
          8.03,
          7.34,
          12.59,
          9.77,
          4.76,
          9.23,
          7.36,
          10.1,
          9.51,
          9.58,
          7.99,
          7.67,
          4.47,
          13,
          7.34,
          8.76,
          11.65,
          11.75,
          7.94,
          9.65,
          10.54,
          9.7,
          9.77,
          6.93,
          6.38,
          14.46,
          7.31,
          12.78,
          5.95,
          8.7,
          9.68,
          8.21,
          15.61,
          7.02,
          5.83,
          7.62,
          12.2,
          7.91,
          7.93,
          15.32,
          5.86,
          9.11,
          7.55,
          8.81,
          8.93,
          13.38,
          7.47,
          16.27,
          5.75,
          5.81,
          8.42,
          10.77,
          6,
          8.02,
          6.96,
          7.97,
          15.95,
          10.34,
          10.79,
          14.88,
          10.08,
          11.15,
          8.7,
          9.86,
          8.67,
          8.13,
          6.05,
          5.32,
          6.83,
          9.62,
          11.2,
          15.95,
          5.81,
          5.12,
          6.74,
          14.23,
          7.65,
          10.96,
          8.96,
          7.62,
          8.46,
          9.54,
          5.82,
          8.3,
          7.91,
          5.24,
          9.32,
          5.31,
          9.66,
          12.1,
          7.18,
          4.95,
          5.82,
          7.12,
          7.75,
          5.12,
          14.08,
          14.06,
          8.38,
          8.65,
          7.81,
          15.39,
          5.85,
          9.13,
          5.46,
          5.02,
          12.65,
          10.71,
          7.92,
          6.61,
          12.98,
          8.28,
          5.46,
          4.61,
          9,
          9.56,
          5.47,
          16.12,
          10.45,
          9.63,
          8.88,
          10.85,
          5.46,
          12.25,
          9.27,
          7.1,
          8.39,
          5.58,
          10.51,
          12.62,
          13.32,
          8.99,
          10.2,
          6.31,
          8.06,
          9.71,
          5.33,
          4.74,
          4.86,
          10.12,
          4.52,
          9.18,
          6.59,
          6.34,
          5.22,
          5.87,
          6.66,
          16.09,
          7.6,
          5.12,
          4.62,
          5,
          9.44,
          9.69,
          6.58,
          8.08,
          4.97,
          6.95,
          7.03,
          4.62,
          9.18,
          5.47,
          7.54,
          7.01,
          6.74,
          4.68,
          4.73,
          11.14,
          9.47,
          5.31,
          7.6,
          7.5,
          9.85,
          7.42,
          9.45,
          5.35,
          4.81,
          6.37,
          7.51,
          5.35,
          5.82,
          6.31,
          5.69,
          11.62,
          7.17,
          8.23,
          9.28,
          9.73,
          13.41,
          7.29,
          8.11,
          7.83,
          5.4,
          6.98,
          5.41,
          5.64,
          5.86,
          9.87,
          7.21,
          5.47,
          6.58,
          5.31,
          5.97,
          6.53,
          4.48,
          5.22,
          7.48,
          6.08,
          5.88,
          6.41,
          6.17,
          10.46,
          7.66,
          6.19,
          5.44,
          6.36,
          7.15,
          5.92,
          6.58,
          6.66,
          7.46,
          7.65,
          8.75,
          5,
          5.35,
          13.49,
          5.18,
          7.46
         ],
         "xaxis": "x",
         "y": [
          41000000,
          37893408,
          33386850,
          32600060,
          31500000,
          30800000,
          29682540,
          27455357,
          27102202,
          26346666,
          25679348,
          25568182,
          25000000,
          24360000,
          24107143,
          22627671,
          22321429,
          22266182,
          22000000,
          20975000,
          20616000,
          20465117,
          20357143,
          20089286,
          20000000,
          20000000,
          19928571,
          19500000,
          19279841,
          18857143,
          18833713,
          18700000,
          18642857,
          18357143,
          18214000,
          18154000,
          17897728,
          17400000,
          17116279,
          17000000,
          17000000,
          17000000,
          16875000,
          16847826,
          15860000,
          15740741,
          15681818,
          15669643,
          15435000,
          15384616,
          15277778,
          14763636,
          14704938,
          14487684,
          14000000,
          13932008,
          13750000,
          13050000,
          13000000,
          12960000,
          12950400,
          12600000,
          12500000,
          12500000,
          12405000,
          12405000,
          12402000,
          12195122,
          12119440,
          12100000,
          12046020,
          12015150,
          12015150,
          11750000,
          11710818,
          11710818,
          11692308,
          11571429,
          11111111,
          11020000,
          11014500,
          13033786,
          11000000,
          11000000,
          10933333,
          10900000,
          10576923,
          10500000,
          10500000,
          10489600,
          10375000,
          10250000,
          10000000,
          9945830,
          9895833,
          9835881,
          9800926,
          9625000,
          9600000,
          9500000,
          9460000,
          9450000,
          9423869,
          9326520,
          9245121,
          9219512,
          8925000,
          8920795,
          8882640,
          8800000,
          8715000,
          8700000,
          8409000,
          8195122,
          8109063,
          8008680,
          8000000,
          8000000,
          8000000,
          8000000,
          8000000,
          7921300,
          7700000,
          7614480,
          7560000,
          7500000,
          7413955,
          7252080,
          6985000,
          8670002,
          6803012,
          6802950,
          6802950,
          6802950,
          6718842,
          6587040,
          8519706,
          6500000,
          6481482,
          6313800,
          6300000,
          6263188,
          6250000,
          6190476,
          6175000,
          6012840,
          5887899,
          5808435,
          5722116,
          5709877,
          5634257,
          5539771,
          5370370,
          5316960,
          5266713,
          5266713,
          5063640,
          5050800,
          5050800,
          5043773,
          5009633,
          5000000,
          5000000,
          5000000,
          5000000,
          5000000,
          4810200,
          4798440,
          4765339,
          4698000,
          4687500,
          4570080,
          4558680,
          4556983,
          4516000,
          4516000,
          4379527,
          4343920,
          6105941,
          4330680,
          4310250,
          4306281,
          4171548,
          4124400,
          4114200,
          4037277,
          4000000,
          4000000,
          4000000,
          3918480,
          3908160,
          3901399,
          3873025,
          3845083,
          3835738,
          3722040,
          3712920,
          3695311,
          3666667,
          3536280,
          3527160,
          3500000,
          3360000,
          5379706,
          3359280,
          3196448,
          3196448,
          3191400,
          3071880,
          3044872,
          3000000,
          3000000,
          3000000,
          2949120,
          2925360,
          2891467,
          2844430,
          2831160,
          2815937,
          2808720,
          2800000,
          2748674,
          2718240,
          2709849,
          2696280,
          2609400,
          2600000,
          2586665,
          2586665,
          2528233,
          2528233,
          2528233,
          2504640,
          2485200,
          2439025,
          2400000,
          2385720,
          2352000,
          4368030,
          2346614,
          2346614,
          2320440,
          2320000,
          2306400,
          2240160,
          2210040,
          2194200,
          2165000,
          2165000,
          2165000,
          2131905,
          2066585,
          2066585,
          2019706,
          2019706,
          2019706,
          2019706,
          2019706,
          2019706,
          2019706,
          2019706,
          2019706,
          2019706,
          2019706,
          2019706,
          2019706,
          2019706,
          2019706,
          2019706,
          2019706,
          2019706,
          2019706,
          2019706,
          2019706,
          2019706,
          2419706,
          2019706,
          2019706,
          2019706,
          2019706,
          2019706,
          2019706,
          2019706,
          2019706,
          2000000,
          2000000,
          1997238,
          1930681,
          1930681,
          1930681,
          1927896,
          1927896,
          1900000,
          1845593,
          1836096,
          1836096,
          1836096,
          1836096,
          1719864,
          1719864,
          1719864,
          1300000,
          702311,
          200000
         ],
         "yaxis": "y"
        },
        {
         "hovertemplate": "Scoring Rate=low<br>PTS_Per_Game=%{x}<br>Current Contract=%{y}<extra></extra>",
         "legendgroup": "low",
         "marker": {
          "color": "#adc89e",
          "symbol": "circle"
         },
         "mode": "markers",
         "name": "low",
         "orientation": "v",
         "showlegend": true,
         "type": "scatter",
         "x": [
          3.69,
          3.85,
          2.24,
          3,
          2.67,
          2.76,
          3.65,
          1.45,
          3.24,
          4.35,
          3.94,
          3.26,
          3.55,
          2.44,
          3.29,
          2.17,
          2.74,
          4.29,
          3.65,
          3.78,
          3.39,
          3.53,
          4.03,
          3.42,
          2.88,
          3.69,
          4.4,
          2.99,
          1.61,
          3.23,
          3.74,
          2.93,
          4.42,
          2.17,
          1.92,
          3.8,
          3.14,
          3.86,
          3.07,
          3.12,
          3.92,
          1.24,
          1.5,
          1.36,
          3.89,
          3.71,
          2.85,
          1.56
         ],
         "xaxis": "x",
         "y": [
          7723000,
          5784120,
          3350760,
          3199920,
          3047880,
          2588400,
          2581522,
          2421720,
          2413304,
          2346614,
          2337720,
          2303520,
          2234359,
          2226240,
          2019706,
          2019706,
          2019706,
          2019706,
          2019706,
          2000000,
          1997238,
          1997238,
          1927896,
          1927896,
          1927896,
          1902137,
          1901769,
          1836096,
          1836096,
          1836096,
          1801769,
          1801769,
          1799163,
          1719864,
          1719864,
          1719864,
          1719864,
          1719864,
          1719864,
          1719864,
          831385,
          600000,
          576230,
          555217,
          300000,
          268032,
          250000,
          92857
         ],
         "yaxis": "y"
        }
       ],
       "layout": {
        "height": 400,
        "legend": {
         "title": {
          "text": "Scoring Rate"
         },
         "tracegroupgap": 0
        },
        "template": {
         "data": {
          "bar": [
           {
            "error_x": {
             "color": "#2a3f5f"
            },
            "error_y": {
             "color": "#2a3f5f"
            },
            "marker": {
             "line": {
              "color": "#E5ECF6",
              "width": 0.5
             },
             "pattern": {
              "fillmode": "overlay",
              "size": 10,
              "solidity": 0.2
             }
            },
            "type": "bar"
           }
          ],
          "barpolar": [
           {
            "marker": {
             "line": {
              "color": "#E5ECF6",
              "width": 0.5
             },
             "pattern": {
              "fillmode": "overlay",
              "size": 10,
              "solidity": 0.2
             }
            },
            "type": "barpolar"
           }
          ],
          "carpet": [
           {
            "aaxis": {
             "endlinecolor": "#2a3f5f",
             "gridcolor": "white",
             "linecolor": "white",
             "minorgridcolor": "white",
             "startlinecolor": "#2a3f5f"
            },
            "baxis": {
             "endlinecolor": "#2a3f5f",
             "gridcolor": "white",
             "linecolor": "white",
             "minorgridcolor": "white",
             "startlinecolor": "#2a3f5f"
            },
            "type": "carpet"
           }
          ],
          "choropleth": [
           {
            "colorbar": {
             "outlinewidth": 0,
             "ticks": ""
            },
            "type": "choropleth"
           }
          ],
          "contour": [
           {
            "colorbar": {
             "outlinewidth": 0,
             "ticks": ""
            },
            "colorscale": [
             [
              0,
              "#0d0887"
             ],
             [
              0.1111111111111111,
              "#46039f"
             ],
             [
              0.2222222222222222,
              "#7201a8"
             ],
             [
              0.3333333333333333,
              "#9c179e"
             ],
             [
              0.4444444444444444,
              "#bd3786"
             ],
             [
              0.5555555555555556,
              "#d8576b"
             ],
             [
              0.6666666666666666,
              "#ed7953"
             ],
             [
              0.7777777777777778,
              "#fb9f3a"
             ],
             [
              0.8888888888888888,
              "#fdca26"
             ],
             [
              1,
              "#f0f921"
             ]
            ],
            "type": "contour"
           }
          ],
          "contourcarpet": [
           {
            "colorbar": {
             "outlinewidth": 0,
             "ticks": ""
            },
            "type": "contourcarpet"
           }
          ],
          "heatmap": [
           {
            "colorbar": {
             "outlinewidth": 0,
             "ticks": ""
            },
            "colorscale": [
             [
              0,
              "#0d0887"
             ],
             [
              0.1111111111111111,
              "#46039f"
             ],
             [
              0.2222222222222222,
              "#7201a8"
             ],
             [
              0.3333333333333333,
              "#9c179e"
             ],
             [
              0.4444444444444444,
              "#bd3786"
             ],
             [
              0.5555555555555556,
              "#d8576b"
             ],
             [
              0.6666666666666666,
              "#ed7953"
             ],
             [
              0.7777777777777778,
              "#fb9f3a"
             ],
             [
              0.8888888888888888,
              "#fdca26"
             ],
             [
              1,
              "#f0f921"
             ]
            ],
            "type": "heatmap"
           }
          ],
          "heatmapgl": [
           {
            "colorbar": {
             "outlinewidth": 0,
             "ticks": ""
            },
            "colorscale": [
             [
              0,
              "#0d0887"
             ],
             [
              0.1111111111111111,
              "#46039f"
             ],
             [
              0.2222222222222222,
              "#7201a8"
             ],
             [
              0.3333333333333333,
              "#9c179e"
             ],
             [
              0.4444444444444444,
              "#bd3786"
             ],
             [
              0.5555555555555556,
              "#d8576b"
             ],
             [
              0.6666666666666666,
              "#ed7953"
             ],
             [
              0.7777777777777778,
              "#fb9f3a"
             ],
             [
              0.8888888888888888,
              "#fdca26"
             ],
             [
              1,
              "#f0f921"
             ]
            ],
            "type": "heatmapgl"
           }
          ],
          "histogram": [
           {
            "marker": {
             "pattern": {
              "fillmode": "overlay",
              "size": 10,
              "solidity": 0.2
             }
            },
            "type": "histogram"
           }
          ],
          "histogram2d": [
           {
            "colorbar": {
             "outlinewidth": 0,
             "ticks": ""
            },
            "colorscale": [
             [
              0,
              "#0d0887"
             ],
             [
              0.1111111111111111,
              "#46039f"
             ],
             [
              0.2222222222222222,
              "#7201a8"
             ],
             [
              0.3333333333333333,
              "#9c179e"
             ],
             [
              0.4444444444444444,
              "#bd3786"
             ],
             [
              0.5555555555555556,
              "#d8576b"
             ],
             [
              0.6666666666666666,
              "#ed7953"
             ],
             [
              0.7777777777777778,
              "#fb9f3a"
             ],
             [
              0.8888888888888888,
              "#fdca26"
             ],
             [
              1,
              "#f0f921"
             ]
            ],
            "type": "histogram2d"
           }
          ],
          "histogram2dcontour": [
           {
            "colorbar": {
             "outlinewidth": 0,
             "ticks": ""
            },
            "colorscale": [
             [
              0,
              "#0d0887"
             ],
             [
              0.1111111111111111,
              "#46039f"
             ],
             [
              0.2222222222222222,
              "#7201a8"
             ],
             [
              0.3333333333333333,
              "#9c179e"
             ],
             [
              0.4444444444444444,
              "#bd3786"
             ],
             [
              0.5555555555555556,
              "#d8576b"
             ],
             [
              0.6666666666666666,
              "#ed7953"
             ],
             [
              0.7777777777777778,
              "#fb9f3a"
             ],
             [
              0.8888888888888888,
              "#fdca26"
             ],
             [
              1,
              "#f0f921"
             ]
            ],
            "type": "histogram2dcontour"
           }
          ],
          "mesh3d": [
           {
            "colorbar": {
             "outlinewidth": 0,
             "ticks": ""
            },
            "type": "mesh3d"
           }
          ],
          "parcoords": [
           {
            "line": {
             "colorbar": {
              "outlinewidth": 0,
              "ticks": ""
             }
            },
            "type": "parcoords"
           }
          ],
          "pie": [
           {
            "automargin": true,
            "type": "pie"
           }
          ],
          "scatter": [
           {
            "fillpattern": {
             "fillmode": "overlay",
             "size": 10,
             "solidity": 0.2
            },
            "type": "scatter"
           }
          ],
          "scatter3d": [
           {
            "line": {
             "colorbar": {
              "outlinewidth": 0,
              "ticks": ""
             }
            },
            "marker": {
             "colorbar": {
              "outlinewidth": 0,
              "ticks": ""
             }
            },
            "type": "scatter3d"
           }
          ],
          "scattercarpet": [
           {
            "marker": {
             "colorbar": {
              "outlinewidth": 0,
              "ticks": ""
             }
            },
            "type": "scattercarpet"
           }
          ],
          "scattergeo": [
           {
            "marker": {
             "colorbar": {
              "outlinewidth": 0,
              "ticks": ""
             }
            },
            "type": "scattergeo"
           }
          ],
          "scattergl": [
           {
            "marker": {
             "colorbar": {
              "outlinewidth": 0,
              "ticks": ""
             }
            },
            "type": "scattergl"
           }
          ],
          "scattermapbox": [
           {
            "marker": {
             "colorbar": {
              "outlinewidth": 0,
              "ticks": ""
             }
            },
            "type": "scattermapbox"
           }
          ],
          "scatterpolar": [
           {
            "marker": {
             "colorbar": {
              "outlinewidth": 0,
              "ticks": ""
             }
            },
            "type": "scatterpolar"
           }
          ],
          "scatterpolargl": [
           {
            "marker": {
             "colorbar": {
              "outlinewidth": 0,
              "ticks": ""
             }
            },
            "type": "scatterpolargl"
           }
          ],
          "scatterternary": [
           {
            "marker": {
             "colorbar": {
              "outlinewidth": 0,
              "ticks": ""
             }
            },
            "type": "scatterternary"
           }
          ],
          "surface": [
           {
            "colorbar": {
             "outlinewidth": 0,
             "ticks": ""
            },
            "colorscale": [
             [
              0,
              "#0d0887"
             ],
             [
              0.1111111111111111,
              "#46039f"
             ],
             [
              0.2222222222222222,
              "#7201a8"
             ],
             [
              0.3333333333333333,
              "#9c179e"
             ],
             [
              0.4444444444444444,
              "#bd3786"
             ],
             [
              0.5555555555555556,
              "#d8576b"
             ],
             [
              0.6666666666666666,
              "#ed7953"
             ],
             [
              0.7777777777777778,
              "#fb9f3a"
             ],
             [
              0.8888888888888888,
              "#fdca26"
             ],
             [
              1,
              "#f0f921"
             ]
            ],
            "type": "surface"
           }
          ],
          "table": [
           {
            "cells": {
             "fill": {
              "color": "#EBF0F8"
             },
             "line": {
              "color": "white"
             }
            },
            "header": {
             "fill": {
              "color": "#C8D4E3"
             },
             "line": {
              "color": "white"
             }
            },
            "type": "table"
           }
          ]
         },
         "layout": {
          "annotationdefaults": {
           "arrowcolor": "#2a3f5f",
           "arrowhead": 0,
           "arrowwidth": 1
          },
          "autotypenumbers": "strict",
          "coloraxis": {
           "colorbar": {
            "outlinewidth": 0,
            "ticks": ""
           }
          },
          "colorscale": {
           "diverging": [
            [
             0,
             "#8e0152"
            ],
            [
             0.1,
             "#c51b7d"
            ],
            [
             0.2,
             "#de77ae"
            ],
            [
             0.3,
             "#f1b6da"
            ],
            [
             0.4,
             "#fde0ef"
            ],
            [
             0.5,
             "#f7f7f7"
            ],
            [
             0.6,
             "#e6f5d0"
            ],
            [
             0.7,
             "#b8e186"
            ],
            [
             0.8,
             "#7fbc41"
            ],
            [
             0.9,
             "#4d9221"
            ],
            [
             1,
             "#276419"
            ]
           ],
           "sequential": [
            [
             0,
             "#0d0887"
            ],
            [
             0.1111111111111111,
             "#46039f"
            ],
            [
             0.2222222222222222,
             "#7201a8"
            ],
            [
             0.3333333333333333,
             "#9c179e"
            ],
            [
             0.4444444444444444,
             "#bd3786"
            ],
            [
             0.5555555555555556,
             "#d8576b"
            ],
            [
             0.6666666666666666,
             "#ed7953"
            ],
            [
             0.7777777777777778,
             "#fb9f3a"
            ],
            [
             0.8888888888888888,
             "#fdca26"
            ],
            [
             1,
             "#f0f921"
            ]
           ],
           "sequentialminus": [
            [
             0,
             "#0d0887"
            ],
            [
             0.1111111111111111,
             "#46039f"
            ],
            [
             0.2222222222222222,
             "#7201a8"
            ],
            [
             0.3333333333333333,
             "#9c179e"
            ],
            [
             0.4444444444444444,
             "#bd3786"
            ],
            [
             0.5555555555555556,
             "#d8576b"
            ],
            [
             0.6666666666666666,
             "#ed7953"
            ],
            [
             0.7777777777777778,
             "#fb9f3a"
            ],
            [
             0.8888888888888888,
             "#fdca26"
            ],
            [
             1,
             "#f0f921"
            ]
           ]
          },
          "colorway": [
           "#636efa",
           "#EF553B",
           "#00cc96",
           "#ab63fa",
           "#FFA15A",
           "#19d3f3",
           "#FF6692",
           "#B6E880",
           "#FF97FF",
           "#FECB52"
          ],
          "font": {
           "color": "#2a3f5f"
          },
          "geo": {
           "bgcolor": "white",
           "lakecolor": "white",
           "landcolor": "#E5ECF6",
           "showlakes": true,
           "showland": true,
           "subunitcolor": "white"
          },
          "hoverlabel": {
           "align": "left"
          },
          "hovermode": "closest",
          "mapbox": {
           "style": "light"
          },
          "paper_bgcolor": "white",
          "plot_bgcolor": "#E5ECF6",
          "polar": {
           "angularaxis": {
            "gridcolor": "white",
            "linecolor": "white",
            "ticks": ""
           },
           "bgcolor": "#E5ECF6",
           "radialaxis": {
            "gridcolor": "white",
            "linecolor": "white",
            "ticks": ""
           }
          },
          "scene": {
           "xaxis": {
            "backgroundcolor": "#E5ECF6",
            "gridcolor": "white",
            "gridwidth": 2,
            "linecolor": "white",
            "showbackground": true,
            "ticks": "",
            "zerolinecolor": "white"
           },
           "yaxis": {
            "backgroundcolor": "#E5ECF6",
            "gridcolor": "white",
            "gridwidth": 2,
            "linecolor": "white",
            "showbackground": true,
            "ticks": "",
            "zerolinecolor": "white"
           },
           "zaxis": {
            "backgroundcolor": "#E5ECF6",
            "gridcolor": "white",
            "gridwidth": 2,
            "linecolor": "white",
            "showbackground": true,
            "ticks": "",
            "zerolinecolor": "white"
           }
          },
          "shapedefaults": {
           "line": {
            "color": "#2a3f5f"
           }
          },
          "ternary": {
           "aaxis": {
            "gridcolor": "white",
            "linecolor": "white",
            "ticks": ""
           },
           "baxis": {
            "gridcolor": "white",
            "linecolor": "white",
            "ticks": ""
           },
           "bgcolor": "#E5ECF6",
           "caxis": {
            "gridcolor": "white",
            "linecolor": "white",
            "ticks": ""
           }
          },
          "title": {
           "x": 0.05
          },
          "xaxis": {
           "automargin": true,
           "gridcolor": "white",
           "linecolor": "white",
           "ticks": "",
           "title": {
            "standoff": 15
           },
           "zerolinecolor": "white",
           "zerolinewidth": 2
          },
          "yaxis": {
           "automargin": true,
           "gridcolor": "white",
           "linecolor": "white",
           "ticks": "",
           "title": {
            "standoff": 15
           },
           "zerolinecolor": "white",
           "zerolinewidth": 2
          }
         }
        },
        "title": {
         "text": "Comparison of Distributions by Scoring Rate"
        },
        "width": 500,
        "xaxis": {
         "anchor": "y",
         "domain": [
          0,
          1
         ],
         "showgrid": false,
         "title": {
          "text": "PTS_Per_Game"
         }
        },
        "yaxis": {
         "anchor": "x",
         "domain": [
          0,
          1
         ],
         "showgrid": false,
         "title": {
          "text": "Current Contract"
         }
        }
       }
      }
     },
     "metadata": {},
     "output_type": "display_data"
    },
    {
     "name": "stdout",
     "output_type": "stream",
     "text": [
      "                  PTS_Per_Game  Current_Contract\n",
      "PTS_Per_Game          1.000000          0.841468\n",
      "Current_Contract      0.841468          1.000000\n"
     ]
    }
   ],
   "source": [
    "#create a new column called 'Score_Rate' that categorizes 'PTS_per_game'\n",
    "conditions = [\n",
    "    regression_df['PTS_Per_Game'].round(2) >= 16.58,\n",
    "    (regression_df['PTS_Per_Game'].round(2) < 16.58) & \n",
    "    (regression_df['PTS_Per_Game'].round(2) >= 4.46),\n",
    "    regression_df['PTS_Per_Game'].round(2) < 4.46\n",
    "]\n",
    "values = ['high', 'medium', 'low']\n",
    "\n",
    "# Create the 'AST_Rate' column based on the conditions\n",
    "regression_df['Score_Rate'] = np.select(conditions, values, default=np.nan)\n",
    "\n",
    "# Create boxplot\n",
    "fig = px.scatter(regression_df, x='PTS_Per_Game', y='Current_Contract',\n",
    "             title='Comparison of Distributions by Scoring Rate',\n",
    "             color ='Score_Rate',\n",
    "             color_discrete_map={'high': '#064096', 'medium': '#81a6c8', \n",
    "                                 'low': '#adc89e'},\n",
    "             labels={'Score_Rate': 'Scoring Rate', \n",
    "                     'Current_Contract': 'Current Contract'})\n",
    "\n",
    "# Update layout\n",
    "fig.update_layout(width=500, \n",
    "                  height=400,\n",
    "                  xaxis=dict(showgrid=False), \n",
    "                  yaxis=dict(showgrid=False))\n",
    "\n",
    "# Show the plot\n",
    "fig.show()\n",
    "\n",
    "#print the correlation metric\n",
    "print(regression_df[['PTS_Per_Game','Current_Contract']].corr())\n"
   ]
  },
  {
   "cell_type": "markdown",
   "metadata": {},
   "source": [
    "As expected there is a strong positive correlation between the scoring rate and contract values, in the context of this dataset higher scorers are more valuable because the team with the most points will win the game."
   ]
  },
  {
   "cell_type": "markdown",
   "metadata": {},
   "source": [
    "Are there any columns that lack variance necessary to make predictions?"
   ]
  },
  {
   "cell_type": "code",
   "execution_count": 18,
   "metadata": {},
   "outputs": [
    {
     "name": "stdout",
     "output_type": "stream",
     "text": [
      "Current_Contract    1.361964e+14\n",
      "GS_Per_Game         1.243046e-01\n",
      "MIN_Per_Game        6.168737e+01\n",
      "FGM_Per_Game        4.611111e+00\n",
      "FGA_Per_Game        2.027354e+01\n",
      "FG3M_Per_Game       7.049936e-01\n",
      "FG3A_Per_Game       4.716682e+00\n",
      "FTM_Per_Game        1.984625e+00\n",
      "FTA_Per_Game        2.993166e+00\n",
      "OREB_Per_Game       5.369617e-01\n",
      "DREB_Per_Game       2.865559e+00\n",
      "AST_Per_Game        3.528240e+00\n",
      "STL_Per_Game        1.260525e-01\n",
      "BLK_Per_Game        1.543743e-01\n",
      "TOV_Per_Game        6.398220e-01\n",
      "PF_Per_Game         3.965185e-01\n",
      "PTS_Per_Game        3.671359e+01\n",
      "dtype: float64\n"
     ]
    }
   ],
   "source": [
    "print(regression_df.var(numeric_only= True))"
   ]
  },
  {
   "cell_type": "markdown",
   "metadata": {},
   "source": [
    "### 2. Check Regression Assumptions"
   ]
  },
  {
   "cell_type": "markdown",
   "metadata": {},
   "source": [
    "Before we conduct regression analysis we need to check that the data set meets the following assumptions:\n",
    "- Linearity: The relationship between independent and dependent variables is linear\n",
    "- Independence: The observations are independent of each other"
   ]
  },
  {
   "cell_type": "code",
   "execution_count": 19,
   "metadata": {},
   "outputs": [
    {
     "data": {
      "application/vnd.plotly.v1+json": {
       "config": {
        "plotlyServerURL": "https://plot.ly"
       },
       "data": [
        {
         "dimensions": [
          {
           "axis": {
            "matches": true
           },
           "label": "Current_Contract",
           "values": [
            51915615,
            47649433,
            47607350,
            47607350,
            47607350,
            46741590,
            45640084,
            45640084,
            45640084,
            45640084,
            45183960,
            43219440,
            41000000,
            40806300,
            40600080,
            40064220,
            40064220,
            40064220,
            39270150,
            37893408,
            37893408,
            37037037,
            36861707,
            36016200,
            36016200,
            36016200,
            35802469,
            35640000,
            34005250,
            34005250,
            34005250,
            33833400,
            33833400,
            33386850,
            33386850,
            33162030,
            32600060,
            32600060,
            32600060,
            32459438,
            31830357,
            31500000,
            30800000,
            30600000,
            29682540,
            29320988,
            28600000,
            28226880,
            27586207,
            27455357,
            27102202,
            27000000,
            26346666,
            25679348,
            25568182,
            25340000,
            25000000,
            24360000,
            24330357,
            24107143,
            23883929,
            23487629,
            23205221,
            22627671,
            22500000,
            22321429,
            22266182,
            22000000,
            21700000,
            20975000,
            20616000,
            20465117,
            20357143,
            20089286,
            20000000,
            20000000,
            20000000,
            19928571,
            19500000,
            19279841,
            18857143,
            18833713,
            18700000,
            18642857,
            18560000,
            18518519,
            18357143,
            18214000,
            18154000,
            18000000,
            17897728,
            17400000,
            17325000,
            17307693,
            17259999,
            17116279,
            17000000,
            17000000,
            17000000,
            16875000,
            16847826,
            15860000,
            15740741,
            15681818,
            15669643,
            15435000,
            15384616,
            15277778,
            14763636,
            14704938,
            14487684,
            14000000,
            13932008,
            13750000,
            13534817,
            13050000,
            13000000,
            12960000,
            12950400,
            12600000,
            12500000,
            12500000,
            12405000,
            12405000,
            12402000,
            12195122,
            12119440,
            12100000,
            12046020,
            12015150,
            12015150,
            11750000,
            11710818,
            11710818,
            11692308,
            11608080,
            11571429,
            11111111,
            11055360,
            11020000,
            11014500,
            13033786,
            11000000,
            11000000,
            10933333,
            10900635,
            10900000,
            10576923,
            10500000,
            10500000,
            10489600,
            10375000,
            10250000,
            10000000,
            9945830,
            9895833,
            9891480,
            9835881,
            9800926,
            9625000,
            9600000,
            9500000,
            9460000,
            9450000,
            9423869,
            9326520,
            9245121,
            9219512,
            8925000,
            8920795,
            8882640,
            8800000,
            8715000,
            8700000,
            8409000,
            8195122,
            8109063,
            8008680,
            8000000,
            8000000,
            8000000,
            8000000,
            8000000,
            7921300,
            7723000,
            7700000,
            7614480,
            7560000,
            7500000,
            7413955,
            7252080,
            6985000,
            8670002,
            6916080,
            6803012,
            6802950,
            6802950,
            6802950,
            6802950,
            6718842,
            6587040,
            8519706,
            6500000,
            6481482,
            6313800,
            6300000,
            6263188,
            6250000,
            6190476,
            6175000,
            6012840,
            5887899,
            5808435,
            5784120,
            5722116,
            5709877,
            5634257,
            5539771,
            5508720,
            5370370,
            5316960,
            5266713,
            5266713,
            5063640,
            5050800,
            5050800,
            5043773,
            5009633,
            5000000,
            5000000,
            5000000,
            5000000,
            5000000,
            4810200,
            4798440,
            4765339,
            4698000,
            4687500,
            4570080,
            4558680,
            4556983,
            4516000,
            4516000,
            4379527,
            4343920,
            6105941,
            4330680,
            4310250,
            4306281,
            4171548,
            4124400,
            4114200,
            4037277,
            4000000,
            4000000,
            4000000,
            3918480,
            3908160,
            3901399,
            3873025,
            3845083,
            3835738,
            3835738,
            3722040,
            3712920,
            3695311,
            3666667,
            3536280,
            3527160,
            3500000,
            3360000,
            5379706,
            3359280,
            3350760,
            3199920,
            3196448,
            3196448,
            3191400,
            3071880,
            3047880,
            3044872,
            3000000,
            3000000,
            3000000,
            2949120,
            2925360,
            2891467,
            2844430,
            2831160,
            2815937,
            2808720,
            2800000,
            2748674,
            2718240,
            2709849,
            2696280,
            2609400,
            2600000,
            2588400,
            2586665,
            2586665,
            2581522,
            2528233,
            2528233,
            2528233,
            2504640,
            2485200,
            2439025,
            2421720,
            2413304,
            2400000,
            2385720,
            2352000,
            4368030,
            2346614,
            2346614,
            2346614,
            2337720,
            2320440,
            2320000,
            2306400,
            2303520,
            2240160,
            2234359,
            2226240,
            2210040,
            2194200,
            2165000,
            2165000,
            2165000,
            2131905,
            2066585,
            2066585,
            2019706,
            2019706,
            2019706,
            2019706,
            2019706,
            2019706,
            2019706,
            2019706,
            2019706,
            2019706,
            2019706,
            2019706,
            2019706,
            2019706,
            2019706,
            2019706,
            2019706,
            2019706,
            2019706,
            2019706,
            2019706,
            2019706,
            2019706,
            2019706,
            2019706,
            2019706,
            2419706,
            2019706,
            2019706,
            2019706,
            2019706,
            2019706,
            2019706,
            2019706,
            2019706,
            2019706,
            2019706,
            2000000,
            2000000,
            2000000,
            1997238,
            1997238,
            1997238,
            1930681,
            1930681,
            1930681,
            1927896,
            1927896,
            1927896,
            1927896,
            1927896,
            1902137,
            1901769,
            1900000,
            1845593,
            1836096,
            1836096,
            1836096,
            1836096,
            1836096,
            1836096,
            1836096,
            1801769,
            1801769,
            1799163,
            1719864,
            1719864,
            1719864,
            1719864,
            1719864,
            1719864,
            1719864,
            1719864,
            1719864,
            1719864,
            1300000,
            831385,
            702311,
            600000,
            576230,
            555217,
            300000,
            268032,
            250000,
            200000,
            92857
           ]
          },
          {
           "axis": {
            "matches": true
           },
           "label": "GS_Per_Game",
           "values": [
            1,
            0.98,
            1,
            1,
            1,
            1,
            1,
            1,
            0.99,
            1,
            1,
            1,
            1,
            0.88,
            0.99,
            1,
            1,
            1,
            1,
            0.97,
            1,
            1,
            0.98,
            1,
            1,
            1,
            1,
            1,
            1,
            0.99,
            0.98,
            1,
            0.99,
            0.97,
            0.71,
            1,
            0.99,
            0.85,
            1,
            0.98,
            0.85,
            0.79,
            1,
            0.99,
            0.96,
            0.94,
            1,
            0.93,
            0.84,
            0.43,
            0.97,
            0.41,
            0.57,
            0.52,
            0.73,
            0.99,
            0.99,
            0.99,
            1,
            0.36,
            1,
            0.23,
            0.81,
            0.93,
            0.76,
            0.99,
            1,
            0.61,
            1,
            1,
            0.99,
            0.95,
            0.93,
            0.97,
            0.92,
            0.86,
            1,
            0.85,
            0.93,
            0.66,
            0.83,
            0.87,
            0.37,
            0.79,
            0.75,
            1,
            0.77,
            0.88,
            0.75,
            0.63,
            0.67,
            0.72,
            0.84,
            0.94,
            0.91,
            0.88,
            1,
            0.04,
            0.82,
            1,
            0.84,
            0.74,
            0.39,
            0.61,
            0.83,
            0.93,
            0.65,
            0.96,
            0.23,
            0.73,
            0.26,
            0.23,
            1,
            0.25,
            0.92,
            0.89,
            0.79,
            0.76,
            0.18,
            1,
            0.12,
            0.65,
            0.2,
            0.66,
            0.47,
            0.78,
            0.55,
            0.44,
            0.54,
            0.94,
            0.33,
            0.08,
            0.33,
            0.62,
            0.59,
            1,
            0.46,
            0.28,
            1,
            0.22,
            0.84,
            0.77,
            0.36,
            0.55,
            0.81,
            0.88,
            0.47,
            0.31,
            0.35,
            0.42,
            0.31,
            0.26,
            0.25,
            0.98,
            0.12,
            0.44,
            1,
            0.85,
            0.49,
            0.56,
            0.44,
            0.74,
            0.26,
            0.43,
            0.19,
            1,
            0.05,
            0.61,
            0.65,
            0.83,
            1,
            0.05,
            0.14,
            0.07,
            0.98,
            0.4,
            0.16,
            0.99,
            0.04,
            0.22,
            0.15,
            0.36,
            0.27,
            0.65,
            0.03,
            0.17,
            0.99,
            0.13,
            0.65,
            0.68,
            0.63,
            0.34,
            0.52,
            0.22,
            0.07,
            0.32,
            0.86,
            0.65,
            0.16,
            0.5,
            1,
            0.2,
            0.79,
            0.58,
            0.19,
            0.23,
            0.38,
            0.18,
            0.17,
            0.28,
            0.2,
            0.42,
            0.86,
            0.19,
            0,
            0.35,
            0.37,
            0.6,
            1,
            0.18,
            0.95,
            0.7,
            0.33,
            0.18,
            0.41,
            0.18,
            0.24,
            0.46,
            0.11,
            0.18,
            0.42,
            0.87,
            0.71,
            0.35,
            0.03,
            0.17,
            0.77,
            0.15,
            0,
            0.83,
            0.68,
            0.26,
            0.16,
            0.23,
            0.63,
            0.3,
            0.46,
            0.14,
            0.05,
            0.12,
            0.5,
            0.37,
            0.05,
            0.78,
            0.64,
            0.25,
            0.12,
            0.4,
            0.65,
            0.15,
            0.75,
            0.66,
            0.31,
            0.54,
            0.17,
            0.72,
            0.23,
            0.58,
            0.06,
            0.09,
            0.41,
            0.2,
            0.47,
            0,
            0,
            0.07,
            0.79,
            0.24,
            0.48,
            0,
            0.12,
            0.2,
            0.18,
            0.05,
            0.08,
            0.07,
            0.14,
            0.02,
            0.54,
            0.47,
            0.21,
            0.18,
            0.11,
            0.06,
            0.55,
            0.27,
            0.21,
            0.03,
            0.03,
            0.11,
            0.6,
            0.07,
            0.46,
            0.36,
            0.17,
            0.03,
            0.03,
            0.04,
            0.07,
            0,
            0.15,
            0.62,
            0.53,
            0.18,
            0.34,
            0.28,
            0.05,
            0,
            0.06,
            0.04,
            0.03,
            0.09,
            0.05,
            0.08,
            0.11,
            0.14,
            0.18,
            0.2,
            0.36,
            0.25,
            0.84,
            0.12,
            0.21,
            0.44,
            0.5,
            0.13,
            0.5,
            0.28,
            0.12,
            0.05,
            0.62,
            0.97,
            0.41,
            0,
            0.09,
            0.55,
            0.07,
            0.79,
            0.39,
            0.21,
            0.34,
            0.26,
            0.47,
            0.42,
            0.22,
            0.01,
            0.12,
            0.33,
            0.27,
            0.26,
            0.5,
            0.07,
            0.1,
            0.17,
            0.33,
            0.24,
            0.12,
            0.2,
            0.17,
            0.03,
            0.08,
            0.73,
            0.24,
            0.05,
            0.09,
            0.07,
            0.29,
            0.21,
            0.25,
            0.08,
            0.26,
            0.02,
            0.23,
            0.11,
            0.15,
            0.03,
            0.61,
            0.06,
            0.38,
            0.04,
            0.06,
            0.01,
            0.41,
            0.1,
            0.08,
            0.03,
            0.07,
            0.16,
            0,
            0,
            0.1,
            0.1,
            0.33,
            0,
            0,
            0.04,
            0.07,
            0.15,
            0.9,
            0.13,
            0,
            0,
            0,
            0,
            0.49,
            0.1,
            0,
            0.63,
            0
           ]
          },
          {
           "axis": {
            "matches": true
           },
           "label": "MIN_Per_Game",
           "values": [
            34.14,
            35.59,
            32.95,
            32.75,
            35.23,
            35.78,
            32.26,
            36.24,
            33.12,
            34.2,
            33.75,
            33.41,
            31.92,
            34.82,
            33.81,
            33.83,
            34.3,
            35.03,
            33.83,
            32.91,
            35.5,
            36.75,
            33.69,
            34.8,
            33.41,
            30.52,
            34.71,
            37.06,
            32.02,
            32.11,
            33.96,
            34.05,
            32.78,
            32.6,
            26.09,
            34.22,
            33.34,
            31.22,
            34.74,
            30.63,
            32.52,
            30.86,
            31.97,
            34.86,
            34.02,
            30.91,
            35.07,
            34.34,
            32,
            26.33,
            27.37,
            31.52,
            26.7,
            26.5,
            31.12,
            30.46,
            28.1,
            29.62,
            32.94,
            23.98,
            33.61,
            27.43,
            31.75,
            28.66,
            30.25,
            30.57,
            29.62,
            24.6,
            34.78,
            29.48,
            29.86,
            32.49,
            33.02,
            31.06,
            30.02,
            31.03,
            31.67,
            28.18,
            27.14,
            31.67,
            27.93,
            31.1,
            28.68,
            30.49,
            32.42,
            33.42,
            29.03,
            29.85,
            26.06,
            30,
            29.91,
            24.73,
            31.29,
            31.65,
            30.86,
            28.68,
            33.78,
            16.68,
            26.98,
            27,
            30.23,
            30.25,
            25.21,
            24.44,
            29.59,
            26.58,
            30.36,
            29.58,
            23.03,
            28.06,
            23.13,
            21.08,
            31.56,
            21,
            34.17,
            27.72,
            27.13,
            32.52,
            17.58,
            28.49,
            21.31,
            24.28,
            21.18,
            29.75,
            17.95,
            27.02,
            19.92,
            23.45,
            21.48,
            29.76,
            26.09,
            18.46,
            24.13,
            26.14,
            26.55,
            33.75,
            20.5,
            26.9,
            32.74,
            21.47,
            26.45,
            29.07,
            24.44,
            28.01,
            22.71,
            31.85,
            25.77,
            21.53,
            20.95,
            19.72,
            26.11,
            23.71,
            22.41,
            29.52,
            22.17,
            19.55,
            33.15,
            27.81,
            25.78,
            23.68,
            23.22,
            28.58,
            22.13,
            28.42,
            22.33,
            31.03,
            16.37,
            25.05,
            23.38,
            27.65,
            34.09,
            16.64,
            16.18,
            21.29,
            29.78,
            24.39,
            19.34,
            35.07,
            12.75,
            18.94,
            18.31,
            22.45,
            16.92,
            29.08,
            9.29,
            18.91,
            31.14,
            21.08,
            20.29,
            26.61,
            25.28,
            20.15,
            20.11,
            28.49,
            14.75,
            22.7,
            32.86,
            27.83,
            23.71,
            25.87,
            31.28,
            20.48,
            26.68,
            26.8,
            22.24,
            21.69,
            24.82,
            17.06,
            15.89,
            22.19,
            18.82,
            24.39,
            33.65,
            17.66,
            14.37,
            18.56,
            17.89,
            28.4,
            31.69,
            18.16,
            26.04,
            24.79,
            23.94,
            22.73,
            21.3,
            15.11,
            16.67,
            21.6,
            12.39,
            20.79,
            16.81,
            25.78,
            25.88,
            19.26,
            14.59,
            18.21,
            23.06,
            17.67,
            12.6,
            30.35,
            28.99,
            21.47,
            20.4,
            19.06,
            28.58,
            19.59,
            24.93,
            16.15,
            13.4,
            24.17,
            24.14,
            20.49,
            15.74,
            28.93,
            20.86,
            18.87,
            12.38,
            19.26,
            27.03,
            14.97,
            27.85,
            32.18,
            21.37,
            25.79,
            19.46,
            26.95,
            15.17,
            24.9,
            21.55,
            15.33,
            18.68,
            17.02,
            23.49,
            5.63,
            11.83,
            23.08,
            28.78,
            20.08,
            23.48,
            9.15,
            14.73,
            17.75,
            18.82,
            14.84,
            15.54,
            12.63,
            23.9,
            11.62,
            23.01,
            20.15,
            15.87,
            12.14,
            13.38,
            17.99,
            26.08,
            15.99,
            13.48,
            11.66,
            12.21,
            13.59,
            26.33,
            8.91,
            18.54,
            21.11,
            20.51,
            18.08,
            15.36,
            17.41,
            5.28,
            10.2,
            17.19,
            24.85,
            13.6,
            13.42,
            17.62,
            17,
            13.27,
            7.29,
            13.97,
            16.72,
            19.23,
            8.09,
            17.13,
            10.7,
            5.28,
            11.8,
            18.73,
            16.81,
            23.2,
            19.19,
            27.65,
            12.89,
            12.02,
            18.25,
            24.1,
            13.6,
            14.19,
            14.9,
            12.95,
            20.68,
            30.01,
            25.95,
            19,
            11.69,
            9.26,
            21.12,
            8.32,
            27.38,
            26.53,
            17,
            17.89,
            22.6,
            16.02,
            20.9,
            14.92,
            16.47,
            12.92,
            20.97,
            20.94,
            16.45,
            21.85,
            8.33,
            8.19,
            15.93,
            18.33,
            15.57,
            13.06,
            18.65,
            14.65,
            10.26,
            15.92,
            18.65,
            17.39,
            8.54,
            10.12,
            14.12,
            24.35,
            19.68,
            17.14,
            13.66,
            14.66,
            12.13,
            14.7,
            17.36,
            15.03,
            9.86,
            20.66,
            13.63,
            22.28,
            10.88,
            7.5,
            13.81,
            20.88,
            18.64,
            12.07,
            13.71,
            10.57,
            10.12,
            7.83,
            5.17,
            14.75,
            12.6,
            13.83,
            11.05,
            6.4,
            7.33,
            12.49,
            17.11,
            27.99,
            14.56,
            13.01,
            3.88,
            6.35,
            4.15,
            20.32,
            14.95,
            7.45,
            23.3,
            5.27
           ]
          },
          {
           "axis": {
            "matches": true
           },
           "label": "FGM_Per_Game",
           "values": [
            9.4,
            10.15,
            9.03,
            9.39,
            10.33,
            9.75,
            10.52,
            8.95,
            8.93,
            8.35,
            6.9,
            8.08,
            5.55,
            5.86,
            9.18,
            8.12,
            9.38,
            8.85,
            7.04,
            6.05,
            8.01,
            9.98,
            7.44,
            9.39,
            8.59,
            7.31,
            8.39,
            6.35,
            9.9,
            8.16,
            6.82,
            8.14,
            6.86,
            7.35,
            5.74,
            9.09,
            8.15,
            6.26,
            8.52,
            7.3,
            8.04,
            5.68,
            5.69,
            7.35,
            4.77,
            6.92,
            8.63,
            7.86,
            5.85,
            5.25,
            5.81,
            6.47,
            5.41,
            4.42,
            6.25,
            6.71,
            4.86,
            4.47,
            7.09,
            4.51,
            6.48,
            6.36,
            6.27,
            5.84,
            6.3,
            2.98,
            5.45,
            3.36,
            6.27,
            5.07,
            6.01,
            4.43,
            5.45,
            5.01,
            6.09,
            5.47,
            6.39,
            4.53,
            5.17,
            5.65,
            4.98,
            3.9,
            5.41,
            4.93,
            5.93,
            8.39,
            4.51,
            6.15,
            3.68,
            6.15,
            5.41,
            3.37,
            7,
            6.31,
            6.17,
            5.06,
            5.14,
            2.15,
            5.07,
            5.46,
            4.82,
            5.45,
            4.73,
            3.53,
            4.61,
            6.28,
            5.77,
            4.53,
            3.43,
            3.86,
            3.49,
            3.15,
            3.45,
            3.92,
            7.9,
            5.03,
            3.5,
            4.06,
            3.87,
            4.14,
            4.51,
            4.97,
            2.14,
            4.79,
            3.42,
            4.35,
            4.41,
            3.14,
            4.06,
            3.53,
            3.24,
            3.24,
            5.12,
            2.69,
            2.78,
            6.65,
            3.27,
            4.57,
            6.87,
            3.67,
            1.74,
            3.21,
            2.56,
            3.54,
            3.77,
            6.96,
            3.26,
            3.04,
            2.76,
            1.73,
            4.11,
            2.98,
            2.89,
            4.62,
            4.21,
            3.13,
            6.8,
            3.66,
            4.17,
            4.17,
            3.47,
            2.46,
            2.2,
            5.18,
            2.66,
            4.61,
            2.45,
            3.39,
            3.25,
            2.94,
            6.4,
            2.48,
            2.43,
            3.42,
            4.42,
            2.92,
            3.2,
            6.11,
            2.27,
            3.05,
            3.36,
            3.18,
            3.02,
            5.03,
            1.65,
            2.84,
            5.53,
            2.19,
            2.47,
            3.3,
            3.8,
            2.36,
            3.19,
            5.29,
            2.7,
            2.95,
            7.12,
            4.98,
            3.57,
            3.88,
            6.31,
            3.85,
            4.41,
            3.56,
            3.82,
            3.18,
            2.99,
            2.2,
            1.94,
            2.77,
            3.63,
            4.15,
            5.84,
            1.47,
            2.22,
            1.85,
            2.35,
            4.96,
            6.28,
            2.65,
            4.46,
            3.55,
            2.77,
            3.44,
            3.49,
            2.36,
            3.13,
            3.09,
            1.96,
            3.47,
            2.17,
            3.82,
            4.56,
            2.78,
            1.95,
            2.27,
            2.89,
            2.81,
            1.82,
            5.52,
            4.69,
            3.12,
            3,
            3.1,
            5.71,
            2.04,
            3.85,
            1.81,
            1.88,
            4.18,
            3.87,
            2.8,
            2.41,
            4.82,
            3.07,
            2.06,
            1.63,
            3.72,
            3.72,
            1.99,
            5.9,
            6.77,
            3.41,
            3.48,
            3.44,
            3.68,
            1.85,
            4.7,
            3.61,
            2.42,
            3.53,
            2.04,
            3.52,
            0.84,
            1.06,
            4.95,
            4.55,
            3.37,
            4.08,
            1.13,
            2.21,
            2.94,
            3.47,
            1.89,
            1.88,
            1.96,
            3.65,
            1.83,
            4.03,
            2.13,
            2.27,
            2.25,
            2.29,
            2.57,
            5.84,
            2.98,
            1.85,
            2.02,
            1.06,
            1.93,
            3.85,
            1.43,
            3.85,
            2.55,
            2.79,
            1.86,
            2.73,
            2.6,
            0.62,
            1.4,
            1.78,
            3.22,
            1.87,
            3.2,
            2.82,
            2.51,
            1.56,
            1.39,
            1.87,
            1.81,
            3.79,
            1.26,
            3.38,
            1.31,
            1,
            2.24,
            2.75,
            2.82,
            3.43,
            2.42,
            3.79,
            2.06,
            1.81,
            2.59,
            2.69,
            1.98,
            2.34,
            2.56,
            2.23,
            4.54,
            6.01,
            2.44,
            3.13,
            1.14,
            0.78,
            3.6,
            1.12,
            3.27,
            4.81,
            3.09,
            2.88,
            2.88,
            2.41,
            2.5,
            2.03,
            2.54,
            2.51,
            3.68,
            2.78,
            2.18,
            2.2,
            1.66,
            2.1,
            2.21,
            2.68,
            1.65,
            2.24,
            2.94,
            2.11,
            1.45,
            1.29,
            2.08,
            1.8,
            1.2,
            1.26,
            1.98,
            4.13,
            2.67,
            2.62,
            1.92,
            1.52,
            1.19,
            1.31,
            2.47,
            1.45,
            1.51,
            2.65,
            2.15,
            2.27,
            1.05,
            0.56,
            2.41,
            2.85,
            2.89,
            1.17,
            1.52,
            1.2,
            1.64,
            0.97,
            0.58,
            3.04,
            1.7,
            1.24,
            1.48,
            1.2,
            2.04,
            1.07,
            1.74,
            4.96,
            1.55,
            1.74,
            0.47,
            0.61,
            0.52,
            1.59,
            1.29,
            1.15,
            2.58,
            0.61
           ]
          },
          {
           "axis": {
            "matches": true
           },
           "label": "FGA_Per_Game",
           "values": [
            20.02,
            18.71,
            16.04,
            18.54,
            20.36,
            20.56,
            18.74,
            19.9,
            18.05,
            18.76,
            13.98,
            17.52,
            8.15,
            14.64,
            17.57,
            18.56,
            20.13,
            18.56,
            14.34,
            10.8,
            16.51,
            20.24,
            15.47,
            19.61,
            16.8,
            15.4,
            18.52,
            15.11,
            16.37,
            17.28,
            15.21,
            17.25,
            15.13,
            15.21,
            11.34,
            20.18,
            16.93,
            11.23,
            18.67,
            12.24,
            16.74,
            11.95,
            12.08,
            12.78,
            11.32,
            15.02,
            17.19,
            17.07,
            12.7,
            12.45,
            12.45,
            14.71,
            10.97,
            9.7,
            13.95,
            12.27,
            10.09,
            10.32,
            15.25,
            10.41,
            15.34,
            14.65,
            14.69,
            14.21,
            13.53,
            6.35,
            10.67,
            6.97,
            12.69,
            10.19,
            9.59,
            11.07,
            12.6,
            11.3,
            13.03,
            8.54,
            13.72,
            9.28,
            8.29,
            13.5,
            11.59,
            9.62,
            12.33,
            10.45,
            14.25,
            17.27,
            10.49,
            13.43,
            8.59,
            12.95,
            12.99,
            7.76,
            15.1,
            14.15,
            13.41,
            11.46,
            11.17,
            5.55,
            10.65,
            10.55,
            10.71,
            12.65,
            9.76,
            4.95,
            10.38,
            11.1,
            13.12,
            11.53,
            7.24,
            8.71,
            8.17,
            7.16,
            7.94,
            8.02,
            17.92,
            9.74,
            8.29,
            7.81,
            7.66,
            7.03,
            7.47,
            9.75,
            4.74,
            11.16,
            4.87,
            9.02,
            8.11,
            8.47,
            6.39,
            7.48,
            6.46,
            6.67,
            10.58,
            6.06,
            6.67,
            15.58,
            4.47,
            10.9,
            16.51,
            8.52,
            4.03,
            7.74,
            5.84,
            7.85,
            6.02,
            16.34,
            8.18,
            6.09,
            6.92,
            3.84,
            9.94,
            5.58,
            7.14,
            9.63,
            9.58,
            6.67,
            16.17,
            7.69,
            8.68,
            6.14,
            7.01,
            5.67,
            5.14,
            12.67,
            6.05,
            11.29,
            4.28,
            7.03,
            7.46,
            6.4,
            12.01,
            5.62,
            3.96,
            6.44,
            9.78,
            6.31,
            4.9,
            12.9,
            4.4,
            6.57,
            6.21,
            7.68,
            6.19,
            10.65,
            2.88,
            5.96,
            13.28,
            4.8,
            4.22,
            8.78,
            9.82,
            4.75,
            6.2,
            12.19,
            5.48,
            6.43,
            16.52,
            11.3,
            8.53,
            9.16,
            13.75,
            9.1,
            8.84,
            7.04,
            8.1,
            7.09,
            6.93,
            4.88,
            4.74,
            5.93,
            6.99,
            9.72,
            12.23,
            3.53,
            5.54,
            4.22,
            5.56,
            12.06,
            13.16,
            6.5,
            9.86,
            7.09,
            7.19,
            8.01,
            8.05,
            6.11,
            6.39,
            7.95,
            3.1,
            7.63,
            3.8,
            5.82,
            11.1,
            6.26,
            4.64,
            4.4,
            5.1,
            6.94,
            5.14,
            10.59,
            11.43,
            6.76,
            6.94,
            6.53,
            11.92,
            5.48,
            5.94,
            4.24,
            3.57,
            10.04,
            9.45,
            6.54,
            5.6,
            10.08,
            4.74,
            4.81,
            3.57,
            5.84,
            7.72,
            5.31,
            12.57,
            15.41,
            8.35,
            7.28,
            7.4,
            9.36,
            4.24,
            9.01,
            8.05,
            5.39,
            6.39,
            4.01,
            7.64,
            1.89,
            2.71,
            10.82,
            10.08,
            8.57,
            9.26,
            2,
            6,
            6.88,
            7.65,
            4.28,
            3.8,
            3.95,
            8.42,
            4.2,
            5.59,
            5.31,
            6.33,
            4.22,
            4.13,
            6,
            11.24,
            5.29,
            4.67,
            3.14,
            2.23,
            2.99,
            8.6,
            2.58,
            6.3,
            5.64,
            6.35,
            5.81,
            6.01,
            6.18,
            1.48,
            2.26,
            3.67,
            7.15,
            4.6,
            5.21,
            4.68,
            5.14,
            3.55,
            3.52,
            5.16,
            4.11,
            9.46,
            2.57,
            7.73,
            2.73,
            2,
            4,
            6.03,
            4.54,
            8,
            5.88,
            8.59,
            4.07,
            4.14,
            4.58,
            6.75,
            4.53,
            3.95,
            4.8,
            4.53,
            7.17,
            13.66,
            6.01,
            6.51,
            2.75,
            2.16,
            6.58,
            2.21,
            8.06,
            11.96,
            5.4,
            6.23,
            6.34,
            3.39,
            6.45,
            4.88,
            5.94,
            4.9,
            8.72,
            6.8,
            4.66,
            5.64,
            2.68,
            3.61,
            5.22,
            5.12,
            4.41,
            3.89,
            5.36,
            5.15,
            3.49,
            3.57,
            4.78,
            4.64,
            2.88,
            2.33,
            4.84,
            7.58,
            6.4,
            4.75,
            4.21,
            3.78,
            3.15,
            1.73,
            5.56,
            3.49,
            3.57,
            6.22,
            4.8,
            5.32,
            3.11,
            2.5,
            6.12,
            5.83,
            6.81,
            2.87,
            2.87,
            3,
            3.43,
            2.31,
            1.67,
            6.94,
            2.8,
            2.59,
            3.54,
            2.4,
            3.88,
            2.59,
            4.39,
            10.91,
            3.62,
            4.36,
            1.12,
            1.15,
            1.24,
            2.89,
            3.76,
            2.35,
            6.29,
            1.34
           ]
          },
          {
           "axis": {
            "matches": true
           },
           "label": "FG3M_Per_Game",
           "values": [
            4.91,
            2.1,
            1.11,
            1.18,
            2.32,
            2.26,
            1,
            3.73,
            1.96,
            3.27,
            0.56,
            3.49,
            0,
            2.9,
            0.71,
            2.5,
            2.78,
            2.75,
            1.64,
            0.02,
            1.35,
            3.09,
            2,
            2.16,
            2.22,
            1.86,
            3.02,
            2.46,
            0.2,
            1.26,
            2.21,
            1.68,
            2.23,
            1.14,
            2.3,
            3.04,
            1.35,
            0.02,
            2.68,
            0.07,
            2.22,
            1.44,
            1.56,
            0.61,
            2.45,
            2.25,
            0.37,
            1.76,
            1.79,
            2.24,
            1.65,
            2.48,
            1.2,
            2.33,
            1.94,
            1.14,
            1.74,
            2.25,
            2.11,
            2.18,
            1.65,
            2.53,
            2.59,
            1.82,
            1.86,
            0.59,
            1.09,
            0.58,
            1.83,
            1.34,
            0,
            2.36,
            2.11,
            1.52,
            1.63,
            0.06,
            2.5,
            2.48,
            0,
            3.5,
            2.67,
            1.84,
            2.6,
            1.76,
            2.8,
            1.96,
            1.73,
            0.96,
            2.94,
            2.31,
            2.81,
            0.95,
            1.4,
            2.75,
            2.44,
            2.08,
            1.77,
            1.77,
            0.42,
            0.33,
            1.76,
            2.04,
            0.9,
            0,
            2.2,
            0.5,
            1.55,
            1.92,
            2.22,
            1.77,
            2.26,
            0.94,
            1.91,
            1.69,
            2.69,
            0.79,
            1.64,
            0.95,
            0.92,
            0,
            0.21,
            0.56,
            1.02,
            1.24,
            0,
            1.55,
            0.16,
            2.2,
            0.03,
            0.78,
            1.11,
            0.88,
            1.34,
            1.57,
            1.71,
            1.18,
            0,
            2.08,
            1.72,
            0.76,
            0.86,
            2.13,
            1.39,
            2.16,
            0,
            2.81,
            1.93,
            0.73,
            1.48,
            0.72,
            1.92,
            0.53,
            1.94,
            1.57,
            1.76,
            0.33,
            2.41,
            1.08,
            1.22,
            0.01,
            1,
            1.46,
            0.85,
            1.96,
            1.48,
            1.52,
            0.11,
            0.65,
            1.9,
            0.85,
            0.3,
            1.62,
            0.57,
            0.22,
            2.58,
            0.84,
            0.02,
            0.8,
            0.41,
            0.95,
            0.23,
            1.45,
            0.9,
            1.49,
            0.02,
            0.62,
            1.62,
            0.55,
            0.02,
            0.86,
            1.07,
            0.13,
            0.65,
            1.28,
            0.81,
            0.99,
            1.4,
            2.2,
            2.23,
            1.74,
            1.02,
            1.29,
            0.76,
            0.82,
            1.27,
            1.29,
            0.96,
            0.79,
            1.21,
            0.87,
            0.76,
            1.71,
            2.25,
            0.46,
            0.66,
            1.04,
            1.09,
            1.54,
            1.42,
            1.38,
            0.59,
            0.54,
            1.36,
            1.06,
            0.06,
            0.61,
            0.7,
            1.09,
            0.01,
            0.95,
            0,
            0,
            1.73,
            1.02,
            0.67,
            0.6,
            0.21,
            1.24,
            0.77,
            0.97,
            2.25,
            0.88,
            1.39,
            0.45,
            1.65,
            0.83,
            0,
            0.89,
            0.57,
            1.9,
            1.48,
            1.37,
            1.4,
            2.18,
            0.2,
            0.94,
            0.77,
            0,
            1.22,
            0.91,
            2.53,
            1.19,
            1.98,
            1.82,
            1.4,
            1.13,
            0.75,
            0.33,
            0.72,
            1.47,
            0,
            0.48,
            1.94,
            0.18,
            0.69,
            1.02,
            2.06,
            1.41,
            1.17,
            0.07,
            1.21,
            1.29,
            1.94,
            0.42,
            0.45,
            0.36,
            1.62,
            0.37,
            0.01,
            0.66,
            0.84,
            0.06,
            0.28,
            0.93,
            1.47,
            0.07,
            0.9,
            0.05,
            0.29,
            0.2,
            0.59,
            0.01,
            0.47,
            1.04,
            1.32,
            0.54,
            0.56,
            1.11,
            0.07,
            0.03,
            0.67,
            1.96,
            0.53,
            0.05,
            0.07,
            0.56,
            0.72,
            1.03,
            0.61,
            0.61,
            2.02,
            0.26,
            0.79,
            0.46,
            0.11,
            0.1,
            0.92,
            0.12,
            1.21,
            0.97,
            1.23,
            0.32,
            0.53,
            0.15,
            1.35,
            0.65,
            0.11,
            0.36,
            0.38,
            0.03,
            2.04,
            1.31,
            1.12,
            0.57,
            0.48,
            0.14,
            0.05,
            2.07,
            3.01,
            0.18,
            0.96,
            0.89,
            0.01,
            1.62,
            0.91,
            0.32,
            0.06,
            1.32,
            0.5,
            0.34,
            1.36,
            0,
            0.04,
            0.71,
            0.01,
            0.65,
            0.23,
            0.31,
            1.17,
            0.29,
            0.9,
            0.94,
            1.44,
            0.8,
            0.19,
            1.45,
            0.79,
            0.71,
            0.21,
            1.5,
            0.68,
            0.72,
            0,
            0.59,
            0.6,
            1.26,
            1.03,
            0.93,
            1.42,
            0.55,
            0.28,
            0.63,
            0.75,
            1,
            0.45,
            0,
            0.33,
            0.51,
            0.06,
            0.25,
            1.31,
            0,
            0.02,
            0.29,
            0.13,
            0.25,
            0.63,
            0.57,
            1.4,
            0.58,
            0.93,
            0.18,
            0.17,
            0.33,
            0.02,
            0.95,
            0,
            2.03,
            0.12
           ]
          },
          {
           "axis": {
            "matches": true
           },
           "label": "FG3A_Per_Game",
           "values": [
            11.86,
            5.16,
            3.26,
            3.47,
            6.7,
            6.5,
            3.47,
            9.88,
            5.07,
            8.41,
            2.01,
            8.46,
            0.03,
            7.88,
            2.43,
            7.13,
            8.22,
            7.08,
            4.23,
            0.11,
            3.97,
            7.93,
            5.37,
            6.14,
            5.57,
            5.32,
            7.73,
            7.07,
            0.59,
            3.94,
            5.71,
            4.52,
            5.86,
            3.3,
            5.51,
            8.21,
            4.2,
            0.16,
            7.25,
            0.26,
            6.14,
            3.89,
            4.28,
            1.87,
            6.77,
            5.85,
            1.23,
            5.16,
            4.72,
            6.61,
            4.69,
            6.49,
            3.12,
            5.89,
            5.87,
            3.2,
            4.95,
            5.65,
            5.64,
            5.64,
            4.8,
            7.41,
            7,
            5.37,
            4.81,
            2.08,
            3.23,
            1.71,
            4.72,
            3.78,
            0.01,
            6.48,
            5.82,
            4.27,
            4.5,
            0.23,
            6.18,
            5.49,
            0.01,
            9.04,
            6.8,
            5.39,
            6.73,
            4.68,
            7.35,
            5.28,
            5.12,
            2.88,
            7.37,
            5.53,
            7.44,
            2.86,
            3.69,
            7.26,
            6.56,
            5.16,
            4.58,
            4.81,
            1.52,
            1.08,
            4.8,
            5.7,
            2.58,
            0,
            5.71,
            1.41,
            4.45,
            5.77,
            4.72,
            4.57,
            6.11,
            2.59,
            5.19,
            4.1,
            7.62,
            2.38,
            4.29,
            2.63,
            2.67,
            0.03,
            0.71,
            2.03,
            2.69,
            3.66,
            0,
            4.4,
            0.6,
            6.19,
            0.09,
            2.33,
            3.06,
            2.64,
            3.42,
            4.01,
            4.5,
            3.96,
            0.02,
            5.68,
            5.58,
            2.7,
            2.28,
            5.61,
            3.84,
            5.35,
            0.02,
            7.46,
            5.23,
            1.91,
            4.35,
            2.14,
            4.76,
            1.54,
            5.08,
            4.16,
            4.91,
            1.23,
            7.08,
            2.61,
            3.1,
            0.08,
            2.85,
            3.77,
            2.29,
            5.87,
            4.12,
            4.95,
            0.33,
            1.87,
            4.81,
            2.58,
            1.31,
            3.97,
            1.41,
            0.63,
            6.26,
            2.29,
            0.09,
            2.76,
            1.41,
            2.83,
            0.77,
            3.91,
            2.76,
            4.31,
            0.15,
            1.8,
            4.73,
            1.73,
            0.13,
            3.12,
            3.94,
            0.57,
            2.19,
            3.97,
            2.49,
            2.74,
            4.29,
            5.49,
            5.75,
            4.93,
            3.44,
            3.52,
            2.47,
            2.39,
            3.54,
            3.47,
            3.11,
            2.35,
            3.03,
            2.47,
            2.15,
            4.65,
            5.51,
            1.46,
            2.06,
            2.86,
            3.14,
            4.47,
            3.97,
            3.87,
            2.39,
            1.66,
            4.21,
            3.34,
            0.28,
            2.5,
            2.29,
            3.63,
            0.02,
            2.61,
            0,
            0.03,
            4.93,
            3.42,
            2.51,
            1.64,
            0.68,
            3.58,
            2.43,
            2.73,
            6.23,
            2.58,
            3.58,
            1.4,
            3.98,
            2.76,
            0.03,
            2.46,
            1.5,
            5.17,
            4.25,
            3.86,
            3.5,
            5.12,
            0.69,
            2.64,
            2.13,
            0,
            3.39,
            2.72,
            5.95,
            3.84,
            5.49,
            4.66,
            3.6,
            3.51,
            2.04,
            1.18,
            2.1,
            3.73,
            0.07,
            1.45,
            4.84,
            0.71,
            2.03,
            2.7,
            5.51,
            4.17,
            3.86,
            0.31,
            3.67,
            3.29,
            4.82,
            1.35,
            1.26,
            1.27,
            4.27,
            1.22,
            0.04,
            2.28,
            2.46,
            0.28,
            0.82,
            3.03,
            3.85,
            0.3,
            2.73,
            0.21,
            0.8,
            0.42,
            1.88,
            0.09,
            1.17,
            2.94,
            3.4,
            1.41,
            2.01,
            3.15,
            0.59,
            0.23,
            1.79,
            5.09,
            2.33,
            0.18,
            0.24,
            1.58,
            1.83,
            2.71,
            2.58,
            1.78,
            5.46,
            0.61,
            2.48,
            1.28,
            0.28,
            0.22,
            2.88,
            0.43,
            3.66,
            2.82,
            3.51,
            1.23,
            1.91,
            0.45,
            4.01,
            1.97,
            0.38,
            1.22,
            1.27,
            0.19,
            6.12,
            3.76,
            3.01,
            1.77,
            1.3,
            0.66,
            0.38,
            5.69,
            8.18,
            0.58,
            2.61,
            2.38,
            0.01,
            4.63,
            2.64,
            0.9,
            0.22,
            3.78,
            1.85,
            1.19,
            3.84,
            0,
            0.19,
            1.87,
            0.05,
            2.01,
            0.8,
            0.93,
            3.22,
            1.07,
            2.67,
            2.31,
            3.98,
            2.15,
            0.61,
            3.76,
            2.33,
            2.48,
            0.75,
            3.58,
            2.05,
            2.21,
            0.01,
            1.86,
            1.82,
            3,
            3,
            2.73,
            3.76,
            1.94,
            1.44,
            1.92,
            2.17,
            3.1,
            1.47,
            0.19,
            1.27,
            1.36,
            0.42,
            0.75,
            3.25,
            0.1,
            0.21,
            1,
            0.4,
            0.71,
            1.51,
            1.74,
            4.21,
            1.96,
            2.48,
            0.53,
            0.46,
            0.67,
            0.08,
            2.57,
            0,
            5.08,
            0.51
           ]
          },
          {
           "axis": {
            "matches": true
           },
           "label": "FTM_Per_Game",
           "values": [
            4.6,
            6.5,
            4.34,
            8.86,
            4.41,
            5.25,
            7.2,
            6.82,
            5.46,
            4.6,
            7.11,
            1.69,
            3.77,
            2.9,
            5.87,
            6.73,
            6.05,
            4.66,
            2.47,
            2.63,
            4.11,
            4,
            2.28,
            5.66,
            5,
            4.61,
            2.13,
            6.66,
            5.79,
            4.83,
            2.67,
            4.71,
            2.73,
            5.23,
            1.43,
            4.34,
            4.5,
            3.7,
            4.67,
            1.98,
            3.12,
            2.59,
            2.79,
            3.99,
            2.99,
            3.23,
            5.93,
            4.67,
            3.46,
            3.03,
            3.18,
            2.24,
            2.24,
            1.67,
            2.12,
            2.66,
            1.7,
            2.07,
            2.35,
            1.44,
            3.48,
            2.19,
            2.11,
            2.11,
            2.75,
            1.14,
            2.29,
            1.24,
            2.73,
            2.37,
            1.66,
            0.66,
            3.25,
            2.33,
            2.69,
            2.94,
            3.55,
            0.81,
            1.41,
            1.33,
            1.64,
            1.84,
            1.44,
            1.42,
            2.03,
            1.65,
            2.5,
            1.84,
            0.76,
            3.88,
            2.32,
            1.32,
            3.55,
            2.69,
            3.07,
            1.89,
            3.74,
            0.86,
            1.64,
            3.09,
            1.47,
            2.41,
            1.54,
            1.17,
            0.81,
            2.55,
            2.22,
            2.46,
            0.67,
            1.49,
            0.72,
            0.78,
            0.65,
            0.88,
            3.36,
            2.42,
            1.27,
            2.06,
            1.44,
            1.5,
            1.46,
            1.61,
            0.86,
            2.88,
            1.47,
            2.25,
            1.47,
            1.61,
            1.68,
            1.81,
            2.62,
            1.75,
            1.17,
            0.64,
            0.75,
            5.47,
            0.79,
            1.37,
            2.34,
            1.67,
            0.42,
            0.67,
            0.84,
            0.87,
            1.97,
            2.71,
            1.12,
            1.17,
            0.68,
            0.29,
            2.86,
            0.86,
            1.04,
            0.85,
            1.57,
            1.36,
            3.86,
            1.24,
            0.99,
            1.35,
            1.82,
            0.55,
            1.12,
            2.13,
            0.5,
            2.05,
            0.95,
            1.26,
            1.29,
            1.48,
            2.51,
            0.44,
            0.4,
            0.55,
            0.78,
            1.22,
            1.51,
            2.3,
            0.92,
            2.05,
            0.6,
            1.01,
            1.99,
            1.82,
            0.36,
            1.17,
            3.59,
            0.82,
            0.84,
            0.97,
            2.1,
            1.14,
            1,
            4.82,
            0.75,
            1.09,
            4.24,
            3.79,
            0.98,
            1.29,
            1.25,
            1.1,
            1.58,
            0.76,
            0.94,
            1.02,
            1.2,
            0.86,
            0.24,
            0.42,
            1.61,
            1.19,
            2.03,
            0.44,
            0.7,
            0.38,
            0.95,
            2.77,
            2.89,
            0.96,
            1.45,
            1.31,
            0.71,
            0.52,
            2.5,
            0.5,
            1.35,
            0.63,
            1.31,
            1.43,
            0.96,
            2.01,
            1.25,
            0.61,
            0.38,
            0.67,
            1.14,
            0.88,
            0.72,
            2.07,
            2.43,
            1.26,
            1.25,
            1.17,
            2.32,
            0.94,
            1.43,
            0.95,
            0.68,
            2.4,
            1.5,
            0.95,
            0.39,
            1.15,
            1.94,
            0.4,
            0.57,
            1.56,
            0.9,
            0.59,
            1.79,
            3.28,
            1.65,
            0.85,
            0.58,
            2.37,
            1.01,
            2.52,
            1.33,
            0.79,
            1.33,
            1.02,
            1.54,
            0.37,
            0.2,
            1.71,
            2.18,
            0.84,
            0.88,
            0.33,
            0.67,
            0.88,
            0.82,
            1.13,
            0.53,
            0.59,
            1.2,
            0.49,
            1.11,
            1.67,
            0.96,
            0.66,
            1.01,
            0.59,
            2.94,
            1.57,
            0.52,
            0.53,
            0.34,
            0.95,
            1.14,
            0.79,
            1.53,
            0.44,
            1.2,
            0.7,
            0.93,
            0.73,
            0.14,
            0.4,
            0.39,
            0.78,
            1.2,
            1.09,
            1.31,
            1.16,
            0.51,
            0.13,
            0.32,
            0.51,
            1.54,
            0.48,
            1.92,
            0.47,
            0.33,
            0.74,
            1.17,
            1.73,
            1.78,
            1.6,
            0.65,
            0.91,
            0.65,
            1.03,
            0.79,
            0.76,
            1.03,
            0.83,
            0.86,
            2.52,
            2.53,
            0.99,
            0.86,
            0.43,
            0.14,
            1.93,
            0.44,
            1.12,
            0.78,
            0.92,
            1.38,
            1.19,
            0.58,
            0.36,
            0.43,
            0.24,
            0.79,
            1.2,
            1.15,
            0.77,
            0.81,
            0.97,
            1.07,
            0.84,
            1.15,
            0.54,
            0.51,
            1.3,
            0.69,
            0.45,
            0.29,
            0.78,
            1.36,
            0.2,
            0.81,
            0.76,
            1.4,
            1.62,
            0.75,
            0.11,
            0.32,
            0.31,
            0.26,
            0.83,
            0.19,
            0.11,
            0.82,
            0.69,
            0.62,
            0.35,
            0.22,
            1.21,
            1.01,
            0.88,
            0.44,
            0.71,
            0.2,
            0.63,
            0.17,
            0.5,
            1.35,
            0.4,
            0.64,
            0.61,
            0.53,
            0.67,
            0.34,
            1.3,
            2.17,
            0.24,
            0.77,
            0.12,
            0.11,
            0,
            0.71,
            0.19,
            0.55,
            0.29,
            0.22
           ]
          },
          {
           "axis": {
            "matches": true
           },
           "label": "FTA_Per_Game",
           "values": [
            5.01,
            7.15,
            5.24,
            10.69,
            6.18,
            6.21,
            10.53,
            7.51,
            6.26,
            5.36,
            8.35,
            1.99,
            5.84,
            3.32,
            7.44,
            7.68,
            8.18,
            5.57,
            2.89,
            4.45,
            5.25,
            4.4,
            2.95,
            6.45,
            6,
            5.36,
            2.89,
            7.62,
            8.38,
            6.42,
            3.06,
            5.71,
            3.14,
            6.19,
            1.79,
            5.13,
            6.1,
            4.88,
            5.49,
            2.62,
            4.21,
            3.09,
            3.18,
            5.4,
            3.51,
            3.64,
            6.88,
            6.16,
            4.32,
            3.45,
            4.03,
            2.55,
            2.76,
            1.97,
            2.91,
            3.33,
            2.06,
            2.5,
            3.46,
            1.68,
            4.9,
            2.61,
            2.54,
            2.62,
            3.13,
            1.58,
            3.47,
            1.65,
            3.11,
            3.11,
            2.9,
            1.14,
            4.05,
            2.92,
            3.58,
            4.14,
            4.1,
            1.06,
            2.55,
            1.56,
            2.14,
            2.31,
            1.76,
            1.87,
            2.46,
            2,
            2.9,
            2.34,
            0.88,
            4.72,
            2.86,
            1.67,
            4.3,
            3.3,
            3.56,
            2.29,
            4.51,
            0.98,
            2.2,
            4.32,
            2.06,
            3.33,
            2.07,
            2.21,
            1.05,
            3.21,
            2.97,
            3.13,
            0.74,
            1.75,
            0.88,
            0.95,
            0.89,
            1.09,
            4.37,
            3.35,
            1.5,
            2.73,
            2.02,
            3,
            2.08,
            2.45,
            1.12,
            3.37,
            2.16,
            2.71,
            2.17,
            2.02,
            2.18,
            2.25,
            3.06,
            2.24,
            1.53,
            0.81,
            0.92,
            7.42,
            1.21,
            1.61,
            2.78,
            2.17,
            0.56,
            0.79,
            1.05,
            1.12,
            2.64,
            3.27,
            1.39,
            1.49,
            0.79,
            0.43,
            3.38,
            1.26,
            1.23,
            1.06,
            1.85,
            1.62,
            4.89,
            1.59,
            1.19,
            2.49,
            2.3,
            0.71,
            1.49,
            2.84,
            0.67,
            2.61,
            1.43,
            1.79,
            1.5,
            1.98,
            3.76,
            0.5,
            0.61,
            0.69,
            1.01,
            1.48,
            2.04,
            3.05,
            1.19,
            2.56,
            1.05,
            1.3,
            2.41,
            2.25,
            0.55,
            1.56,
            4.81,
            1.25,
            1.37,
            1.21,
            2.79,
            1.6,
            1.56,
            5.82,
            0.98,
            1.44,
            5.63,
            4.18,
            1.13,
            1.78,
            1.72,
            1.33,
            2.23,
            1.02,
            1.31,
            1.2,
            1.63,
            1.19,
            0.3,
            0.8,
            2.39,
            1.46,
            2.38,
            0.68,
            0.83,
            0.55,
            1.15,
            3.22,
            3.4,
            1.25,
            2.07,
            1.82,
            0.89,
            0.75,
            2.94,
            0.96,
            1.77,
            0.91,
            1.78,
            1.72,
            1.81,
            3.37,
            1.44,
            0.78,
            0.59,
            0.98,
            1.74,
            1.25,
            0.94,
            2.55,
            2.87,
            1.57,
            1.52,
            1.93,
            2.7,
            1.26,
            2.34,
            1.26,
            1.04,
            2.79,
            1.82,
            1.17,
            0.44,
            1.3,
            2.61,
            0.51,
            0.77,
            2.26,
            1.23,
            0.78,
            2.02,
            4.98,
            1.93,
            0.99,
            0.65,
            2.77,
            1.27,
            3.54,
            1.77,
            0.97,
            2.45,
            1.39,
            1.71,
            0.55,
            0.26,
            1.94,
            2.68,
            1.08,
            1.06,
            0.51,
            0.85,
            1.11,
            1,
            1.47,
            0.84,
            0.92,
            1.38,
            0.69,
            2.15,
            2.23,
            1.25,
            1.03,
            1.42,
            0.93,
            4.25,
            2.36,
            0.71,
            0.84,
            0.55,
            1.32,
            1.45,
            1.15,
            2.04,
            0.6,
            1.35,
            1.19,
            1.25,
            0.88,
            0.17,
            0.52,
            0.57,
            1,
            1.27,
            1.62,
            1.79,
            1.54,
            0.75,
            0.19,
            0.58,
            0.68,
            1.82,
            0.87,
            2.25,
            0.55,
            0.44,
            1.2,
            1.61,
            2.41,
            2.03,
            2.23,
            0.83,
            1.4,
            1.07,
            1.37,
            1.03,
            1.07,
            1.61,
            1.12,
            1.13,
            3.54,
            3.43,
            1.34,
            1.22,
            0.54,
            0.21,
            2.65,
            0.82,
            1.44,
            0.97,
            1.36,
            1.65,
            1.43,
            1.15,
            0.47,
            0.53,
            0.39,
            1.18,
            1.5,
            1.62,
            1.09,
            1.02,
            1.93,
            1.43,
            0.98,
            2.1,
            0.69,
            0.77,
            1.76,
            0.93,
            0.72,
            0.35,
            1.1,
            1.61,
            0.24,
            1.05,
            0.92,
            2.08,
            2.09,
            1.23,
            0.16,
            0.41,
            0.41,
            0.48,
            1.08,
            0.45,
            0.11,
            1.04,
            0.91,
            0.75,
            0.52,
            0.44,
            1.51,
            1.3,
            1.16,
            0.66,
            1,
            0.2,
            0.7,
            0.36,
            0.5,
            1.65,
            1,
            1.02,
            0.8,
            0.53,
            1.12,
            0.39,
            1.74,
            2.91,
            0.28,
            0.9,
            0.18,
            0.2,
            0,
            1.01,
            0.19,
            0.95,
            0.37,
            0.34
           ]
          },
          {
           "axis": {
            "matches": true
           },
           "label": "OREB_Per_Game",
           "values": [
            0.59,
            0.41,
            2.64,
            2.24,
            1.01,
            1.01,
            2.05,
            0.63,
            1.09,
            0.87,
            1.9,
            0.52,
            3.51,
            0.48,
            2.72,
            0.68,
            0.99,
            0.56,
            0.93,
            1.78,
            1.62,
            0.92,
            1.16,
            0.6,
            2.77,
            1.9,
            0.78,
            0.79,
            2.54,
            1,
            0.47,
            0.67,
            0.84,
            0.7,
            1.23,
            0.84,
            0.55,
            2.3,
            0.97,
            3.03,
            1.02,
            0.8,
            0.42,
            3.03,
            0.64,
            0.71,
            0.64,
            1.86,
            0.86,
            0.34,
            1.39,
            0.41,
            0.46,
            0.68,
            1.05,
            2.15,
            1.2,
            0.58,
            1.25,
            0.32,
            0.9,
            0.85,
            0.68,
            0.78,
            0.88,
            0.86,
            1.82,
            1.1,
            0.96,
            1.4,
            4.22,
            1.04,
            0.45,
            0.65,
            1.07,
            3.22,
            0.6,
            0.62,
            3.39,
            0.73,
            0.3,
            0.7,
            0.47,
            1.23,
            0.44,
            2.01,
            0.53,
            1.04,
            0.18,
            0.43,
            0.35,
            1.28,
            0.85,
            0.45,
            1.28,
            0.63,
            1.02,
            0.24,
            0.82,
            2.81,
            1.18,
            0.82,
            0.8,
            3.59,
            0.59,
            3.08,
            0.74,
            1.07,
            0.26,
            0.51,
            0.42,
            0.28,
            1.65,
            0.44,
            0.75,
            2.3,
            0.53,
            1.68,
            1.19,
            4.31,
            1.76,
            2.27,
            0.9,
            0.46,
            1.96,
            1.25,
            1.56,
            0.35,
            1.94,
            1.35,
            0.62,
            1.88,
            1.97,
            0.79,
            0.81,
            1.17,
            2.59,
            0.33,
            0.92,
            0.54,
            1.19,
            0.4,
            1.2,
            0.37,
            2.71,
            1.31,
            1.09,
            0.91,
            0.3,
            0.56,
            0.55,
            1.58,
            0.21,
            1.47,
            0.39,
            0.53,
            0.53,
            0.95,
            0.36,
            1.98,
            0.55,
            0.68,
            0.56,
            0.37,
            0.86,
            1.54,
            1.88,
            0.92,
            0.47,
            0.91,
            2.23,
            0.28,
            0.98,
            0.58,
            1.11,
            0.94,
            2.21,
            2.48,
            1.48,
            1.03,
            1.77,
            0.74,
            0.84,
            1.12,
            1.4,
            1.39,
            0.99,
            1.01,
            2.53,
            0.42,
            0.8,
            2.29,
            1.22,
            1.12,
            0.62,
            0.99,
            0.56,
            0.56,
            0.27,
            0.5,
            1.89,
            0.32,
            1.72,
            0.46,
            0.79,
            1.17,
            0.7,
            0.77,
            0.29,
            1.43,
            0.91,
            0.44,
            0.72,
            0.61,
            0.25,
            0.54,
            0.61,
            0.68,
            0.97,
            0.28,
            1.7,
            2.65,
            0.81,
            0.32,
            0.37,
            0.36,
            1.72,
            1.06,
            1.39,
            0.5,
            1.81,
            2.71,
            0.41,
            0.42,
            0.49,
            0.81,
            2.29,
            0.37,
            0.46,
            1.12,
            1.13,
            0.79,
            0.39,
            1.69,
            0.31,
            0.63,
            3.42,
            0.32,
            0.99,
            0.51,
            0.59,
            0.73,
            0.49,
            0.26,
            1.85,
            0.67,
            0.39,
            2.16,
            1.04,
            0.24,
            0.59,
            1.37,
            1,
            0.57,
            0.51,
            0.49,
            0.31,
            2.59,
            2.38,
            0.56,
            2.93,
            1.1,
            0.75,
            0.32,
            0.54,
            0.45,
            0.25,
            0.41,
            0.42,
            0.6,
            0.6,
            0.69,
            0.59,
            0.36,
            0.63,
            0.58,
            0.64,
            0.47,
            3.12,
            1.04,
            0.52,
            1.43,
            1.26,
            0.71,
            1.52,
            1.75,
            0.73,
            1.67,
            1.42,
            1.09,
            0.44,
            1.17,
            1.39,
            1.3,
            0.47,
            0.32,
            0.52,
            0.27,
            0.14,
            1.13,
            0.99,
            0.62,
            0.6,
            1.66,
            1.7,
            0.8,
            0.53,
            0.03,
            0.06,
            0.35,
            0.3,
            0.35,
            0.19,
            0.37,
            0.39,
            2.25,
            1.08,
            1.42,
            0.47,
            1.21,
            0.47,
            1.53,
            0.4,
            1.81,
            0.44,
            1.38,
            1.2,
            0.63,
            0.64,
            1.95,
            1.2,
            0.78,
            1.58,
            0.49,
            0.05,
            2.36,
            0.74,
            0.62,
            0.45,
            1.51,
            1.1,
            0.47,
            1.74,
            0.23,
            0.61,
            0.35,
            0.99,
            0.26,
            0.52,
            0.74,
            0.47,
            1.37,
            1.17,
            0.35,
            2.43,
            0.25,
            1.57,
            0.9,
            0.39,
            0.52,
            0.67,
            0.9,
            0.3,
            0.17,
            0.67,
            0.23,
            1.35,
            0.62,
            1.51,
            0.38,
            0.75,
            0.69,
            1.72,
            0.89,
            0.86,
            0.17,
            1.59,
            0.53,
            0.61,
            0.16,
            0.28,
            0.33,
            0.99,
            0.46,
            0.46,
            1.55,
            0.13,
            0.25,
            0.25,
            0.25,
            0.23,
            1.6,
            1.45,
            0.86,
            0.33,
            0.79,
            0.17,
            0.43,
            0.69,
            0.53,
            0.24,
            0.35,
            0.43,
            0.12,
            1.71,
            0.52,
            0.95,
            0.61,
            0.34
           ]
          },
          {
           "axis": {
            "matches": true
           },
           "label": "DREB_Per_Game",
           "values": [
            4.92,
            6.54,
            8.75,
            9.32,
            7.09,
            3.56,
            10.06,
            3.82,
            5.69,
            5.95,
            4.35,
            3.34,
            9.69,
            3.34,
            7.81,
            3.01,
            7.57,
            4.14,
            5.82,
            6.05,
            5.93,
            3.97,
            3.63,
            3.83,
            7.89,
            6.42,
            3.5,
            6.33,
            4.42,
            3.81,
            2.13,
            4.83,
            3.12,
            3.85,
            4.67,
            3.43,
            3.3,
            6.74,
            6.46,
            7.37,
            4.84,
            4.32,
            4.11,
            9.12,
            4.09,
            4.99,
            4.5,
            7.84,
            3.55,
            2.27,
            4.13,
            4.47,
            2.69,
            3.33,
            5.32,
            6,
            4.05,
            2.37,
            3.57,
            1.95,
            4.52,
            2.67,
            3.52,
            2.33,
            3.84,
            6.21,
            4.16,
            3.15,
            3.36,
            5.59,
            8.38,
            4.7,
            3.19,
            3.51,
            4.49,
            6.9,
            3.45,
            2.88,
            5.46,
            3.87,
            2.39,
            2.7,
            3.04,
            3.51,
            2.21,
            9.32,
            2.91,
            5.33,
            2.57,
            2.65,
            3.08,
            4.06,
            2.04,
            2.59,
            5.74,
            3.75,
            4.14,
            1.88,
            2.66,
            7.2,
            4.32,
            3.47,
            3.81,
            4.28,
            2.87,
            7.8,
            3.03,
            2.81,
            2.55,
            2.26,
            2.24,
            1.84,
            3.25,
            1.87,
            4.35,
            6.64,
            1.49,
            5.96,
            3.22,
            5.42,
            3.84,
            4.71,
            2.55,
            2.68,
            3.09,
            5.1,
            4.33,
            1.7,
            4.13,
            2.57,
            2.46,
            3.52,
            5.78,
            3.73,
            4.63,
            5.74,
            4.33,
            3.04,
            4.71,
            2.42,
            3.17,
            2.9,
            3.82,
            3.2,
            5.26,
            5.07,
            3.62,
            2.78,
            1.4,
            1.48,
            3.76,
            4.07,
            1.53,
            5.39,
            2.25,
            1.89,
            3.03,
            3.31,
            2.18,
            4.94,
            2.57,
            4.39,
            2.2,
            3.37,
            3.56,
            5.66,
            3.2,
            4.34,
            2.29,
            1.91,
            6.43,
            1.94,
            2.19,
            2.38,
            3.52,
            2.77,
            3.53,
            4.6,
            1.92,
            3.6,
            2.68,
            2.96,
            3.02,
            4.52,
            1.72,
            3.38,
            2.91,
            2.52,
            4.12,
            2.56,
            2.49,
            2.68,
            3.41,
            2.96,
            2.33,
            2.74,
            3.05,
            4.51,
            1.53,
            2.74,
            5.95,
            2.27,
            3.37,
            2.31,
            2.16,
            4.23,
            4.84,
            2.42,
            1.59,
            3.15,
            2.49,
            3.23,
            3.01,
            2.58,
            1.14,
            2.6,
            2.27,
            4.3,
            3.34,
            1.89,
            3.57,
            5.15,
            3.58,
            1.43,
            0.93,
            1.96,
            3.59,
            3.86,
            2.47,
            1.88,
            3.11,
            5.94,
            2.29,
            1.68,
            2.21,
            1.72,
            5.04,
            1.76,
            1.45,
            3.37,
            3.72,
            3.14,
            2.49,
            3.65,
            2.35,
            1.7,
            5.46,
            1.94,
            1.58,
            2.72,
            2.78,
            1.32,
            1.57,
            2.32,
            2.92,
            2.76,
            1.22,
            4.91,
            2.89,
            1.53,
            3.54,
            6.16,
            5.82,
            2.19,
            1.61,
            3.17,
            1.4,
            4.7,
            3.67,
            2.71,
            6.07,
            1.85,
            2.28,
            0.66,
            1.26,
            2.02,
            1.73,
            2.16,
            2.32,
            1.4,
            1.06,
            2.74,
            2.94,
            1.5,
            1.75,
            2.77,
            2.11,
            1.88,
            5.26,
            2.01,
            1.29,
            3.45,
            3.39,
            2.04,
            6.38,
            2.61,
            1.48,
            2.72,
            2.52,
            2.25,
            3.42,
            1.88,
            4.07,
            3,
            2.85,
            1.89,
            1.34,
            1.59,
            0.48,
            1.44,
            2.96,
            2.14,
            1.47,
            3.53,
            3.49,
            2.47,
            1.94,
            1.26,
            1.39,
            1.33,
            2.23,
            1.26,
            1.87,
            1.32,
            0.5,
            2.25,
            3.12,
            2.57,
            1.71,
            2.96,
            2.19,
            1.99,
            2.12,
            2.86,
            2.31,
            2.18,
            2.64,
            3.17,
            2.78,
            3.46,
            3.99,
            2.94,
            4.4,
            1.85,
            1.06,
            4.05,
            1.05,
            4.56,
            2.99,
            1.65,
            3.3,
            1.89,
            4.28,
            1.57,
            2.45,
            1.88,
            2.84,
            2.02,
            2.15,
            2.15,
            1.63,
            2.32,
            2.28,
            1.25,
            3.61,
            1.34,
            1.23,
            3.07,
            1.35,
            1.26,
            1.27,
            4.02,
            1.49,
            0.95,
            1.16,
            1.35,
            3.46,
            2.85,
            2.68,
            1.82,
            1.7,
            1.15,
            2.7,
            2.33,
            1.95,
            1.11,
            3.35,
            2.03,
            2.21,
            0.72,
            1.06,
            1.6,
            2.24,
            1.63,
            1.45,
            2.52,
            1.47,
            0.93,
            0.81,
            0.75,
            1.62,
            2.2,
            1.5,
            1.48,
            1.33,
            1.33,
            1.66,
            1.59,
            3.34,
            1.55,
            1.35,
            0.65,
            0.78,
            1,
            3.5,
            1.24,
            1.15,
            2.3,
            0.41
           ]
          },
          {
           "axis": {
            "matches": true
           },
           "label": "AST_Per_Game",
           "values": [
            5.89,
            5.52,
            8.02,
            3.63,
            7.96,
            5.52,
            5.77,
            7.41,
            4.23,
            4.69,
            5.87,
            2.37,
            1.43,
            6.32,
            3.19,
            9.31,
            7.97,
            4.46,
            3.08,
            7.52,
            4.42,
            5.68,
            6.96,
            5.59,
            3.95,
            2.29,
            5.21,
            10.38,
            3.59,
            7.38,
            6.72,
            4.65,
            4.73,
            4.54,
            1.06,
            4.65,
            6.62,
            3.81,
            3.68,
            1.63,
            2.72,
            3.82,
            8.67,
            6.17,
            7.28,
            4.86,
            5.7,
            4.31,
            1.84,
            3.41,
            1.12,
            3.5,
            4.22,
            1.62,
            2.6,
            1.52,
            1.14,
            6.19,
            2.6,
            2.47,
            2.84,
            2.75,
            4.12,
            2.28,
            4.96,
            7.21,
            2.93,
            2.41,
            2.76,
            1.28,
            1.11,
            6.2,
            6.12,
            1.54,
            2.13,
            1.67,
            2.03,
            1.89,
            2.55,
            3,
            2.59,
            5.26,
            3.3,
            1.72,
            1.62,
            3.52,
            4.4,
            5.45,
            1.46,
            1.97,
            2.02,
            1.03,
            3.23,
            6.34,
            1.42,
            1.56,
            2.18,
            0.62,
            5.15,
            3.09,
            2.33,
            5.04,
            1.09,
            0.63,
            3.13,
            1.91,
            4.23,
            1.68,
            1.72,
            1.82,
            1.52,
            4.53,
            1.66,
            1.18,
            3.75,
            2.25,
            1.73,
            3.9,
            1.04,
            2.3,
            1.41,
            0.83,
            1.18,
            4.85,
            0.81,
            3.1,
            0.67,
            3.62,
            0.99,
            2.28,
            2.6,
            0.47,
            1.31,
            2.27,
            1.38,
            3.74,
            1.43,
            3.28,
            5.63,
            3.02,
            1.32,
            1.55,
            1.19,
            4.71,
            1.2,
            7.33,
            3.11,
            2.04,
            2.31,
            0.89,
            2.63,
            2.02,
            1.65,
            3.62,
            2.58,
            4.14,
            3.2,
            1.26,
            4.01,
            1.36,
            1.31,
            2.54,
            2.82,
            3.92,
            1.45,
            1.28,
            1.54,
            3.34,
            1.7,
            1.6,
            2.69,
            0.9,
            1,
            5.02,
            1.23,
            3.71,
            0.85,
            4.15,
            0.92,
            1.04,
            2.54,
            2.75,
            1.34,
            2.25,
            0.41,
            1.55,
            5.23,
            2.08,
            1.95,
            5.27,
            3.6,
            1.15,
            0.93,
            1.49,
            0.86,
            1.34,
            8.69,
            1.92,
            2.27,
            2.25,
            6.26,
            4.44,
            2.7,
            2.94,
            1.18,
            1.67,
            2.08,
            0.78,
            1.68,
            2,
            1.38,
            1.92,
            8.02,
            2.27,
            1.9,
            0.97,
            0.84,
            4.63,
            3.23,
            1.3,
            2.54,
            1.12,
            1.8,
            3.21,
            4.19,
            1,
            0.6,
            2.09,
            0.4,
            2.73,
            0.9,
            3.2,
            3.71,
            1.01,
            1.18,
            1.27,
            1.83,
            2.03,
            1.03,
            3.31,
            1.84,
            1.42,
            1.48,
            0.85,
            3.33,
            1.83,
            1.12,
            0.94,
            0.33,
            3.05,
            1.76,
            1.14,
            1.75,
            2.9,
            1.2,
            1.04,
            0.64,
            0.42,
            1.41,
            1.92,
            2.87,
            8.36,
            2.04,
            1.14,
            1.01,
            6.56,
            1.18,
            3.24,
            1.07,
            0.74,
            1.51,
            0.61,
            1.06,
            0.58,
            0.6,
            3.71,
            2.66,
            1.66,
            1.92,
            0.28,
            0.81,
            1.12,
            0.59,
            1.72,
            0.78,
            0.93,
            2.37,
            0.39,
            0.93,
            1.21,
            1.85,
            0.78,
            0.7,
            0.84,
            1.63,
            0.62,
            0.67,
            0.95,
            0.82,
            0.68,
            4.78,
            0.64,
            0.65,
            1.25,
            1.39,
            2.65,
            1.62,
            2.6,
            0.62,
            0.72,
            1.35,
            1.66,
            0.67,
            0.52,
            1.15,
            0.93,
            0.68,
            0.35,
            1.52,
            3.47,
            2.96,
            0.48,
            1.26,
            0.88,
            0.44,
            0.68,
            1.08,
            0.7,
            1.26,
            0.82,
            4.55,
            0.99,
            0.84,
            0.86,
            1.74,
            1.15,
            0.8,
            0.71,
            0.72,
            1.48,
            1.2,
            3.2,
            0.99,
            0.81,
            1.13,
            1.56,
            0.6,
            2.09,
            1.63,
            0.92,
            1.46,
            3.48,
            0.88,
            1.27,
            1.07,
            3.5,
            1.23,
            1.49,
            3.99,
            0.62,
            1.17,
            0.08,
            0.38,
            2.03,
            0.8,
            1.84,
            0.64,
            1.92,
            1.33,
            1.42,
            0.59,
            1.55,
            0.6,
            0.73,
            0.56,
            0.85,
            1.32,
            2.07,
            1.35,
            0.76,
            0.64,
            0.65,
            0.49,
            2.62,
            0.65,
            0.63,
            1,
            0.49,
            0.87,
            1.09,
            0.44,
            0.97,
            1.23,
            2.94,
            0.54,
            0.81,
            1.47,
            1.45,
            1.61,
            0.5,
            1.35,
            0.6,
            0.53,
            0.61,
            0.33,
            0.83,
            0.51,
            1.17,
            4.72,
            0.67,
            1.01,
            0.24,
            0.31,
            0.3,
            0.72,
            0.62,
            0.35,
            1.27,
            0.63
           ]
          },
          {
           "axis": {
            "matches": true
           },
           "label": "STL_Per_Game",
           "values": [
            1.21,
            0.77,
            1.32,
            0.95,
            1.15,
            1.18,
            1.07,
            0.96,
            1.65,
            1.69,
            1.85,
            0.82,
            0.72,
            1.57,
            1.33,
            0.97,
            1.12,
            0.94,
            0.78,
            1.63,
            1.04,
            1.23,
            1.53,
            0.89,
            0.87,
            0.72,
            1.03,
            1.23,
            0.92,
            1,
            1.13,
            0.72,
            1.05,
            1.24,
            0.61,
            1.28,
            1.38,
            1.13,
            1.13,
            0.68,
            1.09,
            0.9,
            1.66,
            0.98,
            1.19,
            1,
            1.02,
            0.75,
            0.77,
            0.69,
            0.91,
            0.68,
            0.64,
            0.92,
            0.55,
            0.56,
            0.59,
            1.21,
            0.99,
            0.43,
            0.67,
            0.74,
            1.1,
            0.96,
            0.74,
            1.35,
            0.67,
            0.93,
            1.11,
            0.73,
            0.72,
            1.55,
            0.79,
            0.65,
            0.71,
            0.65,
            0.63,
            0.55,
            0.8,
            0.96,
            0.99,
            1.65,
            1.01,
            1.38,
            1.34,
            0.88,
            0.78,
            1.57,
            0.49,
            0.94,
            0.67,
            1.08,
            0.78,
            0.99,
            0.69,
            0.63,
            0.68,
            0.36,
            1.25,
            1,
            0.93,
            1.1,
            0.47,
            0.88,
            0.95,
            0.44,
            0.93,
            0.92,
            0.51,
            1.04,
            0.43,
            0.99,
            0.92,
            0.23,
            1.4,
            0.6,
            0.86,
            1.15,
            0.55,
            1.01,
            0.7,
            0.46,
            0.49,
            0.88,
            0.45,
            1,
            0.19,
            0.75,
            0.54,
            1.62,
            0.5,
            0.52,
            0.6,
            0.89,
            1.33,
            0.83,
            0.73,
            0.63,
            1.16,
            0.87,
            0.7,
            0.69,
            0.44,
            0.85,
            0.33,
            1.52,
            1.19,
            0.51,
            0.77,
            1.41,
            0.87,
            1.06,
            0.47,
            0.73,
            0.59,
            0.8,
            0.72,
            0.85,
            0.77,
            0.66,
            0.44,
            0.85,
            1.28,
            1.3,
            0.63,
            0.54,
            0.58,
            1.09,
            0.64,
            0.83,
            0.78,
            0.32,
            1.17,
            1.17,
            0.76,
            1.53,
            0.62,
            1.08,
            0.21,
            0.37,
            1.04,
            1.39,
            0.5,
            0.73,
            0.67,
            0.4,
            0.82,
            0.94,
            0.56,
            1.24,
            1.25,
            0.63,
            0.41,
            0.62,
            0.32,
            0.88,
            1.48,
            0.6,
            0.62,
            0.74,
            0.83,
            0.67,
            0.99,
            0.78,
            0.48,
            0.87,
            0.74,
            0.33,
            0.52,
            0.85,
            0.53,
            0.95,
            1.63,
            0.73,
            0.57,
            0.55,
            0.53,
            0.66,
            0.91,
            0.58,
            0.77,
            0.43,
            1.15,
            0.64,
            0.63,
            0.36,
            0.26,
            0.56,
            0.15,
            0.47,
            0.25,
            0.68,
            0.68,
            0.49,
            0.36,
            0.62,
            1.12,
            0.6,
            0.32,
            1.37,
            0.87,
            0.84,
            0.64,
            0.47,
            0.66,
            0.39,
            0.66,
            0.4,
            0.3,
            0.74,
            0.8,
            0.27,
            0.41,
            0.76,
            0.6,
            0.55,
            0.22,
            0.65,
            0.76,
            0.55,
            0.94,
            1.09,
            0.33,
            0.44,
            0.58,
            1.34,
            0.33,
            0.88,
            1.17,
            0.27,
            1.01,
            0.5,
            0.79,
            0.29,
            0.34,
            0.83,
            0.58,
            0.69,
            0.5,
            0.27,
            0.29,
            0.42,
            0.35,
            0.37,
            0.54,
            0.45,
            0.99,
            0.28,
            0.35,
            0.92,
            0.66,
            0.29,
            0.32,
            0.41,
            0.61,
            0.57,
            0.4,
            0.36,
            0.55,
            0.28,
            1.6,
            0.12,
            0.27,
            0.6,
            0.62,
            0.68,
            0.71,
            0.56,
            0.28,
            0.17,
            0.77,
            0.67,
            0.47,
            0.26,
            0.44,
            0.52,
            0.4,
            0.19,
            0.48,
            0.94,
            0.66,
            0.09,
            0.43,
            0.28,
            0.39,
            0.31,
            0.47,
            0.43,
            0.97,
            0.58,
            0.93,
            0.36,
            0.33,
            0.53,
            0.77,
            0.29,
            0.3,
            0.29,
            0.46,
            0.45,
            1.14,
            0.97,
            0.36,
            0.4,
            0.21,
            0.59,
            0.29,
            1.08,
            0.73,
            0.14,
            0.47,
            0.78,
            0.28,
            0.57,
            0.31,
            0.62,
            0.43,
            0.54,
            1.21,
            0.46,
            0.56,
            0.13,
            0.16,
            0.65,
            0.42,
            0.61,
            0.21,
            0.52,
            0.53,
            0.43,
            0.24,
            0.57,
            0.57,
            0.29,
            0.17,
            0.44,
            0.51,
            0.69,
            0.87,
            0.28,
            0.48,
            0.55,
            0.28,
            0.91,
            0.5,
            0.17,
            0.58,
            0.33,
            0.58,
            0.49,
            0.28,
            0.48,
            0.57,
            1.2,
            0.29,
            0.39,
            0.67,
            0.4,
            0.33,
            0.08,
            0.35,
            0.6,
            0.36,
            0.18,
            0.27,
            0.21,
            0.22,
            0.33,
            1.13,
            0.44,
            0.25,
            0.18,
            0.09,
            0,
            1.07,
            0.29,
            0.05,
            1.07,
            0.29
           ]
          },
          {
           "axis": {
            "matches": true
           },
           "label": "BLK_Per_Game",
           "values": [
            0.3,
            1.26,
            0.7,
            1.56,
            0.67,
            0.52,
            1.2,
            0.34,
            0.5,
            0.42,
            0.45,
            0.51,
            2.09,
            0.48,
            2.16,
            0.14,
            0.44,
            0.38,
            0.59,
            0.7,
            0.66,
            0.71,
            0.6,
            0.28,
            1.22,
            1.55,
            0.42,
            0.56,
            0.56,
            0.28,
            0.1,
            0.55,
            0.31,
            0.73,
            0.59,
            0.3,
            0.45,
            0.94,
            0.68,
            0.99,
            0.4,
            0.35,
            0.28,
            0.48,
            0.38,
            0.15,
            0.37,
            0.41,
            1.01,
            0.24,
            2.09,
            0.21,
            0.08,
            0.29,
            0.54,
            1.02,
            2.11,
            0.23,
            0.86,
            0.14,
            0.25,
            0.2,
            0.28,
            0.31,
            0.25,
            0.91,
            0.67,
            0.56,
            0.69,
            2.61,
            1.54,
            0.64,
            0.27,
            0.33,
            0.23,
            1.36,
            0.06,
            0.21,
            1.47,
            0.34,
            0.32,
            0.38,
            0.26,
            0.59,
            0.21,
            0.76,
            0.85,
            0.27,
            0.19,
            0.35,
            0.13,
            1.43,
            0.11,
            0.39,
            0.5,
            0.35,
            0.17,
            0.21,
            0.28,
            1.05,
            1.01,
            0.31,
            0.3,
            1.96,
            0.34,
            0.85,
            0.38,
            0.3,
            0.1,
            0.31,
            0.16,
            0.07,
            0.5,
            0.09,
            0.63,
            0.7,
            0.23,
            0.27,
            0.91,
            0.9,
            0.86,
            0.48,
            0.51,
            0.15,
            1.35,
            0.56,
            0.7,
            0.18,
            1.08,
            0.71,
            0.31,
            1.09,
            0.4,
            0.58,
            1.15,
            0.54,
            1.67,
            0.14,
            0.66,
            0.41,
            0.28,
            0.16,
            0.98,
            0.17,
            1,
            0.36,
            0.18,
            0.23,
            0.1,
            0.75,
            0.26,
            0.49,
            0.15,
            1.11,
            0.27,
            0.09,
            0.25,
            0.74,
            0.18,
            1.69,
            0.36,
            0.45,
            0.4,
            0.33,
            0.33,
            0.94,
            0.9,
            0.75,
            0.18,
            0.36,
            1.58,
            0.13,
            0.26,
            0.22,
            0.52,
            0.38,
            1.12,
            0.77,
            0.36,
            0.39,
            0.36,
            0.49,
            0.27,
            0.74,
            0.59,
            0.71,
            0.23,
            0.3,
            0.56,
            0.43,
            0.46,
            0.63,
            0.69,
            0.17,
            0.3,
            0.4,
            0.74,
            0.22,
            0.12,
            0.17,
            0.39,
            0.24,
            0.47,
            0.35,
            0.3,
            0.29,
            0.42,
            0.43,
            0.24,
            0.32,
            0.39,
            0.44,
            0.56,
            0.19,
            0.13,
            0.31,
            0.28,
            0.38,
            0.32,
            0.14,
            0.41,
            1.05,
            0.53,
            0.25,
            0.06,
            0.29,
            0.74,
            0.88,
            0.69,
            0.25,
            1.03,
            0.68,
            0.12,
            0.18,
            0.18,
            0.13,
            0.46,
            0.36,
            0.09,
            0.47,
            0.18,
            0.42,
            0.41,
            0.52,
            0.27,
            0.46,
            0.88,
            0.31,
            0.29,
            0.13,
            0.19,
            0.25,
            0.09,
            0.17,
            0.5,
            0.16,
            0.15,
            1.05,
            0.9,
            0.1,
            0.33,
            0.38,
            0.2,
            0.21,
            0.17,
            0.14,
            0.12,
            0.94,
            0.57,
            0.42,
            0.81,
            0.67,
            0.35,
            0.13,
            0.11,
            0.36,
            0.36,
            0.18,
            0.11,
            0.48,
            0.15,
            0.25,
            0.29,
            0.19,
            0.22,
            0.39,
            0.35,
            0.27,
            2.34,
            0.42,
            0.26,
            0.34,
            0.54,
            0.27,
            0.95,
            1.46,
            0.13,
            0.86,
            0.4,
            0.62,
            0.39,
            0.73,
            0.57,
            0.56,
            0.1,
            0.14,
            0.2,
            0.12,
            0.17,
            0.53,
            0.29,
            0.32,
            0.13,
            0.96,
            0.84,
            0.32,
            0.3,
            0.13,
            0.06,
            0.13,
            0.28,
            0.48,
            0.12,
            0.15,
            0.28,
            0.59,
            0.53,
            0.69,
            0.33,
            0.37,
            0.17,
            0.9,
            0.28,
            0.61,
            0.43,
            0.26,
            0.85,
            0.84,
            0.38,
            0.6,
            0.57,
            0.71,
            1.22,
            0.18,
            0,
            0.47,
            0.16,
            0.41,
            0.13,
            0.68,
            0.15,
            0.25,
            0.82,
            0.43,
            0.2,
            0.3,
            0.37,
            0.26,
            0.47,
            0.3,
            0.22,
            0.39,
            0.23,
            0.17,
            0.45,
            0.2,
            0.21,
            0.36,
            0.12,
            0.24,
            0.14,
            0.24,
            0.17,
            0.02,
            0.21,
            0.09,
            0.54,
            0.2,
            0.45,
            0.22,
            0.3,
            0.27,
            0.54,
            0.41,
            0.26,
            0,
            0.28,
            0.17,
            0.49,
            0.09,
            0.11,
            0.18,
            0.21,
            0.15,
            0.33,
            0.39,
            0.27,
            0.04,
            0.14,
            0.08,
            0.15,
            0.4,
            0.98,
            0.23,
            0.4,
            0.08,
            0.17,
            0.13,
            0.37,
            0.27,
            0.08,
            0.12,
            0.06,
            0,
            1.56,
            0.19,
            0.5,
            0.65,
            0.05
           ]
          },
          {
           "axis": {
            "matches": true
           },
           "label": "TOV_Per_Game",
           "values": [
            3.14,
            3.39,
            3.33,
            3.28,
            3.6,
            3.06,
            3.59,
            2.94,
            2.08,
            3.05,
            1.96,
            1.63,
            1.74,
            2,
            2.18,
            4.14,
            3.99,
            3.04,
            1.56,
            3.22,
            2.33,
            2.26,
            2.81,
            3.24,
            3.1,
            1.67,
            2.04,
            4.07,
            2.85,
            3.33,
            3.05,
            2.8,
            2.16,
            2.34,
            1.1,
            2.78,
            2.82,
            2.38,
            2.45,
            1.72,
            2.35,
            1.77,
            2.29,
            3.14,
            2.64,
            2.45,
            2.29,
            3.09,
            1.4,
            2.12,
            1.68,
            2.15,
            1.45,
            0.77,
            2.12,
            1.44,
            1.08,
            1.67,
            1.77,
            1.31,
            2.13,
            1.89,
            1.63,
            1.58,
            1.85,
            2.74,
            1.75,
            1.09,
            1.18,
            1.43,
            1.06,
            2.53,
            1.75,
            1.37,
            1.42,
            1.55,
            1.96,
            1.14,
            1.57,
            1.84,
            1.43,
            1.95,
            1.4,
            1.43,
            0.85,
            1.79,
            1.41,
            2.01,
            0.86,
            1.65,
            1.03,
            1.05,
            2.35,
            2.61,
            1.42,
            1.17,
            1.34,
            0.38,
            2.08,
            2.32,
            1.59,
            2.88,
            0.92,
            0.69,
            1.33,
            1.92,
            1.77,
            1.32,
            0.8,
            1.01,
            0.71,
            0.76,
            0.93,
            0.73,
            2.73,
            1.67,
            0.87,
            1.69,
            1.08,
            1.57,
            0.75,
            1.01,
            0.87,
            2.19,
            0.9,
            1.93,
            1.26,
            1.06,
            0.95,
            1.31,
            1.11,
            0.54,
            1.11,
            0.94,
            0.95,
            2.78,
            0.86,
            1.52,
            3.59,
            1.63,
            0.76,
            0.68,
            0.74,
            1.77,
            1.23,
            3.2,
            1.56,
            0.82,
            1.15,
            0.44,
            1.17,
            0.89,
            0.7,
            1.06,
            1.5,
            0.97,
            2.34,
            1.26,
            0.82,
            0.95,
            0.86,
            1.08,
            1.2,
            2.24,
            0.58,
            1.32,
            0.98,
            1.21,
            0.87,
            0.89,
            1.89,
            0.62,
            0.58,
            1.57,
            0.75,
            1.01,
            0.87,
            1.92,
            0.73,
            0.87,
            1.25,
            1.41,
            1.01,
            1.38,
            0.5,
            1.32,
            3.2,
            0.83,
            0.65,
            2.18,
            2.35,
            0.6,
            0.91,
            1.95,
            0.58,
            0.88,
            3.65,
            1.05,
            0.94,
            1.18,
            2.94,
            1.57,
            1.59,
            1.32,
            1.04,
            0.72,
            1.15,
            0.57,
            0.59,
            0.84,
            1.23,
            0.8,
            2.35,
            0.97,
            0.68,
            0.39,
            0.75,
            2.13,
            1.8,
            0.72,
            1.73,
            1.16,
            0.79,
            1.14,
            1.56,
            0.61,
            0.83,
            1.69,
            0.65,
            1.16,
            0.85,
            1.53,
            1.72,
            0.79,
            0.67,
            0.8,
            1.09,
            1.11,
            0.72,
            1.64,
            0.97,
            1.02,
            1.05,
            0.98,
            1.07,
            1.26,
            1.37,
            0.66,
            0.45,
            1.15,
            1.3,
            0.69,
            0.72,
            1.36,
            0.82,
            0.56,
            0.41,
            0.93,
            1.1,
            0.56,
            1.47,
            3.87,
            1.24,
            0.7,
            0.58,
            2.18,
            0.49,
            2.3,
            1.23,
            0.4,
            1.62,
            0.49,
            0.55,
            0.21,
            0.51,
            1.42,
            1.65,
            1.05,
            1.15,
            0.55,
            0.75,
            0.99,
            0.65,
            1.03,
            0.46,
            0.54,
            1.22,
            0.58,
            0.78,
            0.88,
            1.18,
            0.69,
            0.84,
            0.81,
            1.65,
            0.92,
            0.87,
            0.84,
            0.54,
            0.73,
            1.77,
            0.59,
            0.68,
            0.84,
            0.81,
            1.76,
            1.26,
            0.84,
            0.28,
            0.25,
            0.44,
            0.83,
            0.67,
            1.18,
            1,
            0.62,
            0.38,
            0.35,
            0.45,
            0.82,
            1.38,
            0.35,
            0.95,
            0.48,
            0.22,
            0.9,
            0.7,
            0.73,
            1.17,
            0.61,
            1.68,
            0.63,
            0.74,
            0.7,
            0.88,
            0.67,
            0.88,
            1.13,
            0.7,
            0.94,
            1.19,
            0.99,
            0.8,
            0.58,
            0.29,
            1.12,
            0.57,
            0.89,
            1.02,
            1.07,
            1.11,
            1.18,
            1.08,
            0.69,
            0.74,
            1.11,
            0.96,
            0.87,
            1.35,
            0.55,
            0.6,
            0.45,
            0.65,
            0.93,
            0.9,
            0.83,
            0.43,
            1.05,
            0.76,
            0.75,
            0.35,
            0.76,
            0.38,
            0.29,
            0.32,
            0.41,
            0.92,
            1.1,
            0.71,
            0.3,
            0.57,
            0.33,
            0.51,
            0.89,
            0.63,
            0.26,
            0.63,
            0.69,
            0.63,
            0.29,
            0.33,
            0.59,
            0.91,
            1.05,
            0.53,
            0.52,
            0.2,
            0.43,
            0.5,
            1.33,
            0.96,
            0.8,
            0.34,
            0.52,
            0.2,
            0.5,
            0.32,
            0.93,
            2.07,
            0.38,
            0.63,
            0.12,
            0.19,
            0.12,
            0.9,
            0.62,
            0.35,
            0.86,
            0.51
           ]
          },
          {
           "axis": {
            "matches": true
           },
           "label": "PF_Per_Game",
           "values": [
            2.11,
            2.07,
            2.74,
            2.98,
            1.77,
            2.4,
            3.08,
            1.7,
            1.63,
            2.6,
            1.4,
            1.81,
            2.79,
            2.36,
            2.36,
            1.66,
            2.28,
            2.12,
            2.14,
            2.89,
            3.1,
            2.71,
            1.99,
            2.9,
            3.67,
            2.79,
            1.96,
            2.2,
            2.12,
            1.54,
            1.86,
            2.5,
            1.91,
            2.24,
            1.93,
            2.48,
            2.68,
            2.6,
            2.12,
            2.82,
            2.66,
            1.61,
            2.27,
            3.35,
            2.85,
            2.29,
            2.38,
            3.04,
            2.39,
            2.26,
            3.72,
            1.42,
            1.78,
            1.73,
            2.1,
            3.15,
            2.38,
            2.02,
            2.34,
            1.8,
            2.33,
            1.75,
            1.68,
            3.46,
            1.77,
            2.98,
            1.87,
            2.44,
            1.82,
            3,
            2.34,
            2.17,
            2.33,
            2.89,
            1.98,
            1.77,
            1.72,
            2.16,
            2.75,
            2.23,
            2.19,
            2.57,
            2.03,
            2.56,
            1.71,
            2.15,
            2.28,
            1.89,
            2.36,
            2.27,
            1.79,
            1.9,
            2.34,
            1.92,
            2,
            2.3,
            1.31,
            1.68,
            2.06,
            3.4,
            2.59,
            2.59,
            1.41,
            2.95,
            2.36,
            2.98,
            2.24,
            2.92,
            1.42,
            1.79,
            1.72,
            0.61,
            2.24,
            1.64,
            2.15,
            2.73,
            1.86,
            2.62,
            2.49,
            2.16,
            1.84,
            2.03,
            2.44,
            2.39,
            2.14,
            3.01,
            2.61,
            1.19,
            2.88,
            3.1,
            1.56,
            2.05,
            1.94,
            1.7,
            2.54,
            2.22,
            1.9,
            2.06,
            3.08,
            2.01,
            2.36,
            1.96,
            2.22,
            1.96,
            2.58,
            3.03,
            1.73,
            1.85,
            2.04,
            1.87,
            2.2,
            1.94,
            1.78,
            1.92,
            1.52,
            1.09,
            1.64,
            1.77,
            1.15,
            2.38,
            1.87,
            2.59,
            2.06,
            2.33,
            1.25,
            2.87,
            2.43,
            1.88,
            1.45,
            2.41,
            2.47,
            1.66,
            1.8,
            1.41,
            2.02,
            1.05,
            2.81,
            2.4,
            1.46,
            1.44,
            1.78,
            2.01,
            2.22,
            1.99,
            1.57,
            2.49,
            3.27,
            1.46,
            2.53,
            2.73,
            2.59,
            1.69,
            2.19,
            2.08,
            1.12,
            1.7,
            1.81,
            1.61,
            1.36,
            2.11,
            1.78,
            1.88,
            3.43,
            2.32,
            1.7,
            1.35,
            2.54,
            1.41,
            1.27,
            2.05,
            2.21,
            1.68,
            1.47,
            1.68,
            1.25,
            1.55,
            2.29,
            2.48,
            2.18,
            1.08,
            2.46,
            2.79,
            1.29,
            1.63,
            1.53,
            1.71,
            1.83,
            1.46,
            1.59,
            1.86,
            2.01,
            2.94,
            1.85,
            1.73,
            1.08,
            1.84,
            2.33,
            1.52,
            1.2,
            2.55,
            1.58,
            2.31,
            1.9,
            1.82,
            1.87,
            1.61,
            2.72,
            1.22,
            1.57,
            2,
            1.58,
            1.68,
            1.09,
            1.98,
            2.6,
            1.33,
            0.84,
            2.19,
            3.15,
            1.24,
            2.33,
            2.59,
            1.44,
            1.26,
            1.21,
            2.28,
            1.03,
            3.21,
            2.3,
            1.51,
            2.39,
            1.77,
            1.52,
            0.63,
            1.4,
            0.95,
            1.18,
            1.58,
            1.74,
            1.09,
            1.19,
            1.15,
            1.53,
            1.31,
            1.33,
            1.33,
            1.79,
            1.34,
            2.28,
            1.88,
            1.59,
            1.54,
            2.26,
            1.53,
            2.11,
            2.48,
            1.37,
            1.83,
            1.65,
            1.7,
            3.14,
            1.59,
            1.79,
            2,
            1.62,
            1.81,
            1.13,
            1.45,
            0.45,
            1,
            1.21,
            2.13,
            1.27,
            2.08,
            1.83,
            0.89,
            1.09,
            0.45,
            0.94,
            0.84,
            1.91,
            0.61,
            0.98,
            0.98,
            0.83,
            1.86,
            1.64,
            2.01,
            1.58,
            1.42,
            2.39,
            1.92,
            1.53,
            2.26,
            1.85,
            1.04,
            1.98,
            0.98,
            1.22,
            1.78,
            2.7,
            2.86,
            2.23,
            1,
            0.91,
            2.61,
            1.12,
            2.23,
            1.31,
            1.55,
            1.95,
            2.03,
            1.71,
            1.75,
            1.58,
            1.16,
            2.27,
            1.34,
            1.81,
            1.46,
            1.64,
            1.17,
            1.05,
            1.4,
            1.88,
            1.75,
            1.19,
            2.13,
            0.85,
            1.07,
            1.24,
            2.27,
            1.68,
            0.56,
            1.2,
            1.1,
            1.69,
            1.46,
            1.6,
            1,
            1.38,
            1.58,
            1.74,
            1.5,
            1.23,
            0.89,
            1.59,
            1.34,
            1.97,
            1.01,
            0.44,
            0.88,
            1.69,
            1.72,
            0.9,
            1.71,
            1.53,
            0.52,
            0.42,
            0.83,
            1.33,
            1.3,
            2.21,
            1.23,
            0.67,
            1.17,
            0.8,
            1.04,
            1.82,
            1.49,
            0.62,
            0.53,
            0.85,
            0.33,
            2.5,
            1.48,
            1.25,
            1.71,
            0.44
           ]
          },
          {
           "axis": {
            "matches": true
           },
           "label": "PTS_Per_Game",
           "values": [
            28.32,
            28.9,
            23.51,
            28.82,
            27.39,
            27.01,
            29.23,
            28.45,
            25.29,
            24.58,
            21.46,
            21.35,
            14.86,
            17.52,
            24.94,
            25.47,
            27.58,
            25.11,
            18.2,
            14.74,
            21.47,
            27.06,
            19.15,
            26.61,
            24.4,
            21.1,
            21.93,
            21.83,
            25.8,
            22.41,
            18.53,
            22.67,
            18.68,
            21.08,
            15.2,
            25.57,
            22.14,
            16.24,
            24.38,
            16.65,
            21.42,
            15.39,
            15.73,
            19.29,
            14.99,
            19.32,
            23.56,
            22.15,
            16.95,
            15.77,
            16.45,
            17.65,
            14.26,
            12.83,
            16.57,
            17.21,
            13.16,
            13.26,
            18.66,
            12.64,
            18.08,
            17.44,
            17.25,
            15.6,
            17.21,
            7.69,
            14.28,
            8.54,
            17.11,
            13.86,
            13.68,
            11.88,
            16.25,
            13.88,
            16.51,
            13.94,
            18.82,
            12.36,
            11.75,
            16.13,
            14.28,
            11.48,
            14.86,
            13.03,
            16.69,
            20.38,
            13.26,
            15.11,
            11.05,
            18.48,
            15.94,
            9.01,
            18.95,
            18.06,
            17.85,
            14.1,
            15.8,
            6.93,
            12.2,
            14.34,
            12.87,
            15.35,
            11.9,
            8.22,
            12.22,
            15.6,
            15.3,
            13.44,
            9.74,
            10.99,
            9.97,
            8,
            9.46,
            10.41,
            21.84,
            13.26,
            9.9,
            11.13,
            10.09,
            9.78,
            10.69,
            12.11,
            6.16,
            13.69,
            8.3,
            12.51,
            10.45,
            10.09,
            9.84,
            9.66,
            10.22,
            9.11,
            12.74,
            7.6,
            8.03,
            19.96,
            7.34,
            12.59,
            17.8,
            9.77,
            4.76,
            9.23,
            7.36,
            10.1,
            9.51,
            19.44,
            9.58,
            7.99,
            7.67,
            4.47,
            13,
            7.34,
            8.76,
            11.65,
            11.75,
            7.94,
            19.86,
            9.65,
            10.54,
            9.7,
            9.77,
            6.93,
            6.38,
            14.46,
            7.31,
            12.78,
            5.95,
            8.7,
            9.68,
            8.21,
            15.61,
            7.02,
            5.83,
            7.62,
            12.2,
            7.91,
            7.93,
            15.32,
            5.86,
            9.11,
            7.55,
            8.81,
            8.93,
            13.38,
            3.69,
            7.47,
            16.27,
            5.75,
            5.81,
            8.42,
            10.77,
            6,
            8.02,
            16.69,
            6.96,
            7.97,
            19.88,
            15.95,
            10.34,
            10.79,
            14.88,
            10.08,
            11.15,
            8.7,
            9.86,
            8.67,
            8.13,
            6.05,
            5.32,
            6.83,
            9.62,
            11.2,
            15.95,
            3.85,
            5.81,
            5.12,
            6.74,
            14.23,
            16.87,
            7.65,
            10.96,
            8.96,
            7.62,
            8.46,
            9.54,
            5.82,
            8.3,
            7.91,
            5.24,
            9.32,
            5.31,
            9.66,
            12.1,
            7.18,
            4.95,
            5.82,
            7.12,
            7.75,
            5.12,
            14.08,
            14.06,
            8.38,
            8.65,
            7.81,
            15.39,
            5.85,
            9.13,
            5.46,
            5.02,
            12.65,
            10.71,
            7.92,
            6.61,
            12.98,
            8.28,
            5.46,
            4.61,
            9,
            9.56,
            5.47,
            16.12,
            18.01,
            10.45,
            9.63,
            8.88,
            10.85,
            5.46,
            12.25,
            9.27,
            7.1,
            8.39,
            5.58,
            10.51,
            2.24,
            3,
            12.62,
            13.32,
            8.99,
            10.2,
            2.67,
            6.31,
            8.06,
            9.71,
            5.33,
            4.74,
            4.86,
            10.12,
            4.52,
            9.18,
            6.59,
            6.34,
            5.22,
            5.87,
            6.66,
            16.09,
            7.6,
            5.12,
            4.62,
            2.76,
            5,
            9.44,
            3.65,
            9.69,
            6.58,
            8.08,
            4.97,
            6.95,
            7.03,
            1.45,
            3.24,
            4.62,
            9.18,
            5.47,
            7.54,
            7.01,
            6.74,
            4.35,
            3.94,
            4.68,
            4.73,
            11.14,
            3.26,
            9.47,
            3.55,
            2.44,
            5.31,
            7.6,
            7.5,
            9.85,
            7.42,
            9.45,
            5.35,
            4.81,
            6.37,
            7.51,
            5.35,
            5.82,
            6.31,
            5.69,
            11.62,
            16.58,
            7.17,
            8.23,
            3.29,
            2.17,
            9.28,
            2.74,
            9.73,
            13.41,
            7.29,
            8.11,
            7.83,
            5.4,
            6.98,
            5.41,
            5.64,
            5.86,
            9.87,
            7.21,
            5.47,
            6.58,
            4.29,
            5.31,
            5.97,
            6.53,
            4.48,
            5.22,
            7.48,
            6.08,
            3.65,
            3.78,
            5.88,
            6.41,
            3.39,
            3.53,
            6.17,
            10.46,
            7.66,
            6.19,
            5.44,
            4.03,
            3.42,
            2.88,
            6.36,
            3.69,
            4.4,
            7.15,
            5.92,
            6.58,
            2.99,
            1.61,
            6.66,
            7.46,
            7.65,
            3.23,
            3.74,
            2.93,
            4.42,
            2.17,
            1.92,
            8.75,
            3.8,
            3.14,
            3.86,
            3.07,
            5,
            3.12,
            5.35,
            13.49,
            3.92,
            5.18,
            1.24,
            1.5,
            1.36,
            3.89,
            3.71,
            2.85,
            7.46,
            1.56
           ]
          }
         ],
         "hovertemplate": "%{xaxis.title.text}=%{x}<br>%{yaxis.title.text}=%{y}<extra></extra>",
         "legendgroup": "",
         "marker": {
          "color": "#636efa",
          "symbol": "circle"
         },
         "name": "",
         "showlegend": false,
         "type": "splom"
        }
       ],
       "layout": {
        "dragmode": "select",
        "font": {
         "size": 6
        },
        "height": 1200,
        "legend": {
         "tracegroupgap": 0
        },
        "margin": {
         "t": 60
        },
        "template": {
         "data": {
          "bar": [
           {
            "error_x": {
             "color": "#2a3f5f"
            },
            "error_y": {
             "color": "#2a3f5f"
            },
            "marker": {
             "line": {
              "color": "#E5ECF6",
              "width": 0.5
             },
             "pattern": {
              "fillmode": "overlay",
              "size": 10,
              "solidity": 0.2
             }
            },
            "type": "bar"
           }
          ],
          "barpolar": [
           {
            "marker": {
             "line": {
              "color": "#E5ECF6",
              "width": 0.5
             },
             "pattern": {
              "fillmode": "overlay",
              "size": 10,
              "solidity": 0.2
             }
            },
            "type": "barpolar"
           }
          ],
          "carpet": [
           {
            "aaxis": {
             "endlinecolor": "#2a3f5f",
             "gridcolor": "white",
             "linecolor": "white",
             "minorgridcolor": "white",
             "startlinecolor": "#2a3f5f"
            },
            "baxis": {
             "endlinecolor": "#2a3f5f",
             "gridcolor": "white",
             "linecolor": "white",
             "minorgridcolor": "white",
             "startlinecolor": "#2a3f5f"
            },
            "type": "carpet"
           }
          ],
          "choropleth": [
           {
            "colorbar": {
             "outlinewidth": 0,
             "ticks": ""
            },
            "type": "choropleth"
           }
          ],
          "contour": [
           {
            "colorbar": {
             "outlinewidth": 0,
             "ticks": ""
            },
            "colorscale": [
             [
              0,
              "#0d0887"
             ],
             [
              0.1111111111111111,
              "#46039f"
             ],
             [
              0.2222222222222222,
              "#7201a8"
             ],
             [
              0.3333333333333333,
              "#9c179e"
             ],
             [
              0.4444444444444444,
              "#bd3786"
             ],
             [
              0.5555555555555556,
              "#d8576b"
             ],
             [
              0.6666666666666666,
              "#ed7953"
             ],
             [
              0.7777777777777778,
              "#fb9f3a"
             ],
             [
              0.8888888888888888,
              "#fdca26"
             ],
             [
              1,
              "#f0f921"
             ]
            ],
            "type": "contour"
           }
          ],
          "contourcarpet": [
           {
            "colorbar": {
             "outlinewidth": 0,
             "ticks": ""
            },
            "type": "contourcarpet"
           }
          ],
          "heatmap": [
           {
            "colorbar": {
             "outlinewidth": 0,
             "ticks": ""
            },
            "colorscale": [
             [
              0,
              "#0d0887"
             ],
             [
              0.1111111111111111,
              "#46039f"
             ],
             [
              0.2222222222222222,
              "#7201a8"
             ],
             [
              0.3333333333333333,
              "#9c179e"
             ],
             [
              0.4444444444444444,
              "#bd3786"
             ],
             [
              0.5555555555555556,
              "#d8576b"
             ],
             [
              0.6666666666666666,
              "#ed7953"
             ],
             [
              0.7777777777777778,
              "#fb9f3a"
             ],
             [
              0.8888888888888888,
              "#fdca26"
             ],
             [
              1,
              "#f0f921"
             ]
            ],
            "type": "heatmap"
           }
          ],
          "heatmapgl": [
           {
            "colorbar": {
             "outlinewidth": 0,
             "ticks": ""
            },
            "colorscale": [
             [
              0,
              "#0d0887"
             ],
             [
              0.1111111111111111,
              "#46039f"
             ],
             [
              0.2222222222222222,
              "#7201a8"
             ],
             [
              0.3333333333333333,
              "#9c179e"
             ],
             [
              0.4444444444444444,
              "#bd3786"
             ],
             [
              0.5555555555555556,
              "#d8576b"
             ],
             [
              0.6666666666666666,
              "#ed7953"
             ],
             [
              0.7777777777777778,
              "#fb9f3a"
             ],
             [
              0.8888888888888888,
              "#fdca26"
             ],
             [
              1,
              "#f0f921"
             ]
            ],
            "type": "heatmapgl"
           }
          ],
          "histogram": [
           {
            "marker": {
             "pattern": {
              "fillmode": "overlay",
              "size": 10,
              "solidity": 0.2
             }
            },
            "type": "histogram"
           }
          ],
          "histogram2d": [
           {
            "colorbar": {
             "outlinewidth": 0,
             "ticks": ""
            },
            "colorscale": [
             [
              0,
              "#0d0887"
             ],
             [
              0.1111111111111111,
              "#46039f"
             ],
             [
              0.2222222222222222,
              "#7201a8"
             ],
             [
              0.3333333333333333,
              "#9c179e"
             ],
             [
              0.4444444444444444,
              "#bd3786"
             ],
             [
              0.5555555555555556,
              "#d8576b"
             ],
             [
              0.6666666666666666,
              "#ed7953"
             ],
             [
              0.7777777777777778,
              "#fb9f3a"
             ],
             [
              0.8888888888888888,
              "#fdca26"
             ],
             [
              1,
              "#f0f921"
             ]
            ],
            "type": "histogram2d"
           }
          ],
          "histogram2dcontour": [
           {
            "colorbar": {
             "outlinewidth": 0,
             "ticks": ""
            },
            "colorscale": [
             [
              0,
              "#0d0887"
             ],
             [
              0.1111111111111111,
              "#46039f"
             ],
             [
              0.2222222222222222,
              "#7201a8"
             ],
             [
              0.3333333333333333,
              "#9c179e"
             ],
             [
              0.4444444444444444,
              "#bd3786"
             ],
             [
              0.5555555555555556,
              "#d8576b"
             ],
             [
              0.6666666666666666,
              "#ed7953"
             ],
             [
              0.7777777777777778,
              "#fb9f3a"
             ],
             [
              0.8888888888888888,
              "#fdca26"
             ],
             [
              1,
              "#f0f921"
             ]
            ],
            "type": "histogram2dcontour"
           }
          ],
          "mesh3d": [
           {
            "colorbar": {
             "outlinewidth": 0,
             "ticks": ""
            },
            "type": "mesh3d"
           }
          ],
          "parcoords": [
           {
            "line": {
             "colorbar": {
              "outlinewidth": 0,
              "ticks": ""
             }
            },
            "type": "parcoords"
           }
          ],
          "pie": [
           {
            "automargin": true,
            "type": "pie"
           }
          ],
          "scatter": [
           {
            "fillpattern": {
             "fillmode": "overlay",
             "size": 10,
             "solidity": 0.2
            },
            "type": "scatter"
           }
          ],
          "scatter3d": [
           {
            "line": {
             "colorbar": {
              "outlinewidth": 0,
              "ticks": ""
             }
            },
            "marker": {
             "colorbar": {
              "outlinewidth": 0,
              "ticks": ""
             }
            },
            "type": "scatter3d"
           }
          ],
          "scattercarpet": [
           {
            "marker": {
             "colorbar": {
              "outlinewidth": 0,
              "ticks": ""
             }
            },
            "type": "scattercarpet"
           }
          ],
          "scattergeo": [
           {
            "marker": {
             "colorbar": {
              "outlinewidth": 0,
              "ticks": ""
             }
            },
            "type": "scattergeo"
           }
          ],
          "scattergl": [
           {
            "marker": {
             "colorbar": {
              "outlinewidth": 0,
              "ticks": ""
             }
            },
            "type": "scattergl"
           }
          ],
          "scattermapbox": [
           {
            "marker": {
             "colorbar": {
              "outlinewidth": 0,
              "ticks": ""
             }
            },
            "type": "scattermapbox"
           }
          ],
          "scatterpolar": [
           {
            "marker": {
             "colorbar": {
              "outlinewidth": 0,
              "ticks": ""
             }
            },
            "type": "scatterpolar"
           }
          ],
          "scatterpolargl": [
           {
            "marker": {
             "colorbar": {
              "outlinewidth": 0,
              "ticks": ""
             }
            },
            "type": "scatterpolargl"
           }
          ],
          "scatterternary": [
           {
            "marker": {
             "colorbar": {
              "outlinewidth": 0,
              "ticks": ""
             }
            },
            "type": "scatterternary"
           }
          ],
          "surface": [
           {
            "colorbar": {
             "outlinewidth": 0,
             "ticks": ""
            },
            "colorscale": [
             [
              0,
              "#0d0887"
             ],
             [
              0.1111111111111111,
              "#46039f"
             ],
             [
              0.2222222222222222,
              "#7201a8"
             ],
             [
              0.3333333333333333,
              "#9c179e"
             ],
             [
              0.4444444444444444,
              "#bd3786"
             ],
             [
              0.5555555555555556,
              "#d8576b"
             ],
             [
              0.6666666666666666,
              "#ed7953"
             ],
             [
              0.7777777777777778,
              "#fb9f3a"
             ],
             [
              0.8888888888888888,
              "#fdca26"
             ],
             [
              1,
              "#f0f921"
             ]
            ],
            "type": "surface"
           }
          ],
          "table": [
           {
            "cells": {
             "fill": {
              "color": "#EBF0F8"
             },
             "line": {
              "color": "white"
             }
            },
            "header": {
             "fill": {
              "color": "#C8D4E3"
             },
             "line": {
              "color": "white"
             }
            },
            "type": "table"
           }
          ]
         },
         "layout": {
          "annotationdefaults": {
           "arrowcolor": "#2a3f5f",
           "arrowhead": 0,
           "arrowwidth": 1
          },
          "autotypenumbers": "strict",
          "coloraxis": {
           "colorbar": {
            "outlinewidth": 0,
            "ticks": ""
           }
          },
          "colorscale": {
           "diverging": [
            [
             0,
             "#8e0152"
            ],
            [
             0.1,
             "#c51b7d"
            ],
            [
             0.2,
             "#de77ae"
            ],
            [
             0.3,
             "#f1b6da"
            ],
            [
             0.4,
             "#fde0ef"
            ],
            [
             0.5,
             "#f7f7f7"
            ],
            [
             0.6,
             "#e6f5d0"
            ],
            [
             0.7,
             "#b8e186"
            ],
            [
             0.8,
             "#7fbc41"
            ],
            [
             0.9,
             "#4d9221"
            ],
            [
             1,
             "#276419"
            ]
           ],
           "sequential": [
            [
             0,
             "#0d0887"
            ],
            [
             0.1111111111111111,
             "#46039f"
            ],
            [
             0.2222222222222222,
             "#7201a8"
            ],
            [
             0.3333333333333333,
             "#9c179e"
            ],
            [
             0.4444444444444444,
             "#bd3786"
            ],
            [
             0.5555555555555556,
             "#d8576b"
            ],
            [
             0.6666666666666666,
             "#ed7953"
            ],
            [
             0.7777777777777778,
             "#fb9f3a"
            ],
            [
             0.8888888888888888,
             "#fdca26"
            ],
            [
             1,
             "#f0f921"
            ]
           ],
           "sequentialminus": [
            [
             0,
             "#0d0887"
            ],
            [
             0.1111111111111111,
             "#46039f"
            ],
            [
             0.2222222222222222,
             "#7201a8"
            ],
            [
             0.3333333333333333,
             "#9c179e"
            ],
            [
             0.4444444444444444,
             "#bd3786"
            ],
            [
             0.5555555555555556,
             "#d8576b"
            ],
            [
             0.6666666666666666,
             "#ed7953"
            ],
            [
             0.7777777777777778,
             "#fb9f3a"
            ],
            [
             0.8888888888888888,
             "#fdca26"
            ],
            [
             1,
             "#f0f921"
            ]
           ]
          },
          "colorway": [
           "#636efa",
           "#EF553B",
           "#00cc96",
           "#ab63fa",
           "#FFA15A",
           "#19d3f3",
           "#FF6692",
           "#B6E880",
           "#FF97FF",
           "#FECB52"
          ],
          "font": {
           "color": "#2a3f5f"
          },
          "geo": {
           "bgcolor": "white",
           "lakecolor": "white",
           "landcolor": "#E5ECF6",
           "showlakes": true,
           "showland": true,
           "subunitcolor": "white"
          },
          "hoverlabel": {
           "align": "left"
          },
          "hovermode": "closest",
          "mapbox": {
           "style": "light"
          },
          "paper_bgcolor": "white",
          "plot_bgcolor": "#E5ECF6",
          "polar": {
           "angularaxis": {
            "gridcolor": "white",
            "linecolor": "white",
            "ticks": ""
           },
           "bgcolor": "#E5ECF6",
           "radialaxis": {
            "gridcolor": "white",
            "linecolor": "white",
            "ticks": ""
           }
          },
          "scene": {
           "xaxis": {
            "backgroundcolor": "#E5ECF6",
            "gridcolor": "white",
            "gridwidth": 2,
            "linecolor": "white",
            "showbackground": true,
            "ticks": "",
            "zerolinecolor": "white"
           },
           "yaxis": {
            "backgroundcolor": "#E5ECF6",
            "gridcolor": "white",
            "gridwidth": 2,
            "linecolor": "white",
            "showbackground": true,
            "ticks": "",
            "zerolinecolor": "white"
           },
           "zaxis": {
            "backgroundcolor": "#E5ECF6",
            "gridcolor": "white",
            "gridwidth": 2,
            "linecolor": "white",
            "showbackground": true,
            "ticks": "",
            "zerolinecolor": "white"
           }
          },
          "shapedefaults": {
           "line": {
            "color": "#2a3f5f"
           }
          },
          "ternary": {
           "aaxis": {
            "gridcolor": "white",
            "linecolor": "white",
            "ticks": ""
           },
           "baxis": {
            "gridcolor": "white",
            "linecolor": "white",
            "ticks": ""
           },
           "bgcolor": "#E5ECF6",
           "caxis": {
            "gridcolor": "white",
            "linecolor": "white",
            "ticks": ""
           }
          },
          "title": {
           "x": 0.05
          },
          "xaxis": {
           "automargin": true,
           "gridcolor": "white",
           "linecolor": "white",
           "ticks": "",
           "title": {
            "standoff": 15
           },
           "zerolinecolor": "white",
           "zerolinewidth": 2
          },
          "yaxis": {
           "automargin": true,
           "gridcolor": "white",
           "linecolor": "white",
           "ticks": "",
           "title": {
            "standoff": 15
           },
           "zerolinecolor": "white",
           "zerolinewidth": 2
          }
         }
        },
        "title": {
         "text": "SPLOM"
        },
        "width": 1200
       }
      }
     },
     "metadata": {},
     "output_type": "display_data"
    }
   ],
   "source": [
    "#use a SPLOM chart to visually check for linear relationship\n",
    "fig = px.scatter_matrix(regression_df,\n",
    "                        dimensions=['Current_Contract', 'GS_Per_Game', \n",
    "                                    'MIN_Per_Game', 'FGM_Per_Game', \n",
    "                                    'FGA_Per_Game', 'FG3M_Per_Game', \n",
    "                                    'FG3A_Per_Game', 'FTM_Per_Game', \n",
    "                                    'FTA_Per_Game', 'OREB_Per_Game', \n",
    "                                    'DREB_Per_Game', 'AST_Per_Game', \n",
    "                                    'STL_Per_Game', 'BLK_Per_Game', \n",
    "                                    'TOV_Per_Game', 'PF_Per_Game',\n",
    "                                    'PTS_Per_Game'])\n",
    "\n",
    "# Update layout\n",
    "fig.update_layout(\n",
    "    title='SPLOM',\n",
    "    width=1200,\n",
    "    height=1200,\n",
    "    font=dict(size=6)\n",
    ")\n",
    "fig.show()"
   ]
  },
  {
   "cell_type": "markdown",
   "metadata": {},
   "source": [
    "I focused on the top row of the SPLOM chart to visually inspect if a linear relationship exists between Current_Contract and the other variables in the dataset. To confirm I will also print the Pearson correlation coefficient."
   ]
  },
  {
   "cell_type": "code",
   "execution_count": 20,
   "metadata": {},
   "outputs": [
    {
     "data": {
      "text/plain": [
       "Current_Contract    1.000000\n",
       "GS_Per_Game         0.705001\n",
       "MIN_Per_Game        0.723979\n",
       "FGM_Per_Game        0.833019\n",
       "FGA_Per_Game        0.799279\n",
       "FG3M_Per_Game       0.508811\n",
       "FG3A_Per_Game       0.509879\n",
       "FTM_Per_Game        0.776162\n",
       "FTA_Per_Game        0.758861\n",
       "OREB_Per_Game       0.190251\n",
       "DREB_Per_Game       0.597306\n",
       "AST_Per_Game        0.618480\n",
       "STL_Per_Game        0.530077\n",
       "BLK_Per_Game        0.271679\n",
       "TOV_Per_Game        0.713049\n",
       "PF_Per_Game         0.444709\n",
       "PTS_Per_Game        0.841468\n",
       "Name: Current_Contract, dtype: float64"
      ]
     },
     "execution_count": 20,
     "metadata": {},
     "output_type": "execute_result"
    }
   ],
   "source": [
    "#print Pearson's R to validate visual\n",
    "regression_df.corr(numeric_only=True)['Current_Contract']"
   ]
  },
  {
   "cell_type": "markdown",
   "metadata": {},
   "source": [
    "While some relationships are stronger than others, each variable has evidence of linearity. Next I will check for correlation."
   ]
  },
  {
   "cell_type": "code",
   "execution_count": 21,
   "metadata": {},
   "outputs": [],
   "source": [
    "#use correlation matrix to visualize correlations\n",
    "correlation_matrix = regression_df.corr(numeric_only= True)"
   ]
  },
  {
   "cell_type": "code",
   "execution_count": null,
   "metadata": {},
   "outputs": [],
   "source": [
    "#create heatmap\n",
    "fig = px.imshow(correlation_matrix,\n",
    "                x=correlation_matrix.index,\n",
    "                y=correlation_matrix.columns,\n",
    "                color_continuous_scale='temps',\n",
    "                zmin= -1,\n",
    "                zmax = 1,\n",
    "                text_auto= True)\n",
    "\n",
    "# Update layout\n",
    "fig.update_layout(\n",
    "    title='Correlation Heatmap',\n",
    "    width=800,\n",
    "    height=800\n",
    ")\n",
    "\n",
    "# Show plot\n",
    "fig.show()"
   ]
  },
  {
   "cell_type": "markdown",
   "metadata": {},
   "source": [
    "The following features have strong correlations to other features in the dataset and will be removed:\n",
    "- GS_Per_Game\n",
    "- MIN_Per_Game\n",
    "- FGA_Per_Game\n",
    "- FG3A_Per_Game\n",
    "- FTA_Per_Game\n",
    "- PTS_Per_Game\n",
    "- FTM_Per_Game\n",
    "- TOV_Per_Game"
   ]
  },
  {
   "cell_type": "code",
   "execution_count": 22,
   "metadata": {},
   "outputs": [],
   "source": [
    "#drop correlated columns\n",
    "correlated_cols = ['GS_Per_Game', 'MIN_Per_Game','FGA_Per_Game','FG3A_Per_Game',\n",
    "                   'FTA_Per_Game','PTS_Per_Game','FTM_Per_Game','TOV_Per_Game']\n",
    "\n",
    "regression_df.drop(columns= correlated_cols, inplace= True)"
   ]
  },
  {
   "cell_type": "markdown",
   "metadata": {},
   "source": [
    "Re-check correlations"
   ]
  },
  {
   "cell_type": "code",
   "execution_count": 23,
   "metadata": {},
   "outputs": [
    {
     "data": {
      "application/vnd.plotly.v1+json": {
       "config": {
        "plotlyServerURL": "https://plot.ly"
       },
       "data": [
        {
         "coloraxis": "coloraxis",
         "hovertemplate": "x: %{x}<br>y: %{y}<br>color: %{z}<extra></extra>",
         "name": "0",
         "texttemplate": "%{z}",
         "type": "heatmap",
         "x": [
          "Current_Contract",
          "FGM_Per_Game",
          "FG3M_Per_Game",
          "OREB_Per_Game",
          "DREB_Per_Game",
          "AST_Per_Game",
          "STL_Per_Game",
          "BLK_Per_Game",
          "PF_Per_Game"
         ],
         "xaxis": "x",
         "y": [
          "Current_Contract",
          "FGM_Per_Game",
          "FG3M_Per_Game",
          "OREB_Per_Game",
          "DREB_Per_Game",
          "AST_Per_Game",
          "STL_Per_Game",
          "BLK_Per_Game",
          "PF_Per_Game"
         ],
         "yaxis": "y",
         "z": [
          [
           1,
           0.8330193255710359,
           0.5088113905603064,
           0.19025121225767985,
           0.5973056227464743,
           0.6184799543784579,
           0.5300767907675538,
           0.2716787847645845,
           0.44470904672147693
          ],
          [
           0.8330193255710359,
           1,
           0.5769577431474212,
           0.2541280674950916,
           0.6938828754167062,
           0.6947025967757948,
           0.5950053009469806,
           0.27354317603224154,
           0.5583725645039628
          ],
          [
           0.5088113905603064,
           0.5769577431474212,
           1,
           -0.37047839548249606,
           0.15993846413116528,
           0.4622505501304422,
           0.42325060122344754,
           -0.19604717018004728,
           0.19200190516588667
          ],
          [
           0.19025121225767985,
           0.2541280674950916,
           -0.37047839548249606,
           1,
           0.6725027459077093,
           -0.034886089175128206,
           0.09701744718063811,
           0.6833186570115128,
           0.5125765895849909
          ],
          [
           0.5973056227464743,
           0.6938828754167062,
           0.15993846413116528,
           0.6725027459077093,
           1,
           0.4088264486956964,
           0.4156866218493364,
           0.5860394806938638,
           0.6518988998111199
          ],
          [
           0.6184799543784579,
           0.6947025967757948,
           0.4622505501304422,
           -0.034886089175128206,
           0.4088264486956964,
           1,
           0.7236263302748226,
           -0.0234983415906394,
           0.3708032426130284
          ],
          [
           0.5300767907675538,
           0.5950053009469806,
           0.42325060122344754,
           0.09701744718063811,
           0.4156866218493364,
           0.7236263302748226,
           1,
           0.14696855402303785,
           0.4946526732993175
          ],
          [
           0.2716787847645845,
           0.27354317603224154,
           -0.19604717018004728,
           0.6833186570115128,
           0.5860394806938638,
           -0.0234983415906394,
           0.14696855402303785,
           1,
           0.5206625539207965
          ],
          [
           0.44470904672147693,
           0.5583725645039628,
           0.19200190516588667,
           0.5125765895849909,
           0.6518988998111199,
           0.3708032426130284,
           0.4946526732993175,
           0.5206625539207965,
           1
          ]
         ]
        }
       ],
       "layout": {
        "coloraxis": {
         "cmax": 1,
         "cmin": -1,
         "colorscale": [
          [
           0,
           "rgb(0, 147, 146)"
          ],
          [
           0.16666666666666666,
           "rgb(57, 177, 133)"
          ],
          [
           0.3333333333333333,
           "rgb(156, 203, 134)"
          ],
          [
           0.5,
           "rgb(233, 226, 156)"
          ],
          [
           0.6666666666666666,
           "rgb(238, 180, 121)"
          ],
          [
           0.8333333333333334,
           "rgb(232, 132, 113)"
          ],
          [
           1,
           "rgb(207, 89, 126)"
          ]
         ]
        },
        "height": 800,
        "margin": {
         "t": 60
        },
        "template": {
         "data": {
          "bar": [
           {
            "error_x": {
             "color": "#2a3f5f"
            },
            "error_y": {
             "color": "#2a3f5f"
            },
            "marker": {
             "line": {
              "color": "#E5ECF6",
              "width": 0.5
             },
             "pattern": {
              "fillmode": "overlay",
              "size": 10,
              "solidity": 0.2
             }
            },
            "type": "bar"
           }
          ],
          "barpolar": [
           {
            "marker": {
             "line": {
              "color": "#E5ECF6",
              "width": 0.5
             },
             "pattern": {
              "fillmode": "overlay",
              "size": 10,
              "solidity": 0.2
             }
            },
            "type": "barpolar"
           }
          ],
          "carpet": [
           {
            "aaxis": {
             "endlinecolor": "#2a3f5f",
             "gridcolor": "white",
             "linecolor": "white",
             "minorgridcolor": "white",
             "startlinecolor": "#2a3f5f"
            },
            "baxis": {
             "endlinecolor": "#2a3f5f",
             "gridcolor": "white",
             "linecolor": "white",
             "minorgridcolor": "white",
             "startlinecolor": "#2a3f5f"
            },
            "type": "carpet"
           }
          ],
          "choropleth": [
           {
            "colorbar": {
             "outlinewidth": 0,
             "ticks": ""
            },
            "type": "choropleth"
           }
          ],
          "contour": [
           {
            "colorbar": {
             "outlinewidth": 0,
             "ticks": ""
            },
            "colorscale": [
             [
              0,
              "#0d0887"
             ],
             [
              0.1111111111111111,
              "#46039f"
             ],
             [
              0.2222222222222222,
              "#7201a8"
             ],
             [
              0.3333333333333333,
              "#9c179e"
             ],
             [
              0.4444444444444444,
              "#bd3786"
             ],
             [
              0.5555555555555556,
              "#d8576b"
             ],
             [
              0.6666666666666666,
              "#ed7953"
             ],
             [
              0.7777777777777778,
              "#fb9f3a"
             ],
             [
              0.8888888888888888,
              "#fdca26"
             ],
             [
              1,
              "#f0f921"
             ]
            ],
            "type": "contour"
           }
          ],
          "contourcarpet": [
           {
            "colorbar": {
             "outlinewidth": 0,
             "ticks": ""
            },
            "type": "contourcarpet"
           }
          ],
          "heatmap": [
           {
            "colorbar": {
             "outlinewidth": 0,
             "ticks": ""
            },
            "colorscale": [
             [
              0,
              "#0d0887"
             ],
             [
              0.1111111111111111,
              "#46039f"
             ],
             [
              0.2222222222222222,
              "#7201a8"
             ],
             [
              0.3333333333333333,
              "#9c179e"
             ],
             [
              0.4444444444444444,
              "#bd3786"
             ],
             [
              0.5555555555555556,
              "#d8576b"
             ],
             [
              0.6666666666666666,
              "#ed7953"
             ],
             [
              0.7777777777777778,
              "#fb9f3a"
             ],
             [
              0.8888888888888888,
              "#fdca26"
             ],
             [
              1,
              "#f0f921"
             ]
            ],
            "type": "heatmap"
           }
          ],
          "heatmapgl": [
           {
            "colorbar": {
             "outlinewidth": 0,
             "ticks": ""
            },
            "colorscale": [
             [
              0,
              "#0d0887"
             ],
             [
              0.1111111111111111,
              "#46039f"
             ],
             [
              0.2222222222222222,
              "#7201a8"
             ],
             [
              0.3333333333333333,
              "#9c179e"
             ],
             [
              0.4444444444444444,
              "#bd3786"
             ],
             [
              0.5555555555555556,
              "#d8576b"
             ],
             [
              0.6666666666666666,
              "#ed7953"
             ],
             [
              0.7777777777777778,
              "#fb9f3a"
             ],
             [
              0.8888888888888888,
              "#fdca26"
             ],
             [
              1,
              "#f0f921"
             ]
            ],
            "type": "heatmapgl"
           }
          ],
          "histogram": [
           {
            "marker": {
             "pattern": {
              "fillmode": "overlay",
              "size": 10,
              "solidity": 0.2
             }
            },
            "type": "histogram"
           }
          ],
          "histogram2d": [
           {
            "colorbar": {
             "outlinewidth": 0,
             "ticks": ""
            },
            "colorscale": [
             [
              0,
              "#0d0887"
             ],
             [
              0.1111111111111111,
              "#46039f"
             ],
             [
              0.2222222222222222,
              "#7201a8"
             ],
             [
              0.3333333333333333,
              "#9c179e"
             ],
             [
              0.4444444444444444,
              "#bd3786"
             ],
             [
              0.5555555555555556,
              "#d8576b"
             ],
             [
              0.6666666666666666,
              "#ed7953"
             ],
             [
              0.7777777777777778,
              "#fb9f3a"
             ],
             [
              0.8888888888888888,
              "#fdca26"
             ],
             [
              1,
              "#f0f921"
             ]
            ],
            "type": "histogram2d"
           }
          ],
          "histogram2dcontour": [
           {
            "colorbar": {
             "outlinewidth": 0,
             "ticks": ""
            },
            "colorscale": [
             [
              0,
              "#0d0887"
             ],
             [
              0.1111111111111111,
              "#46039f"
             ],
             [
              0.2222222222222222,
              "#7201a8"
             ],
             [
              0.3333333333333333,
              "#9c179e"
             ],
             [
              0.4444444444444444,
              "#bd3786"
             ],
             [
              0.5555555555555556,
              "#d8576b"
             ],
             [
              0.6666666666666666,
              "#ed7953"
             ],
             [
              0.7777777777777778,
              "#fb9f3a"
             ],
             [
              0.8888888888888888,
              "#fdca26"
             ],
             [
              1,
              "#f0f921"
             ]
            ],
            "type": "histogram2dcontour"
           }
          ],
          "mesh3d": [
           {
            "colorbar": {
             "outlinewidth": 0,
             "ticks": ""
            },
            "type": "mesh3d"
           }
          ],
          "parcoords": [
           {
            "line": {
             "colorbar": {
              "outlinewidth": 0,
              "ticks": ""
             }
            },
            "type": "parcoords"
           }
          ],
          "pie": [
           {
            "automargin": true,
            "type": "pie"
           }
          ],
          "scatter": [
           {
            "fillpattern": {
             "fillmode": "overlay",
             "size": 10,
             "solidity": 0.2
            },
            "type": "scatter"
           }
          ],
          "scatter3d": [
           {
            "line": {
             "colorbar": {
              "outlinewidth": 0,
              "ticks": ""
             }
            },
            "marker": {
             "colorbar": {
              "outlinewidth": 0,
              "ticks": ""
             }
            },
            "type": "scatter3d"
           }
          ],
          "scattercarpet": [
           {
            "marker": {
             "colorbar": {
              "outlinewidth": 0,
              "ticks": ""
             }
            },
            "type": "scattercarpet"
           }
          ],
          "scattergeo": [
           {
            "marker": {
             "colorbar": {
              "outlinewidth": 0,
              "ticks": ""
             }
            },
            "type": "scattergeo"
           }
          ],
          "scattergl": [
           {
            "marker": {
             "colorbar": {
              "outlinewidth": 0,
              "ticks": ""
             }
            },
            "type": "scattergl"
           }
          ],
          "scattermapbox": [
           {
            "marker": {
             "colorbar": {
              "outlinewidth": 0,
              "ticks": ""
             }
            },
            "type": "scattermapbox"
           }
          ],
          "scatterpolar": [
           {
            "marker": {
             "colorbar": {
              "outlinewidth": 0,
              "ticks": ""
             }
            },
            "type": "scatterpolar"
           }
          ],
          "scatterpolargl": [
           {
            "marker": {
             "colorbar": {
              "outlinewidth": 0,
              "ticks": ""
             }
            },
            "type": "scatterpolargl"
           }
          ],
          "scatterternary": [
           {
            "marker": {
             "colorbar": {
              "outlinewidth": 0,
              "ticks": ""
             }
            },
            "type": "scatterternary"
           }
          ],
          "surface": [
           {
            "colorbar": {
             "outlinewidth": 0,
             "ticks": ""
            },
            "colorscale": [
             [
              0,
              "#0d0887"
             ],
             [
              0.1111111111111111,
              "#46039f"
             ],
             [
              0.2222222222222222,
              "#7201a8"
             ],
             [
              0.3333333333333333,
              "#9c179e"
             ],
             [
              0.4444444444444444,
              "#bd3786"
             ],
             [
              0.5555555555555556,
              "#d8576b"
             ],
             [
              0.6666666666666666,
              "#ed7953"
             ],
             [
              0.7777777777777778,
              "#fb9f3a"
             ],
             [
              0.8888888888888888,
              "#fdca26"
             ],
             [
              1,
              "#f0f921"
             ]
            ],
            "type": "surface"
           }
          ],
          "table": [
           {
            "cells": {
             "fill": {
              "color": "#EBF0F8"
             },
             "line": {
              "color": "white"
             }
            },
            "header": {
             "fill": {
              "color": "#C8D4E3"
             },
             "line": {
              "color": "white"
             }
            },
            "type": "table"
           }
          ]
         },
         "layout": {
          "annotationdefaults": {
           "arrowcolor": "#2a3f5f",
           "arrowhead": 0,
           "arrowwidth": 1
          },
          "autotypenumbers": "strict",
          "coloraxis": {
           "colorbar": {
            "outlinewidth": 0,
            "ticks": ""
           }
          },
          "colorscale": {
           "diverging": [
            [
             0,
             "#8e0152"
            ],
            [
             0.1,
             "#c51b7d"
            ],
            [
             0.2,
             "#de77ae"
            ],
            [
             0.3,
             "#f1b6da"
            ],
            [
             0.4,
             "#fde0ef"
            ],
            [
             0.5,
             "#f7f7f7"
            ],
            [
             0.6,
             "#e6f5d0"
            ],
            [
             0.7,
             "#b8e186"
            ],
            [
             0.8,
             "#7fbc41"
            ],
            [
             0.9,
             "#4d9221"
            ],
            [
             1,
             "#276419"
            ]
           ],
           "sequential": [
            [
             0,
             "#0d0887"
            ],
            [
             0.1111111111111111,
             "#46039f"
            ],
            [
             0.2222222222222222,
             "#7201a8"
            ],
            [
             0.3333333333333333,
             "#9c179e"
            ],
            [
             0.4444444444444444,
             "#bd3786"
            ],
            [
             0.5555555555555556,
             "#d8576b"
            ],
            [
             0.6666666666666666,
             "#ed7953"
            ],
            [
             0.7777777777777778,
             "#fb9f3a"
            ],
            [
             0.8888888888888888,
             "#fdca26"
            ],
            [
             1,
             "#f0f921"
            ]
           ],
           "sequentialminus": [
            [
             0,
             "#0d0887"
            ],
            [
             0.1111111111111111,
             "#46039f"
            ],
            [
             0.2222222222222222,
             "#7201a8"
            ],
            [
             0.3333333333333333,
             "#9c179e"
            ],
            [
             0.4444444444444444,
             "#bd3786"
            ],
            [
             0.5555555555555556,
             "#d8576b"
            ],
            [
             0.6666666666666666,
             "#ed7953"
            ],
            [
             0.7777777777777778,
             "#fb9f3a"
            ],
            [
             0.8888888888888888,
             "#fdca26"
            ],
            [
             1,
             "#f0f921"
            ]
           ]
          },
          "colorway": [
           "#636efa",
           "#EF553B",
           "#00cc96",
           "#ab63fa",
           "#FFA15A",
           "#19d3f3",
           "#FF6692",
           "#B6E880",
           "#FF97FF",
           "#FECB52"
          ],
          "font": {
           "color": "#2a3f5f"
          },
          "geo": {
           "bgcolor": "white",
           "lakecolor": "white",
           "landcolor": "#E5ECF6",
           "showlakes": true,
           "showland": true,
           "subunitcolor": "white"
          },
          "hoverlabel": {
           "align": "left"
          },
          "hovermode": "closest",
          "mapbox": {
           "style": "light"
          },
          "paper_bgcolor": "white",
          "plot_bgcolor": "#E5ECF6",
          "polar": {
           "angularaxis": {
            "gridcolor": "white",
            "linecolor": "white",
            "ticks": ""
           },
           "bgcolor": "#E5ECF6",
           "radialaxis": {
            "gridcolor": "white",
            "linecolor": "white",
            "ticks": ""
           }
          },
          "scene": {
           "xaxis": {
            "backgroundcolor": "#E5ECF6",
            "gridcolor": "white",
            "gridwidth": 2,
            "linecolor": "white",
            "showbackground": true,
            "ticks": "",
            "zerolinecolor": "white"
           },
           "yaxis": {
            "backgroundcolor": "#E5ECF6",
            "gridcolor": "white",
            "gridwidth": 2,
            "linecolor": "white",
            "showbackground": true,
            "ticks": "",
            "zerolinecolor": "white"
           },
           "zaxis": {
            "backgroundcolor": "#E5ECF6",
            "gridcolor": "white",
            "gridwidth": 2,
            "linecolor": "white",
            "showbackground": true,
            "ticks": "",
            "zerolinecolor": "white"
           }
          },
          "shapedefaults": {
           "line": {
            "color": "#2a3f5f"
           }
          },
          "ternary": {
           "aaxis": {
            "gridcolor": "white",
            "linecolor": "white",
            "ticks": ""
           },
           "baxis": {
            "gridcolor": "white",
            "linecolor": "white",
            "ticks": ""
           },
           "bgcolor": "#E5ECF6",
           "caxis": {
            "gridcolor": "white",
            "linecolor": "white",
            "ticks": ""
           }
          },
          "title": {
           "x": 0.05
          },
          "xaxis": {
           "automargin": true,
           "gridcolor": "white",
           "linecolor": "white",
           "ticks": "",
           "title": {
            "standoff": 15
           },
           "zerolinecolor": "white",
           "zerolinewidth": 2
          },
          "yaxis": {
           "automargin": true,
           "gridcolor": "white",
           "linecolor": "white",
           "ticks": "",
           "title": {
            "standoff": 15
           },
           "zerolinecolor": "white",
           "zerolinewidth": 2
          }
         }
        },
        "title": {
         "text": "Correlation Heatmap"
        },
        "width": 800,
        "xaxis": {
         "anchor": "y",
         "constrain": "domain",
         "domain": [
          0,
          1
         ],
         "scaleanchor": "y"
        },
        "yaxis": {
         "anchor": "x",
         "autorange": "reversed",
         "constrain": "domain",
         "domain": [
          0,
          1
         ]
        }
       }
      }
     },
     "metadata": {},
     "output_type": "display_data"
    }
   ],
   "source": [
    "#use correlation matrix to visualize correlations\n",
    "correlation_matrix = regression_df.corr(numeric_only= True)\n",
    "\n",
    "#create heatmap\n",
    "fig = px.imshow(correlation_matrix,\n",
    "                x=correlation_matrix.index,\n",
    "                y=correlation_matrix.columns,\n",
    "                color_continuous_scale='temps',\n",
    "                zmin= -1,\n",
    "                zmax = 1,\n",
    "                text_auto= True)\n",
    "\n",
    "# Update layout\n",
    "fig.update_layout(\n",
    "    title='Correlation Heatmap',\n",
    "    width=800,\n",
    "    height=800\n",
    ")\n",
    "\n",
    "# Show plot\n",
    "fig.show()"
   ]
  },
  {
   "cell_type": "code",
   "execution_count": 25,
   "metadata": {},
   "outputs": [],
   "source": [
    "#save a copy of the final dataframe used for OLS\n",
    "regression_df.to_csv('../data/regression_df.csv', index = False)"
   ]
  },
  {
   "cell_type": "markdown",
   "metadata": {},
   "source": [
    "### 3. Regression Analysis"
   ]
  },
  {
   "cell_type": "markdown",
   "metadata": {},
   "source": [
    "Now, I will use the regression_df to understand how performance metrics impact contract values."
   ]
  },
  {
   "cell_type": "code",
   "execution_count": 26,
   "metadata": {},
   "outputs": [
    {
     "data": {
      "text/plain": [
       "Index(['Current_Contract', 'First_Name', 'Last_Name', 'PLAYER_ID',\n",
       "       'FGM_Per_Game', 'FG3M_Per_Game', 'OREB_Per_Game', 'DREB_Per_Game',\n",
       "       'AST_Per_Game', 'STL_Per_Game', 'BLK_Per_Game', 'PF_Per_Game',\n",
       "       'AST_Rate', 'TO_Rate', 'Score_Rate'],\n",
       "      dtype='object')"
      ]
     },
     "execution_count": 26,
     "metadata": {},
     "output_type": "execute_result"
    }
   ],
   "source": [
    "#view the columns\n",
    "regression_df.columns"
   ]
  },
  {
   "cell_type": "code",
   "execution_count": 27,
   "metadata": {},
   "outputs": [
    {
     "name": "stdout",
     "output_type": "stream",
     "text": [
      "                            OLS Regression Results                            \n",
      "==============================================================================\n",
      "Dep. Variable:       Current_Contract   R-squared:                       0.711\n",
      "Model:                            OLS   Adj. R-squared:                  0.706\n",
      "Method:                 Least Squares   F-statistic:                     126.2\n",
      "Date:                Tue, 20 Feb 2024   Prob (F-statistic):          1.46e-105\n",
      "Time:                        19:11:45   Log-Likelihood:                -7152.1\n",
      "No. Observations:                 419   AIC:                         1.432e+04\n",
      "Df Residuals:                     410   BIC:                         1.436e+04\n",
      "Df Model:                           8                                         \n",
      "Covariance Type:            nonrobust                                         \n",
      "=================================================================================\n",
      "                    coef    std err          t      P>|t|      [0.025      0.975]\n",
      "---------------------------------------------------------------------------------\n",
      "Intercept      1.105e+07   3.09e+05     35.725      0.000    1.04e+07    1.17e+07\n",
      "FGM_Per_Game   7.981e+06   6.75e+05     11.820      0.000    6.65e+06    9.31e+06\n",
      "FG3M_Per_Game  8.301e+05   5.29e+05      1.568      0.118   -2.11e+05    1.87e+06\n",
      "OREB_Per_Game -6.528e+05   6.28e+05     -1.039      0.299   -1.89e+06    5.82e+05\n",
      "DREB_Per_Game  9.273e+05   6.41e+05      1.446      0.149   -3.34e+05    2.19e+06\n",
      "AST_Per_Game   1.163e+06   5.72e+05      2.033      0.043    3.85e+04    2.29e+06\n",
      "STL_Per_Game   2.098e+05   4.89e+05      0.429      0.668   -7.52e+05    1.17e+06\n",
      "BLK_Per_Game   1.603e+06   4.62e+05      3.472      0.001    6.96e+05    2.51e+06\n",
      "PF_Per_Game   -1.072e+06   4.64e+05     -2.310      0.021   -1.98e+06    -1.6e+05\n",
      "==============================================================================\n",
      "Omnibus:                       22.489   Durbin-Watson:                   1.286\n",
      "Prob(Omnibus):                  0.000   Jarque-Bera (JB):               39.013\n",
      "Skew:                          -0.352   Prob(JB):                     3.38e-09\n",
      "Kurtosis:                       4.319   Cond. No.                         5.71\n",
      "==============================================================================\n",
      "\n",
      "Notes:\n",
      "[1] Standard Errors assume that the covariance matrix of the errors is correctly specified.\n"
     ]
    }
   ],
   "source": [
    "#Declare X and y variables\n",
    "X = regression_df[['FGM_Per_Game', 'FG3M_Per_Game', 'OREB_Per_Game', \n",
    "                        'DREB_Per_Game','AST_Per_Game', 'STL_Per_Game', \n",
    "                        'BLK_Per_Game', 'PF_Per_Game']]\n",
    "y = regression_df['Current_Contract']\n",
    "\n",
    "#Scale to variables to account for the difference in magnitude\n",
    "scaler = StandardScaler()\n",
    "X_scaled = scaler.fit_transform(X)\n",
    "X_scaled_df = pd.DataFrame(X_scaled, columns=X.columns)\n",
    "df_scaled = pd.concat([X_scaled_df, y], axis=1)\n",
    "\n",
    "#Fit the OLS regression model using the formula API\n",
    "formula = 'Current_Contract ~ ' + ' + '.join(df_scaled.columns[:-1])\n",
    "ols_model = sm.formula.ols(formula=formula, data=df_scaled).fit()\n",
    "\n",
    "#Print the model summary\n",
    "print(ols_model.summary())"
   ]
  },
  {
   "cell_type": "markdown",
   "metadata": {},
   "source": [
    "From the output above we can see 4 features have significance (P-value >.05). Let's fit a  model using the significant features only."
   ]
  },
  {
   "cell_type": "code",
   "execution_count": 28,
   "metadata": {},
   "outputs": [
    {
     "name": "stdout",
     "output_type": "stream",
     "text": [
      "                            OLS Regression Results                            \n",
      "==============================================================================\n",
      "Dep. Variable:       Current_Contract   R-squared:                       0.705\n",
      "Model:                            OLS   Adj. R-squared:                  0.702\n",
      "Method:                 Least Squares   F-statistic:                     247.5\n",
      "Date:                Tue, 20 Feb 2024   Prob (F-statistic):          2.40e-108\n",
      "Time:                        19:11:49   Log-Likelihood:                -7156.4\n",
      "No. Observations:                 419   AIC:                         1.432e+04\n",
      "Df Residuals:                     414   BIC:                         1.434e+04\n",
      "Df Model:                           4                                         \n",
      "Covariance Type:            nonrobust                                         \n",
      "================================================================================\n",
      "                   coef    std err          t      P>|t|      [0.025      0.975]\n",
      "--------------------------------------------------------------------------------\n",
      "Intercept     1.105e+07   3.11e+05     35.530      0.000    1.04e+07    1.17e+07\n",
      "FGM_Per_Game  8.953e+06   4.94e+05     18.113      0.000    7.98e+06    9.92e+06\n",
      "AST_Per_Game  1.385e+06   4.59e+05      3.019      0.003    4.83e+05    2.29e+06\n",
      "BLK_Per_Game  1.264e+06   3.87e+05      3.271      0.001    5.05e+05    2.02e+06\n",
      "PF_Per_Game  -9.875e+05   4.26e+05     -2.316      0.021   -1.83e+06   -1.49e+05\n",
      "==============================================================================\n",
      "Omnibus:                       20.094   Durbin-Watson:                   1.286\n",
      "Prob(Omnibus):                  0.000   Jarque-Bera (JB):               37.867\n",
      "Skew:                          -0.281   Prob(JB):                     5.99e-09\n",
      "Kurtosis:                       4.361   Cond. No.                         3.03\n",
      "==============================================================================\n",
      "\n",
      "Notes:\n",
      "[1] Standard Errors assume that the covariance matrix of the errors is correctly specified.\n"
     ]
    }
   ],
   "source": [
    "#Declare X and y variables\n",
    "X_final = regression_df[['FGM_Per_Game', 'AST_Per_Game', 'BLK_Per_Game', \n",
    "                   'PF_Per_Game']]\n",
    "y_final = regression_df['Current_Contract']\n",
    "\n",
    "#Scale to variables to account for the difference in magnitude\n",
    "scaler = StandardScaler()\n",
    "X_scaled_final = scaler.fit_transform(X_final)\n",
    "X_scaled_df_final = pd.DataFrame(X_scaled_final, columns=X_final.columns)\n",
    "df_scaled_final = pd.concat([X_scaled_df_final, y_final], axis=1)\n",
    "\n",
    "#Fit the OLS regression model using the formula API\n",
    "formula_final = 'Current_Contract ~ ' + ' + '.join(df_scaled_final.columns[:-1])\n",
    "ols_model_final = sm.formula.ols(formula=formula_final, \n",
    "                                 data=df_scaled_final).fit()\n",
    "\n",
    "#Print the model summary\n",
    "print(ols_model_final.summary())"
   ]
  },
  {
   "cell_type": "markdown",
   "metadata": {},
   "source": [
    "Interpret Results:\n",
    "- FGM_Per_Game: Increasing average FGs by 1 adds nearly 9 million dollars to contract value.\n",
    "- AST_Per_Game: Increasing average assists by 1 adds 1.3 million dollars to contract value.\n",
    "- BLK_Per_Game: Increasing average blocks by 1 adds 1.2 million dollars to contract value.\n",
    "- PF_Per_Game: Increasing average fouls by 1 subtracts 9.8 million dollars from contract value."
   ]
  }
 ],
 "metadata": {
  "kernelspec": {
   "display_name": "team24_milestone1",
   "language": "python",
   "name": "python3"
  },
  "language_info": {
   "codemirror_mode": {
    "name": "ipython",
    "version": 3
   },
   "file_extension": ".py",
   "mimetype": "text/x-python",
   "name": "python",
   "nbconvert_exporter": "python",
   "pygments_lexer": "ipython3",
   "version": "3.11.7"
  }
 },
 "nbformat": 4,
 "nbformat_minor": 2
}
